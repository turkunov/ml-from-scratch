{
 "cells": [
  {
   "cell_type": "markdown",
   "metadata": {},
   "source": [
    "KNN is one of the simpliest and most applicable classifiers. Its variations (such as TIFU-KNN: https://dl.acm.org/doi/abs/10.1145/3397271.3401066) are extremely widespread in RecSys.\n",
    "\n",
    "#### The algorithm behind KNN\n",
    "- We select the train sample, consisting of $X_{train}$ and corresponding labels $Y_{train}$, which ideally must be as big as possible to capture as much information as possible;\n",
    "- On new, unobserved sample, we select $K$ items from a sorted vector in ascending order that is calculated by $L_2(x_i,X_{train})$, where $L_2$ is an l-2 norm or Euclidean distance;\n",
    "- To get the best label-prediction for the sample we could simply take the mode of $Y_{train}$ that is clipped by $K$ nearest items"
   ]
  },
  {
   "cell_type": "code",
   "execution_count": 7,
   "metadata": {},
   "outputs": [],
   "source": [
    "import numpy as np\n",
    "\n",
    "class customKNN():\n",
    "\n",
    "    def __init__(self, k=5) -> None:\n",
    "        self.k = k\n",
    "        self.X = []\n",
    "        self.y = []\n",
    "\n",
    "    def _get_k_nearest(self, x_i):\n",
    "        return np.argsort(np.linalg.norm(\n",
    "            np.expand_dims(x_i,axis=0)-self.X, axis=0))[:self.k]\n",
    "\n",
    "    def fit(self, X_train, y_train):\n",
    "        self.X = np.array(X_train)\n",
    "        self.y = np.array(y_train)\n",
    "\n",
    "    def _get_mode(self, y_sample):\n",
    "        _, counts = np.unique(y_sample, return_counts=True)\n",
    "        return y_sample[np.argmax(counts)]\n",
    "\n",
    "    def predict(self, X):\n",
    "        return [self._get_mode(\n",
    "            self.y[self._get_k_nearest(x_i)]) for x_i in X]"
   ]
  },
  {
   "cell_type": "markdown",
   "metadata": {},
   "source": [
    "Yet again we can compare our own implementation with scikit-learn on their example provided in the docs for the KNN:"
   ]
  },
  {
   "cell_type": "code",
   "execution_count": 10,
   "metadata": {},
   "outputs": [
    {
     "data": {
      "text/plain": [
       "[0]"
      ]
     },
     "execution_count": 10,
     "metadata": {},
     "output_type": "execute_result"
    }
   ],
   "source": [
    "# custom implementation\n",
    "X = [[0, 2], [1, 2], [2, 3], [3, 4]]\n",
    "y = [0, 0, 1, 1]\n",
    "knn = customKNN(3)\n",
    "knn.fit(X, y)\n",
    "knn.predict([[1, 1]])"
   ]
  },
  {
   "cell_type": "code",
   "execution_count": 11,
   "metadata": {},
   "outputs": [
    {
     "data": {
      "text/plain": [
       "array([0])"
      ]
     },
     "execution_count": 11,
     "metadata": {},
     "output_type": "execute_result"
    }
   ],
   "source": [
    "# sklearn implementation\n",
    "from sklearn.neighbors import KNeighborsClassifier\n",
    "neigh = KNeighborsClassifier(n_neighbors=3)\n",
    "neigh.fit(X, y)\n",
    "neigh.predict([[1, 1]])"
   ]
  }
 ],
 "metadata": {
  "kernelspec": {
   "display_name": "regular",
   "language": "python",
   "name": "python3"
  },
  "language_info": {
   "codemirror_mode": {
    "name": "ipython",
    "version": 3
   },
   "file_extension": ".py",
   "mimetype": "text/x-python",
   "name": "python",
   "nbconvert_exporter": "python",
   "pygments_lexer": "ipython3",
   "version": "3.12.0"
  }
 },
 "nbformat": 4,
 "nbformat_minor": 2
}
