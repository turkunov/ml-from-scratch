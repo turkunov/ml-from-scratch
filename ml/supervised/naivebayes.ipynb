{
 "cells": [
  {
   "cell_type": "markdown",
   "metadata": {},
   "source": [
    "Naive Bayes (NB) is a classification algorithm applicable both to binary and multiclass problems. Just like any Bayes-powered framework NB is based on the Bayes formula, namely: $P(C_k|X)\\propto P(X|C_k)\\times P(C_k)$\n",
    "\n",
    "#### What does \"naive\" exactly mean in NB?\n",
    "Naivety of the NB framework is related to assuming that every event is independent, therefore instead of multiplying all possible combinations of $P(x_i|x_{i+1},x_{i+2},...,x_n,C_k)$ for each $X$ we just assume that $p\\left(x_i \\mid x_{i+1}, \\ldots, x_n, C_k\\right)=p\\left(x_i \\mid C_k\\right)$, therefore the overall $P(X|C_k)=\\prod P(x_i|C_k)$ and the overall optimization problem is reduced to $\\hat{y}=argmax_{k\\in{1,...,K}}[p(C_k)\\prod_{i=1}^Np(x_i|C_k)]$. Just like in Bayseian A/B testing , where we're challeging priors, here we could be dealing with different likelihoods, that are defined by the type of NB framework we're utilizing.\n",
    "\n",
    "#### Types of NB classifiers\n",
    "* Gaussian\n",
    "> When dealing with continuos data we're usually assuming that values associated with each class are distributed according to a normal distribution, i.e. $p\\left(x=v \\mid C_k\\right)=\\frac{1}{\\sqrt{2 \\pi \\sigma_k^2}} e^{-\\frac{\\left(v-\\mu_k\\right)^2}{2 \\sigma_k^2}}$\n",
    "* Multinomial\n",
    "> We use this type of NB when dealing with $X$ representing frequencies of certain events, for example a simpliest TF-IDF embedding, where features ($x_i$) represent words and values for these features represent weighted frequencies corresponding to each word. In the Multinomial case we're finding the best $C_k$ based of $log P(C_k|X)=b+w_k^T$, where $b=log p(C_k)$ and $w_{ki}=log p_{ki}$\n",
    "\n",
    "and others.."
   ]
  },
  {
   "cell_type": "markdown",
   "metadata": {},
   "source": [
    "For the sake of simplicity we're only going to be covering the implementation of the Gaussian NB:"
   ]
  },
  {
   "cell_type": "code",
   "execution_count": 41,
   "metadata": {},
   "outputs": [],
   "source": [
    "import numpy as np\n",
    "\n",
    "class GaussNB():\n",
    "    \n",
    "    def __init__(self) -> None:\n",
    "        self.X, self.y = None, None\n",
    "        self.C = []\n",
    "        self.params = []\n",
    "\n",
    "    def _calc_likelihood(self, x, eps=1e-6, **kwargs):\n",
    "        # note: epsilon is a small term to avoid zero division case\n",
    "        mu, var = kwargs['mu'], kwargs['var']\n",
    "        return (2*np.pi*var+eps)**(-.5) * \\\n",
    "            np.exp(-(x-mu)**2/(2*var+eps))\n",
    "        \n",
    "    def _calc_prior(self, C_k):\n",
    "        return (self.y == C_k).mean()\n",
    "    \n",
    "    def _calc_posteriors(self, sample):\n",
    "        posteriors = []\n",
    "        for C_k in self.C:\n",
    "            mu, var = self.params[C_k]['mu'], self.params[C_k]['var']\n",
    "            posterior = self._calc_prior(C_k)\n",
    "            for feature_value in sample:\n",
    "                posterior *= self._calc_likelihood(\n",
    "                    x=feature_value,\n",
    "                    mu=mu,var=var)\n",
    "            posteriors.append(posterior)\n",
    "        return posteriors\n",
    "\n",
    "    def fit_predict(self, X, y):\n",
    "        self.X = X\n",
    "        self.y = y\n",
    "        self.C = np.unique(y)\n",
    "        self.params = {C_k: {'mu': self.X[self.y==C_k].mean(),\n",
    "                             'var': self.X[self.y==C_k].var()} for C_k in self.C}\n",
    "        posteriors = [self._calc_posteriors(x_i) for x_i in self.X]\n",
    "        \n",
    "        return [self.C[np.argmax(posterior)] for posterior in posteriors]"
   ]
  },
  {
   "cell_type": "markdown",
   "metadata": {},
   "source": [
    "Now we can compare our own implementation with scikit's learn GaussianNB on the example provided in the docs:"
   ]
  },
  {
   "cell_type": "code",
   "execution_count": 21,
   "metadata": {},
   "outputs": [
    {
     "data": {
      "text/plain": [
       "<Axes: xlabel='x1', ylabel='x2'>"
      ]
     },
     "execution_count": 21,
     "metadata": {},
     "output_type": "execute_result"
    },
    {
     "data": {
      "image/png": "[encoded data removed]",
      "text/plain": [
       "<Figure size 500x300 with 1 Axes>"
      ]
     },
     "metadata": {},
     "output_type": "display_data"
    }
   ],
   "source": [
    "import matplotlib.pyplot as plt\n",
    "import pandas as pd\n",
    "import seaborn as sns\n",
    "\n",
    "X = [[-1, -1], [-2, -1], [-3, -2], [1, 1], [2, 1], [3, 2]]\n",
    "Y = [1, 1, 1, 2, 2, 2]\n",
    "trainDf = pd.DataFrame(list(zip(X,Y)), columns=['x','y'])\n",
    "trainDf['x1'], trainDf['x2'] = trainDf['x'].str[0], trainDf['x'].str[1]\n",
    "trainDf.drop(columns=['x'],inplace=True)\n",
    "plt.rcParams[\"figure.figsize\"] = (5,3)\n",
    "sns.scatterplot(data=trainDf,x='x1',y='x2',hue='y')"
   ]
  },
  {
   "cell_type": "code",
   "execution_count": 42,
   "metadata": {},
   "outputs": [
    {
     "data": {
      "text/plain": [
       "[1, 1, 1, 2, 2, 2]"
      ]
     },
     "execution_count": 42,
     "metadata": {},
     "output_type": "execute_result"
    }
   ],
   "source": [
    "# custom implementation\n",
    "GaussNB().fit_predict(np.array(X),np.array(Y))"
   ]
  },
  {
   "cell_type": "code",
   "execution_count": 40,
   "metadata": {},
   "outputs": [
    {
     "data": {
      "text/plain": [
       "array([1, 1, 1, 2, 2, 2])"
      ]
     },
     "execution_count": 40,
     "metadata": {},
     "output_type": "execute_result"
    }
   ],
   "source": [
    "# sklearn implementation\n",
    "from sklearn.naive_bayes import GaussianNB\n",
    "clf = GaussianNB()\n",
    "clf.fit(X,Y)\n",
    "clf.predict(X)"
   ]
  }
 ],
 "metadata": {
  "kernelspec": {
   "display_name": "regular",
   "language": "python",
   "name": "python3"
  },
  "language_info": {
   "codemirror_mode": {
    "name": "ipython",
    "version": 3
   },
   "file_extension": ".py",
   "mimetype": "text/x-python",
   "name": "python",
   "nbconvert_exporter": "python",
   "pygments_lexer": "ipython3",
   "version": "3.12.0"
  }
 },
 "nbformat": 4,
 "nbformat_minor": 2
}
