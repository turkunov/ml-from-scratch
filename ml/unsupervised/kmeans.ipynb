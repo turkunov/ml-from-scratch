{
 "cells": [
  {
   "cell_type": "markdown",
   "metadata": {},
   "source": [
    "K-means is a strictier clustering algorithm that finds the best single centroid for each cluster by itertatively adjusting its position against neighboring $K$ points by taking the average out of features, hence \"means\" in the name.\n",
    "\n",
    "#### Algorithm for K-means\n",
    "- Randomly choose $K$ centroids, for example by randomly selecting points from the sample as centroids\n",
    "- Until some maximum numer of iterations is reached or the difference between previous centroids and current ones is not significant we proceed with the following:\n",
    "    - We get the points related to the cluster by first finding the most distant unknown point and assigning every other point with a lower distance to the same cluster\n",
    "    - We recalculate the centroid position by taking the mean of all values inside the cluster"
   ]
  },
  {
   "cell_type": "code",
   "execution_count": 81,
   "metadata": {},
   "outputs": [],
   "source": [
    "import numpy as np\n",
    "import matplotlib.pyplot as plt\n",
    "\n",
    "class KMeans():\n",
    "\n",
    "    def __init__(self, k=2, max_iter=500, verbose=5) -> None:\n",
    "        \"\"\"\n",
    "        k: int\n",
    "         - number of clusters\n",
    "        max_iter: int\n",
    "         - maximum number of iterations\n",
    "        verbose: int\n",
    "         - verbose level (on every iteration % verbose = 0 do logging)\n",
    "        \"\"\"\n",
    "        self.k = k\n",
    "        self.verbose = verbose\n",
    "        self.max_dist = 0\n",
    "        self.clusters = []\n",
    "        self._is_converged = False\n",
    "        self.X = None\n",
    "        self.max_iter = max_iter\n",
    "        self.centroids = []\n",
    "\n",
    "    def _init_rand_centroids(self):\n",
    "        N = self.X.shape[0]\n",
    "        self.centroids = self.X[\n",
    "            np.random.choice(range(0,N),(self.k,),replace=False),\n",
    "        :]\n",
    "    \n",
    "    def _closest_centroid(self, sample):\n",
    "        return np.argmin(np.linalg.norm(\n",
    "            self.centroids-sample, axis=1))\n",
    "    \n",
    "    def _fill_clusters(self):\n",
    "        self.clusters = [[] for _ in range(self.k)]\n",
    "        for x_i in self.X:\n",
    "            closest_index = self._closest_centroid(x_i)\n",
    "            self.clusters[closest_index].append(x_i.tolist())\n",
    "            self.max_dist = max(self.max_dist, \n",
    "                           np.linalg.norm(\n",
    "                               self.centroids[closest_index,:]-x_i))\n",
    "    \n",
    "    def _adjust_centroids(self, index):\n",
    "        if index % self.verbose == 0:\n",
    "            print('[LOG] New clusters:', self.clusters)\n",
    "        new_centroids = np.array(self.clusters).mean(axis=1)\n",
    "        self._is_converged = not (self.centroids - new_centroids).any()\n",
    "        self.centroids = new_centroids\n",
    "\n",
    "    def fit_predict(self, X):\n",
    "        self.X = X\n",
    "        self._init_rand_centroids()\n",
    "        for i in range(self.max_iter):\n",
    "            self._fill_clusters()\n",
    "            self._adjust_centroids(i)\n",
    "            if self._is_converged:\n",
    "                break\n",
    "        return [self._closest_centroid(x_i) for x_i in self.X]"
   ]
  },
  {
   "cell_type": "markdown",
   "metadata": {},
   "source": [
    "Now we can compare our custom implementation with scikit-learn on their own example $X$ provided in KMeans docs:"
   ]
  },
  {
   "cell_type": "code",
   "execution_count": 77,
   "metadata": {},
   "outputs": [
    {
     "data": {
      "image/png": "[encoded data removed]",
      "text/plain": [
       "<Figure size 500x300 with 1 Axes>"
      ]
     },
     "metadata": {},
     "output_type": "display_data"
    }
   ],
   "source": [
    "X = np.array([[1, 2], [1, 4], [1, 0],\n",
    "            [10, 2], [10, 4], [10, 0]])\n",
    "plt.scatter(X[:,0],X[:,1])\n",
    "plt.rcParams[\"figure.figsize\"] = (5,3)"
   ]
  },
  {
   "cell_type": "code",
   "execution_count": 88,
   "metadata": {},
   "outputs": [
    {
     "name": "stdout",
     "output_type": "stream",
     "text": [
      "[LOG] New clusters: [[[1, 2], [1, 4], [1, 0]], [[10, 2], [10, 4], [10, 0]]]\n"
     ]
    },
    {
     "data": {
      "text/plain": [
       "[0, 0, 0, 1, 1, 1]"
      ]
     },
     "execution_count": 88,
     "metadata": {},
     "output_type": "execute_result"
    }
   ],
   "source": [
    "# custom implementation\n",
    "KMeans().fit_predict(X)"
   ]
  },
  {
   "cell_type": "code",
   "execution_count": 89,
   "metadata": {},
   "outputs": [
    {
     "name": "stderr",
     "output_type": "stream",
     "text": [
      "c:\\Users\\user\\miniconda3\\envs\\regular\\Lib\\site-packages\\sklearn\\cluster\\_kmeans.py:1416: FutureWarning: The default value of `n_init` will change from 10 to 'auto' in 1.4. Set the value of `n_init` explicitly to suppress the warning\n",
      "  super()._check_params_vs_input(X, default_n_init=10)\n"
     ]
    },
    {
     "data": {
      "text/plain": [
       "array([0, 0, 0, 1, 1, 1])"
      ]
     },
     "execution_count": 89,
     "metadata": {},
     "output_type": "execute_result"
    }
   ],
   "source": [
    "# sklearn implementation\n",
    "from sklearn.cluster import KMeans as KMeans_sklearn\n",
    "KMeans_sklearn(n_clusters=2).fit_predict(X)"
   ]
  },
  {
   "attachments": {
    "image.png": {
     "image/png": "[encoded data removed]"
    }
   },
   "cell_type": "markdown",
   "metadata": {},
   "source": [
    "Since KMeans is deterministic and assigns a particular class to each datapoint, we can find an efficient numer of clusters by plotting maximum differences in distances inside clusters over iterations. This method is called \"Elbow criterion\". What it says is that after some time the intensity of change in distance is not going to be significant and that would allow us to choose the most optimal $K$ that yeilds the most difference in distances:\n",
    "![image.png](attachment:image.png)"
   ]
  }
 ],
 "metadata": {
  "kernelspec": {
   "display_name": "regular",
   "language": "python",
   "name": "python3"
  },
  "language_info": {
   "codemirror_mode": {
    "name": "ipython",
    "version": 3
   },
   "file_extension": ".py",
   "mimetype": "text/x-python",
   "name": "python",
   "nbconvert_exporter": "python",
   "pygments_lexer": "ipython3",
   "version": "3.12.0"
  }
 },
 "nbformat": 4,
 "nbformat_minor": 2
}
