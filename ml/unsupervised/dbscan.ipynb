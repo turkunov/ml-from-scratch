{
 "cells": [
  {
   "cell_type": "markdown",
   "metadata": {},
   "source": [
    "DBSCAN is another clustering algorithm that is quite favored in real production (e.g., speaking from experience, in https://vk.com/). The intuition behind the algorithm is related to finding an \"approximation\" for the centroid of the cluster. Instead of searching for one particular centroid, we'll find a set of \"core points\" that make up for the cluster's centroid.\n",
    "\n",
    "#### When to use?\n",
    "It is used in data with lots of noise present, so, in practice, it is applicable to any clustering problem.\n",
    "\n",
    "#### Algorithm\n",
    "- We define scalars $\\epsilon$ and $\\text{min\\_samples}$, where the first one defines the distance that we find appropriate for two points to be related; the second one - minimum number of related points that one should have to become a \"core point\"\n",
    "- Go around points, determening whether they are core points or not. After that we will have \"approximate\" centroids of distinct clusters\n",
    "- Go around core points and assign the corresponding cluster's name to surrounding points based on whether they fall below some distance $\\epsilon$\n",
    "- All points that are left out of clusters now could be considered \"noise\""
   ]
  },
  {
   "cell_type": "code",
   "execution_count": 59,
   "metadata": {},
   "outputs": [],
   "source": [
    "import numpy as np\n",
    "\n",
    "class DBSCAN():\n",
    "\n",
    "    def __init__(self, eps=1, min_samples=6):\n",
    "        self.eps = eps\n",
    "        # subtracting one to count the centroid itself\n",
    "        self.min_samples = min_samples-1 \n",
    "        self.X = np.array([])\n",
    "        self.visited_indices = []\n",
    "        self.neighbors = {}\n",
    "        self.clusters = []\n",
    "        self.labels = []\n",
    "\n",
    "    def _get_neighbors(self, index):\n",
    "        \"\"\"\n",
    "        List of indices of neiboring points against X[index] \n",
    "        that fall within epsilon\n",
    "        \"\"\"\n",
    "        nb = []\n",
    "        for potential_nb_index in np.arange(0,self.X.shape[0])[\n",
    "            np.arange(0,self.X.shape[0])!=index]:\n",
    "\n",
    "            # if euclidean distance falls within epsilon\n",
    "            if np.linalg.norm(self.X[potential_nb_index] \\\n",
    "                              - self.X[index]) < self.eps:\n",
    "                nb.append(potential_nb_index)\n",
    "        return nb\n",
    "    \n",
    "    def _expand_cluster(self, index, nbs):\n",
    "        \"\"\" \n",
    "        Fill out clusters starting from approximate centroids\n",
    "        and work the way up to borders via recursion\n",
    "        \"\"\"\n",
    "        cluster = [index]\n",
    "        for nb in nbs:\n",
    "            if not nb in self.visited_indices:\n",
    "                self.visited_indices.append(nb)\n",
    "                \n",
    "                # determine if the data point is part of the centroid\n",
    "                # if it is, we are allowed to expand the cluster further\n",
    "                # otherwise, we've reached the border\n",
    "                self.neighbors[nb] = self._get_neighbors(nb)\n",
    "                if len(self.neighbors[nb]) >= self.min_samples:\n",
    "                    cluster += self._expand_cluster(nb,self.neighbors[nb])\n",
    "                else:\n",
    "                    cluster.append(nb)\n",
    "        return cluster\n",
    "    \n",
    "    def _assign_cluster_labels(self):\n",
    "        \"\"\"\n",
    "        Based on predicted clusters, return their labels\n",
    "        \"\"\"\n",
    "        for label, cluster in enumerate(self.clusters):\n",
    "            # each cluster is a list of indices\n",
    "            self.labels[cluster] = label\n",
    "        return self.labels\n",
    "    \n",
    "    def fit_predict(self, X):\n",
    "        self.X = X\n",
    "        \n",
    "        # assume that before determining clusters every datapoint\n",
    "        # is just noise\n",
    "        self.labels = np.full((self.X.shape[0], ),-1)\n",
    "        for index in range(self.X.shape[0]):\n",
    "            if not index in self.visited_indices:\n",
    "                self.neighbors[index] = self._get_neighbors(index)\n",
    "\n",
    "                # if the point is a potential core point\n",
    "                # otherwise we do not append it and treat it\n",
    "                # as an unclustered, unknown data point\n",
    "                if len(self.neighbors[index]) >= self.min_samples:\n",
    "                    self.visited_indices.append(index)\n",
    "                    self.clusters.append(\n",
    "                        self._expand_cluster(index, self.neighbors[index])\n",
    "                    )\n",
    "        return self._assign_cluster_labels()"
   ]
  },
  {
   "cell_type": "markdown",
   "metadata": {},
   "source": [
    "Now we can compare our custom implementation with scikit-learn on their own example $X$ provided in DBSCAN docs:"
   ]
  },
  {
   "cell_type": "code",
   "execution_count": 70,
   "metadata": {},
   "outputs": [
    {
     "data": {
      "image/png": "[encoded data removed]",
      "text/plain": [
       "<Figure size 500x300 with 1 Axes>"
      ]
     },
     "metadata": {},
     "output_type": "display_data"
    }
   ],
   "source": [
    "import matplotlib.pyplot as plt\n",
    "\n",
    "X = np.array([[1, 2], [2, 2], [2, 3],\n",
    "            [8, 7], [8, 8], [25, 80]])\n",
    "plt.scatter(X[:,0],X[:,1])\n",
    "plt.rcParams[\"figure.figsize\"] = (5,3)"
   ]
  },
  {
   "cell_type": "code",
   "execution_count": 73,
   "metadata": {},
   "outputs": [
    {
     "data": {
      "text/plain": [
       "array([ 0,  0,  0,  1,  1, -1])"
      ]
     },
     "execution_count": 73,
     "metadata": {},
     "output_type": "execute_result"
    }
   ],
   "source": [
    "# custom implementation\n",
    "DBSCAN(eps=3,min_samples=2).fit_predict(X)"
   ]
  },
  {
   "cell_type": "code",
   "execution_count": 71,
   "metadata": {},
   "outputs": [
    {
     "data": {
      "text/plain": [
       "array([ 0,  0,  0,  1,  1, -1], dtype=int64)"
      ]
     },
     "execution_count": 71,
     "metadata": {},
     "output_type": "execute_result"
    }
   ],
   "source": [
    "# sklearn implementation\n",
    "from sklearn.cluster import DBSCAN as DBSCAN_sklearn\n",
    "DBSCAN_sklearn(eps=3, min_samples=2).fit_predict(X)"
   ]
  }
 ],
 "metadata": {
  "kernelspec": {
   "display_name": "regular",
   "language": "python",
   "name": "python3"
  },
  "language_info": {
   "codemirror_mode": {
    "name": "ipython",
    "version": 3
   },
   "file_extension": ".py",
   "mimetype": "text/x-python",
   "name": "python",
   "nbconvert_exporter": "python",
   "pygments_lexer": "ipython3",
   "version": "3.12.0"
  }
 },
 "nbformat": 4,
 "nbformat_minor": 2
}
