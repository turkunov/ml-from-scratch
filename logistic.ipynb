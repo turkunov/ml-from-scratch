{
 "cells": [
  {
   "cell_type": "markdown",
   "metadata": {},
   "source": [
    "Logistic regression is a common model for classification problems. It is applicabale to both binary and multiclass classification, however for starters it's necessary to understand the logic behind the use of logistic regression in binary classification problem. \n",
    "<br/><br/>\n",
    "The basis of logistic regression is **sigmoid** function: $\\sigma(x)=\\frac{1}{1+e^{-x}}$ It's highly applicable in classification problemnts, since it is close to either 0 or 1 across most of its domain:"
   ]
  },
  {
   "cell_type": "code",
   "execution_count": 1,
   "metadata": {},
   "outputs": [
    {
     "data": {
      "application/vnd.plotly.v1+json": {
       "config": {
        "plotlyServerURL": "https://plot.ly"
       },
       "data": [
        {
         "hovertemplate": "x=%{x}<br>y=%{y}<extra></extra>",
         "legendgroup": "",
         "line": {
          "color": "#636efa",
          "dash": "solid"
         },
         "marker": {
          "symbol": "circle"
         },
         "mode": "lines",
         "name": "",
         "orientation": "v",
         "showlegend": false,
         "type": "scatter",
         "x": [
          -20,
          -19,
          -18,
          -17,
          -16,
          -15,
          -14,
          -13,
          -12,
          -11,
          -10,
          -9,
          -8,
          -7,
          -6,
          -5,
          -4,
          -3,
          -2,
          -1,
          0,
          1,
          2,
          3,
          4,
          5,
          6,
          7,
          8,
          9,
          10,
          11,
          12,
          13,
          14,
          15,
          16,
          17,
          18,
          19
         ],
         "xaxis": "x",
         "y": [
          2.0611536181902037e-9,
          5.602796406145941e-9,
          1.522997951276035e-8,
          4.1399375473943306e-8,
          1.12535162055095e-7,
          3.059022269256247e-7,
          8.315280276641321e-7,
          0.0000022603242979035746,
          0.000006144174602214718,
          0.00001670142184809518,
          0.000045397868702434395,
          0.00012339457598623172,
          0.0003353501304664781,
          0.0009110511944006454,
          0.0024726231566347743,
          0.0066928509242848554,
          0.01798620996209156,
          0.04742587317756678,
          0.11920292202211755,
          0.2689414213699951,
          0.5,
          0.7310585786300049,
          0.8807970779778823,
          0.9525741268224334,
          0.9820137900379085,
          0.9933071490757153,
          0.9975273768433653,
          0.9990889488055994,
          0.9996646498695336,
          0.9998766054240137,
          0.9999546021312976,
          0.999983298578152,
          0.9999938558253978,
          0.999997739675702,
          0.9999991684719722,
          0.999999694097773,
          0.9999998874648379,
          0.9999999586006244,
          0.9999999847700205,
          0.9999999943972036
         ],
         "yaxis": "y"
        }
       ],
       "layout": {
        "legend": {
         "tracegroupgap": 0
        },
        "template": {
         "data": {
          "bar": [
           {
            "error_x": {
             "color": "#2a3f5f"
            },
            "error_y": {
             "color": "#2a3f5f"
            },
            "marker": {
             "line": {
              "color": "#E5ECF6",
              "width": 0.5
             },
             "pattern": {
              "fillmode": "overlay",
              "size": 10,
              "solidity": 0.2
             }
            },
            "type": "bar"
           }
          ],
          "barpolar": [
           {
            "marker": {
             "line": {
              "color": "#E5ECF6",
              "width": 0.5
             },
             "pattern": {
              "fillmode": "overlay",
              "size": 10,
              "solidity": 0.2
             }
            },
            "type": "barpolar"
           }
          ],
          "carpet": [
           {
            "aaxis": {
             "endlinecolor": "#2a3f5f",
             "gridcolor": "white",
             "linecolor": "white",
             "minorgridcolor": "white",
             "startlinecolor": "#2a3f5f"
            },
            "baxis": {
             "endlinecolor": "#2a3f5f",
             "gridcolor": "white",
             "linecolor": "white",
             "minorgridcolor": "white",
             "startlinecolor": "#2a3f5f"
            },
            "type": "carpet"
           }
          ],
          "choropleth": [
           {
            "colorbar": {
             "outlinewidth": 0,
             "ticks": ""
            },
            "type": "choropleth"
           }
          ],
          "contour": [
           {
            "colorbar": {
             "outlinewidth": 0,
             "ticks": ""
            },
            "colorscale": [
             [
              0,
              "#0d0887"
             ],
             [
              0.1111111111111111,
              "#46039f"
             ],
             [
              0.2222222222222222,
              "#7201a8"
             ],
             [
              0.3333333333333333,
              "#9c179e"
             ],
             [
              0.4444444444444444,
              "#bd3786"
             ],
             [
              0.5555555555555556,
              "#d8576b"
             ],
             [
              0.6666666666666666,
              "#ed7953"
             ],
             [
              0.7777777777777778,
              "#fb9f3a"
             ],
             [
              0.8888888888888888,
              "#fdca26"
             ],
             [
              1,
              "#f0f921"
             ]
            ],
            "type": "contour"
           }
          ],
          "contourcarpet": [
           {
            "colorbar": {
             "outlinewidth": 0,
             "ticks": ""
            },
            "type": "contourcarpet"
           }
          ],
          "heatmap": [
           {
            "colorbar": {
             "outlinewidth": 0,
             "ticks": ""
            },
            "colorscale": [
             [
              0,
              "#0d0887"
             ],
             [
              0.1111111111111111,
              "#46039f"
             ],
             [
              0.2222222222222222,
              "#7201a8"
             ],
             [
              0.3333333333333333,
              "#9c179e"
             ],
             [
              0.4444444444444444,
              "#bd3786"
             ],
             [
              0.5555555555555556,
              "#d8576b"
             ],
             [
              0.6666666666666666,
              "#ed7953"
             ],
             [
              0.7777777777777778,
              "#fb9f3a"
             ],
             [
              0.8888888888888888,
              "#fdca26"
             ],
             [
              1,
              "#f0f921"
             ]
            ],
            "type": "heatmap"
           }
          ],
          "heatmapgl": [
           {
            "colorbar": {
             "outlinewidth": 0,
             "ticks": ""
            },
            "colorscale": [
             [
              0,
              "#0d0887"
             ],
             [
              0.1111111111111111,
              "#46039f"
             ],
             [
              0.2222222222222222,
              "#7201a8"
             ],
             [
              0.3333333333333333,
              "#9c179e"
             ],
             [
              0.4444444444444444,
              "#bd3786"
             ],
             [
              0.5555555555555556,
              "#d8576b"
             ],
             [
              0.6666666666666666,
              "#ed7953"
             ],
             [
              0.7777777777777778,
              "#fb9f3a"
             ],
             [
              0.8888888888888888,
              "#fdca26"
             ],
             [
              1,
              "#f0f921"
             ]
            ],
            "type": "heatmapgl"
           }
          ],
          "histogram": [
           {
            "marker": {
             "pattern": {
              "fillmode": "overlay",
              "size": 10,
              "solidity": 0.2
             }
            },
            "type": "histogram"
           }
          ],
          "histogram2d": [
           {
            "colorbar": {
             "outlinewidth": 0,
             "ticks": ""
            },
            "colorscale": [
             [
              0,
              "#0d0887"
             ],
             [
              0.1111111111111111,
              "#46039f"
             ],
             [
              0.2222222222222222,
              "#7201a8"
             ],
             [
              0.3333333333333333,
              "#9c179e"
             ],
             [
              0.4444444444444444,
              "#bd3786"
             ],
             [
              0.5555555555555556,
              "#d8576b"
             ],
             [
              0.6666666666666666,
              "#ed7953"
             ],
             [
              0.7777777777777778,
              "#fb9f3a"
             ],
             [
              0.8888888888888888,
              "#fdca26"
             ],
             [
              1,
              "#f0f921"
             ]
            ],
            "type": "histogram2d"
           }
          ],
          "histogram2dcontour": [
           {
            "colorbar": {
             "outlinewidth": 0,
             "ticks": ""
            },
            "colorscale": [
             [
              0,
              "#0d0887"
             ],
             [
              0.1111111111111111,
              "#46039f"
             ],
             [
              0.2222222222222222,
              "#7201a8"
             ],
             [
              0.3333333333333333,
              "#9c179e"
             ],
             [
              0.4444444444444444,
              "#bd3786"
             ],
             [
              0.5555555555555556,
              "#d8576b"
             ],
             [
              0.6666666666666666,
              "#ed7953"
             ],
             [
              0.7777777777777778,
              "#fb9f3a"
             ],
             [
              0.8888888888888888,
              "#fdca26"
             ],
             [
              1,
              "#f0f921"
             ]
            ],
            "type": "histogram2dcontour"
           }
          ],
          "mesh3d": [
           {
            "colorbar": {
             "outlinewidth": 0,
             "ticks": ""
            },
            "type": "mesh3d"
           }
          ],
          "parcoords": [
           {
            "line": {
             "colorbar": {
              "outlinewidth": 0,
              "ticks": ""
             }
            },
            "type": "parcoords"
           }
          ],
          "pie": [
           {
            "automargin": true,
            "type": "pie"
           }
          ],
          "scatter": [
           {
            "fillpattern": {
             "fillmode": "overlay",
             "size": 10,
             "solidity": 0.2
            },
            "type": "scatter"
           }
          ],
          "scatter3d": [
           {
            "line": {
             "colorbar": {
              "outlinewidth": 0,
              "ticks": ""
             }
            },
            "marker": {
             "colorbar": {
              "outlinewidth": 0,
              "ticks": ""
             }
            },
            "type": "scatter3d"
           }
          ],
          "scattercarpet": [
           {
            "marker": {
             "colorbar": {
              "outlinewidth": 0,
              "ticks": ""
             }
            },
            "type": "scattercarpet"
           }
          ],
          "scattergeo": [
           {
            "marker": {
             "colorbar": {
              "outlinewidth": 0,
              "ticks": ""
             }
            },
            "type": "scattergeo"
           }
          ],
          "scattergl": [
           {
            "marker": {
             "colorbar": {
              "outlinewidth": 0,
              "ticks": ""
             }
            },
            "type": "scattergl"
           }
          ],
          "scattermapbox": [
           {
            "marker": {
             "colorbar": {
              "outlinewidth": 0,
              "ticks": ""
             }
            },
            "type": "scattermapbox"
           }
          ],
          "scatterpolar": [
           {
            "marker": {
             "colorbar": {
              "outlinewidth": 0,
              "ticks": ""
             }
            },
            "type": "scatterpolar"
           }
          ],
          "scatterpolargl": [
           {
            "marker": {
             "colorbar": {
              "outlinewidth": 0,
              "ticks": ""
             }
            },
            "type": "scatterpolargl"
           }
          ],
          "scatterternary": [
           {
            "marker": {
             "colorbar": {
              "outlinewidth": 0,
              "ticks": ""
             }
            },
            "type": "scatterternary"
           }
          ],
          "surface": [
           {
            "colorbar": {
             "outlinewidth": 0,
             "ticks": ""
            },
            "colorscale": [
             [
              0,
              "#0d0887"
             ],
             [
              0.1111111111111111,
              "#46039f"
             ],
             [
              0.2222222222222222,
              "#7201a8"
             ],
             [
              0.3333333333333333,
              "#9c179e"
             ],
             [
              0.4444444444444444,
              "#bd3786"
             ],
             [
              0.5555555555555556,
              "#d8576b"
             ],
             [
              0.6666666666666666,
              "#ed7953"
             ],
             [
              0.7777777777777778,
              "#fb9f3a"
             ],
             [
              0.8888888888888888,
              "#fdca26"
             ],
             [
              1,
              "#f0f921"
             ]
            ],
            "type": "surface"
           }
          ],
          "table": [
           {
            "cells": {
             "fill": {
              "color": "#EBF0F8"
             },
             "line": {
              "color": "white"
             }
            },
            "header": {
             "fill": {
              "color": "#C8D4E3"
             },
             "line": {
              "color": "white"
             }
            },
            "type": "table"
           }
          ]
         },
         "layout": {
          "annotationdefaults": {
           "arrowcolor": "#2a3f5f",
           "arrowhead": 0,
           "arrowwidth": 1
          },
          "autotypenumbers": "strict",
          "coloraxis": {
           "colorbar": {
            "outlinewidth": 0,
            "ticks": ""
           }
          },
          "colorscale": {
           "diverging": [
            [
             0,
             "#8e0152"
            ],
            [
             0.1,
             "#c51b7d"
            ],
            [
             0.2,
             "#de77ae"
            ],
            [
             0.3,
             "#f1b6da"
            ],
            [
             0.4,
             "#fde0ef"
            ],
            [
             0.5,
             "#f7f7f7"
            ],
            [
             0.6,
             "#e6f5d0"
            ],
            [
             0.7,
             "#b8e186"
            ],
            [
             0.8,
             "#7fbc41"
            ],
            [
             0.9,
             "#4d9221"
            ],
            [
             1,
             "#276419"
            ]
           ],
           "sequential": [
            [
             0,
             "#0d0887"
            ],
            [
             0.1111111111111111,
             "#46039f"
            ],
            [
             0.2222222222222222,
             "#7201a8"
            ],
            [
             0.3333333333333333,
             "#9c179e"
            ],
            [
             0.4444444444444444,
             "#bd3786"
            ],
            [
             0.5555555555555556,
             "#d8576b"
            ],
            [
             0.6666666666666666,
             "#ed7953"
            ],
            [
             0.7777777777777778,
             "#fb9f3a"
            ],
            [
             0.8888888888888888,
             "#fdca26"
            ],
            [
             1,
             "#f0f921"
            ]
           ],
           "sequentialminus": [
            [
             0,
             "#0d0887"
            ],
            [
             0.1111111111111111,
             "#46039f"
            ],
            [
             0.2222222222222222,
             "#7201a8"
            ],
            [
             0.3333333333333333,
             "#9c179e"
            ],
            [
             0.4444444444444444,
             "#bd3786"
            ],
            [
             0.5555555555555556,
             "#d8576b"
            ],
            [
             0.6666666666666666,
             "#ed7953"
            ],
            [
             0.7777777777777778,
             "#fb9f3a"
            ],
            [
             0.8888888888888888,
             "#fdca26"
            ],
            [
             1,
             "#f0f921"
            ]
           ]
          },
          "colorway": [
           "#636efa",
           "#EF553B",
           "#00cc96",
           "#ab63fa",
           "#FFA15A",
           "#19d3f3",
           "#FF6692",
           "#B6E880",
           "#FF97FF",
           "#FECB52"
          ],
          "font": {
           "color": "#2a3f5f"
          },
          "geo": {
           "bgcolor": "white",
           "lakecolor": "white",
           "landcolor": "#E5ECF6",
           "showlakes": true,
           "showland": true,
           "subunitcolor": "white"
          },
          "hoverlabel": {
           "align": "left"
          },
          "hovermode": "closest",
          "mapbox": {
           "style": "light"
          },
          "paper_bgcolor": "white",
          "plot_bgcolor": "#E5ECF6",
          "polar": {
           "angularaxis": {
            "gridcolor": "white",
            "linecolor": "white",
            "ticks": ""
           },
           "bgcolor": "#E5ECF6",
           "radialaxis": {
            "gridcolor": "white",
            "linecolor": "white",
            "ticks": ""
           }
          },
          "scene": {
           "xaxis": {
            "backgroundcolor": "#E5ECF6",
            "gridcolor": "white",
            "gridwidth": 2,
            "linecolor": "white",
            "showbackground": true,
            "ticks": "",
            "zerolinecolor": "white"
           },
           "yaxis": {
            "backgroundcolor": "#E5ECF6",
            "gridcolor": "white",
            "gridwidth": 2,
            "linecolor": "white",
            "showbackground": true,
            "ticks": "",
            "zerolinecolor": "white"
           },
           "zaxis": {
            "backgroundcolor": "#E5ECF6",
            "gridcolor": "white",
            "gridwidth": 2,
            "linecolor": "white",
            "showbackground": true,
            "ticks": "",
            "zerolinecolor": "white"
           }
          },
          "shapedefaults": {
           "line": {
            "color": "#2a3f5f"
           }
          },
          "ternary": {
           "aaxis": {
            "gridcolor": "white",
            "linecolor": "white",
            "ticks": ""
           },
           "baxis": {
            "gridcolor": "white",
            "linecolor": "white",
            "ticks": ""
           },
           "bgcolor": "#E5ECF6",
           "caxis": {
            "gridcolor": "white",
            "linecolor": "white",
            "ticks": ""
           }
          },
          "title": {
           "x": 0.05
          },
          "xaxis": {
           "automargin": true,
           "gridcolor": "white",
           "linecolor": "white",
           "ticks": "",
           "title": {
            "standoff": 15
           },
           "zerolinecolor": "white",
           "zerolinewidth": 2
          },
          "yaxis": {
           "automargin": true,
           "gridcolor": "white",
           "linecolor": "white",
           "ticks": "",
           "title": {
            "standoff": 15
           },
           "zerolinecolor": "white",
           "zerolinewidth": 2
          }
         }
        },
        "title": {
         "text": "$\\sigma(x)$"
        },
        "xaxis": {
         "anchor": "y",
         "domain": [
          0,
          1
         ],
         "title": {
          "text": "x"
         }
        },
        "yaxis": {
         "anchor": "x",
         "domain": [
          0,
          1
         ],
         "title": {
          "text": "y"
         }
        }
       }
      }
     },
     "metadata": {},
     "output_type": "display_data"
    }
   ],
   "source": [
    "import numpy as np\n",
    "import plotly.express as px\n",
    "\n",
    "sigmoid = lambda x: 1 / (1+np.exp(-x))\n",
    "X = np.arange(-20,20)\n",
    "px.line(x=X, y=sigmoid(X), title=r'$\\sigma(x)$')"
   ]
  },
  {
   "cell_type": "markdown",
   "metadata": {},
   "source": [
    "Another important term is **logit**, which is a logarithm of odds. **Odds** is a ratio between probabilities $\\frac{p}{1-p}$. Since both odds and logits are monotonically increasing functions, we can apply log-transformation to odds.\n",
    "<br/><br/>\n",
    "It is important to explain the intuition behind odds. **Odds** is a quantitive measure of a success. Suppose $p=0,8$ and $q=1-p=0,2$. Therefore the odds of a success will be $\\frac{0,8}{0,2}=4$. This can be best interpreted as \"we encounter an unfavorable outcome once in every 4+1 events\". Therefore, the higher is the $p$, the higher are the odds.\n",
    "<br/><br/>\n",
    "As to **logits**, the function approaches $-\\infty$ for the lowest odds and approaches $+\\infty$ for the highest odds. Logits, that are based on odds, allow us to shift from restricted domain of $[0, 1]$ set by probabilities distribution to unrestricted domain $[-\\infty; +\\infty]$"
   ]
  },
  {
   "cell_type": "code",
   "execution_count": 2,
   "metadata": {},
   "outputs": [
    {
     "data": {
      "application/vnd.plotly.v1+json": {
       "config": {
        "plotlyServerURL": "https://plot.ly"
       },
       "data": [
        {
         "mode": "lines",
         "type": "scatter",
         "x": [
          0,
          0.02040816326530612,
          0.04081632653061224,
          0.061224489795918366,
          0.08163265306122448,
          0.1020408163265306,
          0.12244897959183673,
          0.14285714285714285,
          0.16326530612244897,
          0.18367346938775508,
          0.2040816326530612,
          0.22448979591836732,
          0.24489795918367346,
          0.26530612244897955,
          0.2857142857142857,
          0.3061224489795918,
          0.32653061224489793,
          0.3469387755102041,
          0.36734693877551017,
          0.3877551020408163,
          0.4081632653061224,
          0.42857142857142855,
          0.44897959183673464,
          0.4693877551020408,
          0.4897959183673469,
          0.5102040816326531,
          0.5306122448979591,
          0.5510204081632653,
          0.5714285714285714,
          0.5918367346938775,
          0.6122448979591836,
          0.6326530612244897,
          0.6530612244897959,
          0.673469387755102,
          0.6938775510204082,
          0.7142857142857142,
          0.7346938775510203,
          0.7551020408163265,
          0.7755102040816326,
          0.7959183673469387,
          0.8163265306122448,
          0.836734693877551,
          0.8571428571428571,
          0.8775510204081632,
          0.8979591836734693,
          0.9183673469387754,
          0.9387755102040816,
          0.9591836734693877,
          0.9795918367346939,
          1
         ],
         "xaxis": "x",
         "y": [
          0,
          0.020833333333333332,
          0.0425531914893617,
          0.06521739130434782,
          0.08888888888888888,
          0.11363636363636362,
          0.13953488372093023,
          0.16666666666666666,
          0.19512195121951217,
          0.22499999999999998,
          0.2564102564102564,
          0.28947368421052627,
          0.32432432432432434,
          0.36111111111111105,
          0.39999999999999997,
          0.44117647058823517,
          0.48484848484848475,
          0.53125,
          0.5806451612903225,
          0.6333333333333333,
          0.689655172413793,
          0.75,
          0.8148148148148147,
          0.8846153846153845,
          0.96,
          1.0416666666666667,
          1.1304347826086953,
          1.227272727272727,
          1.3333333333333333,
          1.45,
          1.578947368421052,
          1.7222222222222217,
          1.8823529411764701,
          2.0624999999999996,
          2.2666666666666666,
          2.4999999999999987,
          2.7692307692307683,
          3.0833333333333326,
          3.454545454545454,
          3.8999999999999972,
          4.444444444444442,
          5.124999999999997,
          5.999999999999997,
          7.166666666666665,
          8.799999999999988,
          11.249999999999986,
          15.333333333333314,
          23.49999999999997,
          47.99999999999994,
          null
         ],
         "yaxis": "y"
        },
        {
         "mode": "lines",
         "type": "scatter",
         "x": [
          0,
          0.020833333333333332,
          0.0425531914893617,
          0.06521739130434782,
          0.08888888888888888,
          0.11363636363636362,
          0.13953488372093023,
          0.16666666666666666,
          0.19512195121951217,
          0.22499999999999998,
          0.2564102564102564,
          0.28947368421052627,
          0.32432432432432434,
          0.36111111111111105,
          0.39999999999999997,
          0.44117647058823517,
          0.48484848484848475,
          0.53125,
          0.5806451612903225,
          0.6333333333333333,
          0.689655172413793,
          0.75,
          0.8148148148148147,
          0.8846153846153845,
          0.96,
          1.0416666666666667,
          1.1304347826086953,
          1.227272727272727,
          1.3333333333333333,
          1.45,
          1.578947368421052,
          1.7222222222222217,
          1.8823529411764701,
          2.0624999999999996,
          2.2666666666666666,
          2.4999999999999987,
          2.7692307692307683,
          3.0833333333333326,
          3.454545454545454,
          3.8999999999999972,
          4.444444444444442,
          5.124999999999997,
          5.999999999999997,
          7.166666666666665,
          8.799999999999988,
          11.249999999999986,
          15.333333333333314,
          23.49999999999997,
          47.99999999999994,
          null
         ],
         "xaxis": "x2",
         "y": [
          null,
          -3.871201010907891,
          -3.1570004211501135,
          -2.7300291078209855,
          -2.4203681286504293,
          -2.174751721484161,
          -1.9694406464655074,
          -1.791759469228055,
          -1.634130525024472,
          -1.491654876777717,
          -1.3609765531356008,
          -1.2396908869280154,
          -1.126011262856224,
          -1.0185695809945734,
          -0.9162907318741551,
          -0.8183103235139516,
          -0.7239188392266992,
          -0.6325225587435105,
          -0.5436154465889816,
          -0.456758402495715,
          -0.3715635564324831,
          -0.2876820724517809,
          -0.20479441264601342,
          -0.12260232209233252,
          -0.040821994520255166,
          0.0408219945202552,
          0.12260232209233209,
          0.20479441264601306,
          0.28768207245178085,
          0.371563556432483,
          0.45675840249571453,
          0.5436154465889812,
          0.6325225587435103,
          0.7239188392266988,
          0.8183103235139513,
          0.9162907318741546,
          1.018569580994573,
          1.126011262856224,
          1.2396908869280152,
          1.3609765531356,
          1.4916548767777165,
          1.6341305250244713,
          1.7917594692280545,
          1.9694406464655072,
          2.1747517214841596,
          2.420368128650428,
          2.730029107820984,
          3.157000421150112,
          3.87120101090789,
          null
         ],
         "yaxis": "y2"
        }
       ],
       "layout": {
        "annotations": [
         {
          "font": {
           "size": 16
          },
          "showarrow": false,
          "text": "Odds(p)",
          "x": 0.225,
          "xanchor": "center",
          "xref": "paper",
          "y": 1,
          "yanchor": "bottom",
          "yref": "paper"
         },
         {
          "font": {
           "size": 16
          },
          "showarrow": false,
          "text": "Log[Odds(p)]",
          "x": 0.775,
          "xanchor": "center",
          "xref": "paper",
          "y": 1,
          "yanchor": "bottom",
          "yref": "paper"
         }
        ],
        "height": 500,
        "template": {
         "data": {
          "bar": [
           {
            "error_x": {
             "color": "#2a3f5f"
            },
            "error_y": {
             "color": "#2a3f5f"
            },
            "marker": {
             "line": {
              "color": "#E5ECF6",
              "width": 0.5
             },
             "pattern": {
              "fillmode": "overlay",
              "size": 10,
              "solidity": 0.2
             }
            },
            "type": "bar"
           }
          ],
          "barpolar": [
           {
            "marker": {
             "line": {
              "color": "#E5ECF6",
              "width": 0.5
             },
             "pattern": {
              "fillmode": "overlay",
              "size": 10,
              "solidity": 0.2
             }
            },
            "type": "barpolar"
           }
          ],
          "carpet": [
           {
            "aaxis": {
             "endlinecolor": "#2a3f5f",
             "gridcolor": "white",
             "linecolor": "white",
             "minorgridcolor": "white",
             "startlinecolor": "#2a3f5f"
            },
            "baxis": {
             "endlinecolor": "#2a3f5f",
             "gridcolor": "white",
             "linecolor": "white",
             "minorgridcolor": "white",
             "startlinecolor": "#2a3f5f"
            },
            "type": "carpet"
           }
          ],
          "choropleth": [
           {
            "colorbar": {
             "outlinewidth": 0,
             "ticks": ""
            },
            "type": "choropleth"
           }
          ],
          "contour": [
           {
            "colorbar": {
             "outlinewidth": 0,
             "ticks": ""
            },
            "colorscale": [
             [
              0,
              "#0d0887"
             ],
             [
              0.1111111111111111,
              "#46039f"
             ],
             [
              0.2222222222222222,
              "#7201a8"
             ],
             [
              0.3333333333333333,
              "#9c179e"
             ],
             [
              0.4444444444444444,
              "#bd3786"
             ],
             [
              0.5555555555555556,
              "#d8576b"
             ],
             [
              0.6666666666666666,
              "#ed7953"
             ],
             [
              0.7777777777777778,
              "#fb9f3a"
             ],
             [
              0.8888888888888888,
              "#fdca26"
             ],
             [
              1,
              "#f0f921"
             ]
            ],
            "type": "contour"
           }
          ],
          "contourcarpet": [
           {
            "colorbar": {
             "outlinewidth": 0,
             "ticks": ""
            },
            "type": "contourcarpet"
           }
          ],
          "heatmap": [
           {
            "colorbar": {
             "outlinewidth": 0,
             "ticks": ""
            },
            "colorscale": [
             [
              0,
              "#0d0887"
             ],
             [
              0.1111111111111111,
              "#46039f"
             ],
             [
              0.2222222222222222,
              "#7201a8"
             ],
             [
              0.3333333333333333,
              "#9c179e"
             ],
             [
              0.4444444444444444,
              "#bd3786"
             ],
             [
              0.5555555555555556,
              "#d8576b"
             ],
             [
              0.6666666666666666,
              "#ed7953"
             ],
             [
              0.7777777777777778,
              "#fb9f3a"
             ],
             [
              0.8888888888888888,
              "#fdca26"
             ],
             [
              1,
              "#f0f921"
             ]
            ],
            "type": "heatmap"
           }
          ],
          "heatmapgl": [
           {
            "colorbar": {
             "outlinewidth": 0,
             "ticks": ""
            },
            "colorscale": [
             [
              0,
              "#0d0887"
             ],
             [
              0.1111111111111111,
              "#46039f"
             ],
             [
              0.2222222222222222,
              "#7201a8"
             ],
             [
              0.3333333333333333,
              "#9c179e"
             ],
             [
              0.4444444444444444,
              "#bd3786"
             ],
             [
              0.5555555555555556,
              "#d8576b"
             ],
             [
              0.6666666666666666,
              "#ed7953"
             ],
             [
              0.7777777777777778,
              "#fb9f3a"
             ],
             [
              0.8888888888888888,
              "#fdca26"
             ],
             [
              1,
              "#f0f921"
             ]
            ],
            "type": "heatmapgl"
           }
          ],
          "histogram": [
           {
            "marker": {
             "pattern": {
              "fillmode": "overlay",
              "size": 10,
              "solidity": 0.2
             }
            },
            "type": "histogram"
           }
          ],
          "histogram2d": [
           {
            "colorbar": {
             "outlinewidth": 0,
             "ticks": ""
            },
            "colorscale": [
             [
              0,
              "#0d0887"
             ],
             [
              0.1111111111111111,
              "#46039f"
             ],
             [
              0.2222222222222222,
              "#7201a8"
             ],
             [
              0.3333333333333333,
              "#9c179e"
             ],
             [
              0.4444444444444444,
              "#bd3786"
             ],
             [
              0.5555555555555556,
              "#d8576b"
             ],
             [
              0.6666666666666666,
              "#ed7953"
             ],
             [
              0.7777777777777778,
              "#fb9f3a"
             ],
             [
              0.8888888888888888,
              "#fdca26"
             ],
             [
              1,
              "#f0f921"
             ]
            ],
            "type": "histogram2d"
           }
          ],
          "histogram2dcontour": [
           {
            "colorbar": {
             "outlinewidth": 0,
             "ticks": ""
            },
            "colorscale": [
             [
              0,
              "#0d0887"
             ],
             [
              0.1111111111111111,
              "#46039f"
             ],
             [
              0.2222222222222222,
              "#7201a8"
             ],
             [
              0.3333333333333333,
              "#9c179e"
             ],
             [
              0.4444444444444444,
              "#bd3786"
             ],
             [
              0.5555555555555556,
              "#d8576b"
             ],
             [
              0.6666666666666666,
              "#ed7953"
             ],
             [
              0.7777777777777778,
              "#fb9f3a"
             ],
             [
              0.8888888888888888,
              "#fdca26"
             ],
             [
              1,
              "#f0f921"
             ]
            ],
            "type": "histogram2dcontour"
           }
          ],
          "mesh3d": [
           {
            "colorbar": {
             "outlinewidth": 0,
             "ticks": ""
            },
            "type": "mesh3d"
           }
          ],
          "parcoords": [
           {
            "line": {
             "colorbar": {
              "outlinewidth": 0,
              "ticks": ""
             }
            },
            "type": "parcoords"
           }
          ],
          "pie": [
           {
            "automargin": true,
            "type": "pie"
           }
          ],
          "scatter": [
           {
            "fillpattern": {
             "fillmode": "overlay",
             "size": 10,
             "solidity": 0.2
            },
            "type": "scatter"
           }
          ],
          "scatter3d": [
           {
            "line": {
             "colorbar": {
              "outlinewidth": 0,
              "ticks": ""
             }
            },
            "marker": {
             "colorbar": {
              "outlinewidth": 0,
              "ticks": ""
             }
            },
            "type": "scatter3d"
           }
          ],
          "scattercarpet": [
           {
            "marker": {
             "colorbar": {
              "outlinewidth": 0,
              "ticks": ""
             }
            },
            "type": "scattercarpet"
           }
          ],
          "scattergeo": [
           {
            "marker": {
             "colorbar": {
              "outlinewidth": 0,
              "ticks": ""
             }
            },
            "type": "scattergeo"
           }
          ],
          "scattergl": [
           {
            "marker": {
             "colorbar": {
              "outlinewidth": 0,
              "ticks": ""
             }
            },
            "type": "scattergl"
           }
          ],
          "scattermapbox": [
           {
            "marker": {
             "colorbar": {
              "outlinewidth": 0,
              "ticks": ""
             }
            },
            "type": "scattermapbox"
           }
          ],
          "scatterpolar": [
           {
            "marker": {
             "colorbar": {
              "outlinewidth": 0,
              "ticks": ""
             }
            },
            "type": "scatterpolar"
           }
          ],
          "scatterpolargl": [
           {
            "marker": {
             "colorbar": {
              "outlinewidth": 0,
              "ticks": ""
             }
            },
            "type": "scatterpolargl"
           }
          ],
          "scatterternary": [
           {
            "marker": {
             "colorbar": {
              "outlinewidth": 0,
              "ticks": ""
             }
            },
            "type": "scatterternary"
           }
          ],
          "surface": [
           {
            "colorbar": {
             "outlinewidth": 0,
             "ticks": ""
            },
            "colorscale": [
             [
              0,
              "#0d0887"
             ],
             [
              0.1111111111111111,
              "#46039f"
             ],
             [
              0.2222222222222222,
              "#7201a8"
             ],
             [
              0.3333333333333333,
              "#9c179e"
             ],
             [
              0.4444444444444444,
              "#bd3786"
             ],
             [
              0.5555555555555556,
              "#d8576b"
             ],
             [
              0.6666666666666666,
              "#ed7953"
             ],
             [
              0.7777777777777778,
              "#fb9f3a"
             ],
             [
              0.8888888888888888,
              "#fdca26"
             ],
             [
              1,
              "#f0f921"
             ]
            ],
            "type": "surface"
           }
          ],
          "table": [
           {
            "cells": {
             "fill": {
              "color": "#EBF0F8"
             },
             "line": {
              "color": "white"
             }
            },
            "header": {
             "fill": {
              "color": "#C8D4E3"
             },
             "line": {
              "color": "white"
             }
            },
            "type": "table"
           }
          ]
         },
         "layout": {
          "annotationdefaults": {
           "arrowcolor": "#2a3f5f",
           "arrowhead": 0,
           "arrowwidth": 1
          },
          "autotypenumbers": "strict",
          "coloraxis": {
           "colorbar": {
            "outlinewidth": 0,
            "ticks": ""
           }
          },
          "colorscale": {
           "diverging": [
            [
             0,
             "#8e0152"
            ],
            [
             0.1,
             "#c51b7d"
            ],
            [
             0.2,
             "#de77ae"
            ],
            [
             0.3,
             "#f1b6da"
            ],
            [
             0.4,
             "#fde0ef"
            ],
            [
             0.5,
             "#f7f7f7"
            ],
            [
             0.6,
             "#e6f5d0"
            ],
            [
             0.7,
             "#b8e186"
            ],
            [
             0.8,
             "#7fbc41"
            ],
            [
             0.9,
             "#4d9221"
            ],
            [
             1,
             "#276419"
            ]
           ],
           "sequential": [
            [
             0,
             "#0d0887"
            ],
            [
             0.1111111111111111,
             "#46039f"
            ],
            [
             0.2222222222222222,
             "#7201a8"
            ],
            [
             0.3333333333333333,
             "#9c179e"
            ],
            [
             0.4444444444444444,
             "#bd3786"
            ],
            [
             0.5555555555555556,
             "#d8576b"
            ],
            [
             0.6666666666666666,
             "#ed7953"
            ],
            [
             0.7777777777777778,
             "#fb9f3a"
            ],
            [
             0.8888888888888888,
             "#fdca26"
            ],
            [
             1,
             "#f0f921"
            ]
           ],
           "sequentialminus": [
            [
             0,
             "#0d0887"
            ],
            [
             0.1111111111111111,
             "#46039f"
            ],
            [
             0.2222222222222222,
             "#7201a8"
            ],
            [
             0.3333333333333333,
             "#9c179e"
            ],
            [
             0.4444444444444444,
             "#bd3786"
            ],
            [
             0.5555555555555556,
             "#d8576b"
            ],
            [
             0.6666666666666666,
             "#ed7953"
            ],
            [
             0.7777777777777778,
             "#fb9f3a"
            ],
            [
             0.8888888888888888,
             "#fdca26"
            ],
            [
             1,
             "#f0f921"
            ]
           ]
          },
          "colorway": [
           "#636efa",
           "#EF553B",
           "#00cc96",
           "#ab63fa",
           "#FFA15A",
           "#19d3f3",
           "#FF6692",
           "#B6E880",
           "#FF97FF",
           "#FECB52"
          ],
          "font": {
           "color": "#2a3f5f"
          },
          "geo": {
           "bgcolor": "white",
           "lakecolor": "white",
           "landcolor": "#E5ECF6",
           "showlakes": true,
           "showland": true,
           "subunitcolor": "white"
          },
          "hoverlabel": {
           "align": "left"
          },
          "hovermode": "closest",
          "mapbox": {
           "style": "light"
          },
          "paper_bgcolor": "white",
          "plot_bgcolor": "#E5ECF6",
          "polar": {
           "angularaxis": {
            "gridcolor": "white",
            "linecolor": "white",
            "ticks": ""
           },
           "bgcolor": "#E5ECF6",
           "radialaxis": {
            "gridcolor": "white",
            "linecolor": "white",
            "ticks": ""
           }
          },
          "scene": {
           "xaxis": {
            "backgroundcolor": "#E5ECF6",
            "gridcolor": "white",
            "gridwidth": 2,
            "linecolor": "white",
            "showbackground": true,
            "ticks": "",
            "zerolinecolor": "white"
           },
           "yaxis": {
            "backgroundcolor": "#E5ECF6",
            "gridcolor": "white",
            "gridwidth": 2,
            "linecolor": "white",
            "showbackground": true,
            "ticks": "",
            "zerolinecolor": "white"
           },
           "zaxis": {
            "backgroundcolor": "#E5ECF6",
            "gridcolor": "white",
            "gridwidth": 2,
            "linecolor": "white",
            "showbackground": true,
            "ticks": "",
            "zerolinecolor": "white"
           }
          },
          "shapedefaults": {
           "line": {
            "color": "#2a3f5f"
           }
          },
          "ternary": {
           "aaxis": {
            "gridcolor": "white",
            "linecolor": "white",
            "ticks": ""
           },
           "baxis": {
            "gridcolor": "white",
            "linecolor": "white",
            "ticks": ""
           },
           "bgcolor": "#E5ECF6",
           "caxis": {
            "gridcolor": "white",
            "linecolor": "white",
            "ticks": ""
           }
          },
          "title": {
           "x": 0.05
          },
          "xaxis": {
           "automargin": true,
           "gridcolor": "white",
           "linecolor": "white",
           "ticks": "",
           "title": {
            "standoff": 15
           },
           "zerolinecolor": "white",
           "zerolinewidth": 2
          },
          "yaxis": {
           "automargin": true,
           "gridcolor": "white",
           "linecolor": "white",
           "ticks": "",
           "title": {
            "standoff": 15
           },
           "zerolinecolor": "white",
           "zerolinewidth": 2
          }
         }
        },
        "width": 800,
        "xaxis": {
         "anchor": "y",
         "domain": [
          0,
          0.45
         ]
        },
        "xaxis2": {
         "anchor": "y2",
         "domain": [
          0.55,
          1
         ]
        },
        "yaxis": {
         "anchor": "x",
         "domain": [
          0,
          1
         ]
        },
        "yaxis2": {
         "anchor": "x2",
         "domain": [
          0,
          1
         ]
        }
       }
      }
     },
     "metadata": {},
     "output_type": "display_data"
    }
   ],
   "source": [
    "from plotly.subplots import make_subplots\n",
    "import plotly.graph_objects as go\n",
    "\n",
    "with np.errstate(divide='ignore'): # locally ignore zero-division warnings\n",
    "    odds = lambda p: p / (1-p)\n",
    "    P = np.linspace(0,1,50)\n",
    "\n",
    "    fig = make_subplots(rows=1, cols=2, subplot_titles=[\"Odds(p)\",'Log[Odds(p)]'])\n",
    "    fig.add_trace(\n",
    "        go.Scatter(x=P, y=odds(P), mode=\"lines\"),\n",
    "        row=1, col=1\n",
    "    )\n",
    "    fig.add_trace(\n",
    "        go.Scatter(x=odds(P), y=np.log(odds(P)), mode=\"lines\"),\n",
    "        row=1, col=2, \n",
    "    )\n",
    "    fig.update_layout(height=500, width=800)\n",
    "    fig.show()"
   ]
  },
  {
   "cell_type": "markdown",
   "metadata": {},
   "source": [
    "Having explained logits, the problem of logistic regression is centered around finding $\\beta$ that best decribe $log[odds(p)]=\\beta\\times X$. Now, to simplify it even further, we can reduce the optimization problem to solving for $p$ (which is also $P(Y=1)$ since we are looking at the binary classification) instead of logit:\n",
    "$$\n",
    "\\begin{align*}\n",
    "    \\beta X = log(\\frac{p}{1-p}) \\\\\n",
    "    e^{-\\beta X} = \\frac{1-p}{p} \\\\\n",
    "    e^{-\\beta X} = \\frac{1}{p} - 1 \\\\\n",
    "    e^{-\\beta X} + 1 = \\frac{1}{p} \\\\\n",
    "    p = \\frac{1}{e^{-\\beta X} + 1}\n",
    "\\end{align*}\n",
    "$$\n",
    "From this derivation we can clearly see the **relation** between **logit function** and **sigmoid**. It's also important to note that logit function, being able to monotonically map $[0, 1]$ onto $(-\\infty, +\\infty)$, is actually doing an inverse operation of sigmoid, which, on the contrary, maps $(-\\infty, +\\infty)$ onto $[0, 1]$."
   ]
  },
  {
   "cell_type": "markdown",
   "metadata": {},
   "source": [
    "Estimation of the best $\\hat{\\beta}$ is done via Maximum Likelihood Estimation (**MLE**). The logic behind MLE is as follows:\n",
    "* We take samples labeled as 1 and 0 respectively; \n",
    "* For samples with label \"1\" we estimate such $\\hat{\\beta}$ that the entropy amongst samples is the lowest ($P(Y=1)\\rightarrow 1$): $\\prod_{\\{y_i=1\\}}p(x_i)\\rightarrow max$. We do a product because we presume that $x_i$ are independent variables;\n",
    "* Same is done for samples with label \"0\": $\\prod_{\\{y_i=0\\}}[1-p(x_i)]\\rightarrow max$;\n",
    "* Combining two problems into one we get a definition of $\\text{Likelihood}(\\beta)=\\prod_{\\{y_i=1\\}}p(x_i)\\times \\prod_{\\{y_i=0\\}}[1-p(x_i)]\\rightarrow max$"
   ]
  },
  {
   "cell_type": "markdown",
   "metadata": {},
   "source": [
    "To get rid of the product we then further simplify the formula:\n",
    "$$\n",
    "\\begin{aligned}\n",
    "    L(\\beta) = \\prod_{\\{y_i=1\\}}p(x_i)\\times \\prod_{\\{y_i=0\\}}[1-p(x_i)]= \\\\\n",
    "    =\\prod_{X}p(x_i)^y_i\\times[1-p(x_i)]^(1-y_i)= \\\\\n",
    "    = \\{\\text{we proceed to take ln of both parts of the equation for the Likelihood}\\} = \\\\\n",
    "    = \\sum_X y_ilog[p(x_i)]+(1-y_i)log[1-p(x_i)] = \\\\\n",
    "    = \\{\\text{we then replace p with previously derived sigmoid}\\}= \\\\\n",
    "    = \\sum_X y_ilog(\\frac{1}{1+e^{-\\beta X}}) + (1-y_i)[log(\\frac{e^{-\\beta X}}{1+e^{-\\beta X}})]= \\\\\n",
    "    = \\sum_X y_i[log(\\frac{1}{1+e^{-\\beta X}})-log(\\frac{e^{-\\beta X}}{1+e^{-\\beta X}})] + log(\\frac{e^{-\\beta X}}{1+e^{-\\beta X}})= \\\\\n",
    "    = \\sum_X y_i[log(\\frac{1}{e^{-\\beta X}})] + log(\\frac{e^{-\\beta X}}{1+e^{-\\beta X}}\\times\\frac{e^{\\beta X}}{e^{\\beta X}})= \\\\\n",
    "    = \\sum_X y_i[log(\\frac{1}{e^{-\\beta X}})] + log(\\frac{1}{1+e^{\\beta X}})= \\\\\n",
    "    = \\sum_X y_i\\times\\beta X - log(1+e^{\\beta X})\n",
    "\\end{aligned}\n",
    "$$\n",
    "The last formula is called Log-likelihood Function (**LLF**). We can reduce the problem to maximizing LLF instead of original $\\text{Likelihood}(\\beta)$, since it is yet again a monotonic transformation. In the end, the optimization problem can be formulated as follows: $\\hat{\\beta}=argmax_\\beta[Log(L(\\beta))]=argmax_\\beta[\\sum_X y_i\\times\\beta X - log(1+e^{\\beta X})]$."
   ]
  },
  {
   "cell_type": "markdown",
   "metadata": {},
   "source": [
    "This concludes the prerequisite math behind the logistic regression for **binary classification**. Now we need to set up a training loop in order to calculate best $\\beta$ by adjusting them by the gradient on every $t-\\text{ith}$ epoch: $\\beta_{t+1}=\\beta_t-\\eta \\nabla L(f(x; \\beta), y)$. \n",
    "<br/><br/>\n",
    "Now we need to calculate gradients with respect to $\\beta_i (i\\in N)$ and intercept $\\beta_0$ (where $y$ is a real probability and $\\hat{y}$ is a sigmoid (predicted) probability):\n",
    "$$\n",
    "\\begin{aligned}\n",
    "& \\frac{\\partial L_{\\mathrm{CE}}(\\hat{y}, y)}{\\partial \\mathbf{\\beta}}=\\frac{1}{m}(\\hat{\\mathbf{y}}-\\mathbf{y}) \\mathbf{x}_i^T \\\\\n",
    "& \\frac{\\partial L_{\\mathrm{CE}}(\\hat{y}, y)}{\\partial \\beta_0}=\\frac{1}{m}(\\hat{\\mathbf{y}}-\\mathbf{y})\n",
    "\\end{aligned}\n",
    "$$"
   ]
  },
  {
   "cell_type": "code",
   "execution_count": 3,
   "metadata": {},
   "outputs": [],
   "source": [
    "from sklearn.metrics import accuracy_score\n",
    "\n",
    "class LogisticRegression:\n",
    "\n",
    "    def __init__(self):\n",
    "        self.losses = []\n",
    "        self.accuracies = []\n",
    "        self.Beta = []\n",
    "        self.llfs = []\n",
    "        self.intercept = []\n",
    "        self.m = 0\n",
    "\n",
    "    def sigmoid(self, yHat):\n",
    "        # find probability based by passing\n",
    "        # logit into a sigmoid function\n",
    "        return 1 / (1 + np.exp(-yHat))\n",
    "    \n",
    "    def llf(self, y, yHat, logHat):\n",
    "        # log likelihood function\n",
    "        return (y*logHat-np.log(1+yHat)).mean()\n",
    "\n",
    "    def bce(self, y, yHat):\n",
    "        # binary cross entropy\n",
    "        # special case of log likelihood where we\n",
    "        # have a bernoulli distribution of only 2\n",
    "        # unique labels\n",
    "        return (-y * np.log(yHat) - (1-y) * np.log(1-yHat)).mean()\n",
    "\n",
    "    def predict(self, X, predict_new=False):\n",
    "        if predict_new:\n",
    "            newIntercept = np.ones((X.shape[0],1))\n",
    "            X = np.concatenate((newIntercept,X),axis=1)\n",
    "        p = self.sigmoid(np.dot(X,self.Beta))\n",
    "        logit = np.log(p / (1-p))\n",
    "        return p, logit\n",
    "    \n",
    "    def fit(self, X, y, epochs=1000, lr=.001, verbose_level=50) -> None:\n",
    "        \"\"\"\n",
    "            X: np.ndarray\n",
    "                - feature matrix\n",
    "            y: np.ndarray\n",
    "                - target labels\n",
    "            epochs: int\n",
    "                - N of training epochs\n",
    "            lr: float\n",
    "                - learning rate\n",
    "            verbose_level: int\n",
    "                - output loss and accuracy every verbose_level\n",
    "        \"\"\"\n",
    "        self.intercept = np.ones((X.shape[0], 1)) \n",
    "        X = np.concatenate((self.intercept, X), axis=1)\n",
    "        self.m = X.shape[0]\n",
    "        self.Beta = np.zeros(X.shape[1]).reshape(-1,1)\n",
    "\n",
    "        for epoch in range(epochs+1):\n",
    "            yHat, logitHat = self.predict(X)\n",
    "\n",
    "            # gradient with respect to Beta\n",
    "            self.Beta -= lr * 1/self.m * np.dot(X.T, (yHat - y))\n",
    "\n",
    "            # gradient with respect to intercept\n",
    "            self.intercept -= lr * 1/self.m * (yHat - y)\n",
    "\n",
    "            self.llfs.append(self.llf(y, yHat, logitHat))\n",
    "            self.losses.append(self.bce(y, yHat))\n",
    "\n",
    "            self.accuracies.append(accuracy_score(y,yHat.round()))\n",
    "            if epoch % verbose_level == 0:\n",
    "                print(f'LLF {self.llfs[-1]} :: BCE {self.losses[-1]} :: Accuracy {self.accuracies[-1]}')"
   ]
  },
  {
   "cell_type": "markdown",
   "metadata": {},
   "source": [
    "Next step is training logistic regression on some binary classification problem. For the sake of demonstration, $75\\%$ sample of the popular \"breast cancer\" dataset has been chosen. "
   ]
  },
  {
   "cell_type": "code",
   "execution_count": 4,
   "metadata": {},
   "outputs": [],
   "source": [
    "from sklearn import datasets\n",
    "bc = datasets.load_breast_cancer()"
   ]
  },
  {
   "cell_type": "code",
   "execution_count": 5,
   "metadata": {},
   "outputs": [
    {
     "data": {
      "text/plain": [
       "((426, 30), (143, 30), (426, 1), (143, 1))"
      ]
     },
     "execution_count": 5,
     "metadata": {},
     "output_type": "execute_result"
    }
   ],
   "source": [
    "from sklearn.model_selection import train_test_split\n",
    "\n",
    "X, y = bc.data, bc.target\n",
    "\n",
    "X_train, X_test, y_train, y_test = train_test_split(X, y, test_size=.25, random_state=42)\n",
    "y_train = y_train.reshape(-1, 1)\n",
    "y_test = y_test.reshape(-1, 1)\n",
    "X_train.shape, X_test.shape, y_train.shape, y_test.shape"
   ]
  },
  {
   "cell_type": "code",
   "execution_count": 6,
   "metadata": {},
   "outputs": [
    {
     "name": "stdout",
     "output_type": "stream",
     "text": [
      "LLF -0.40546510810816455 :: BCE 0.6931471805599453 :: Accuracy 0.37089201877934275\n",
      "LLF nan :: BCE nan :: Accuracy 0.37089201877934275\n",
      "LLF nan :: BCE nan :: Accuracy 0.7347417840375586\n",
      "LLF nan :: BCE nan :: Accuracy 0.8333333333333334\n",
      "LLF nan :: BCE nan :: Accuracy 0.8169014084507042\n",
      "LLF nan :: BCE nan :: Accuracy 0.8802816901408451\n",
      "LLF nan :: BCE nan :: Accuracy 0.8708920187793427\n",
      "LLF nan :: BCE nan :: Accuracy 0.4413145539906103\n",
      "LLF nan :: BCE nan :: Accuracy 0.8802816901408451\n",
      "LLF nan :: BCE nan :: Accuracy 0.8896713615023474\n",
      "LLF nan :: BCE nan :: Accuracy 0.8896713615023474\n"
     ]
    }
   ],
   "source": [
    "logReg = LogisticRegression()\n",
    "with np.errstate(divide='ignore', over='ignore', invalid='ignore'):\n",
    "    logReg.fit(X_train,y_train,lr=.001,verbose_level=100)"
   ]
  },
  {
   "cell_type": "markdown",
   "metadata": {},
   "source": [
    "Now we apply previously trained logistic regression model on test sample that is $25\\%$ of the dataset"
   ]
  },
  {
   "cell_type": "code",
   "execution_count": 7,
   "metadata": {},
   "outputs": [
    {
     "name": "stdout",
     "output_type": "stream",
     "text": [
      "              precision    recall  f1-score   support\n",
      "\n",
      "           0       0.93      0.93      0.93        54\n",
      "           1       0.96      0.96      0.96        89\n",
      "\n",
      "    accuracy                           0.94       143\n",
      "   macro avg       0.94      0.94      0.94       143\n",
      "weighted avg       0.94      0.94      0.94       143\n",
      "\n"
     ]
    }
   ],
   "source": [
    "from sklearn.metrics import classification_report\n",
    "\n",
    "with np.errstate(divide='ignore',over='ignore'):\n",
    "    p, logits = logReg.predict(X_test, predict_new=True)\n",
    "print(\n",
    "    classification_report(y_test.reshape(-1,1), p.round().reshape(-1,1))\n",
    ")"
   ]
  },
  {
   "cell_type": "markdown",
   "metadata": {},
   "source": [
    "We can now compare metrics from our model to scikit-learn implementation. As we can see current implementation has pretty close to `scikit-learn`'s model."
   ]
  },
  {
   "cell_type": "code",
   "execution_count": 8,
   "metadata": {},
   "outputs": [
    {
     "name": "stdout",
     "output_type": "stream",
     "text": [
      "              precision    recall  f1-score   support\n",
      "\n",
      "           0       0.96      0.94      0.95        54\n",
      "           1       0.97      0.98      0.97        89\n",
      "\n",
      "    accuracy                           0.97       143\n",
      "   macro avg       0.96      0.96      0.96       143\n",
      "weighted avg       0.97      0.97      0.96       143\n",
      "\n"
     ]
    },
    {
     "name": "stderr",
     "output_type": "stream",
     "text": [
      "/Library/Frameworks/Python.framework/Versions/3.12/lib/python3.12/site-packages/sklearn/utils/validation.py:1183: DataConversionWarning:\n",
      "\n",
      "A column-vector y was passed when a 1d array was expected. Please change the shape of y to (n_samples, ), for example using ravel().\n",
      "\n",
      "/Library/Frameworks/Python.framework/Versions/3.12/lib/python3.12/site-packages/sklearn/linear_model/_logistic.py:460: ConvergenceWarning:\n",
      "\n",
      "lbfgs failed to converge (status=1):\n",
      "STOP: TOTAL NO. of ITERATIONS REACHED LIMIT.\n",
      "\n",
      "Increase the number of iterations (max_iter) or scale the data as shown in:\n",
      "    https://scikit-learn.org/stable/modules/preprocessing.html\n",
      "Please also refer to the documentation for alternative solver options:\n",
      "    https://scikit-learn.org/stable/modules/linear_model.html#logistic-regression\n",
      "\n"
     ]
    }
   ],
   "source": [
    "from sklearn.linear_model import LogisticRegression\n",
    "clf = LogisticRegression(random_state=0).fit(X_train, y_train)\n",
    "yPred = clf.predict(X_test)\n",
    "print(\n",
    "    classification_report(y_test.reshape(-1,1), yPred.reshape(-1,1))\n",
    ")"
   ]
  },
  {
   "cell_type": "markdown",
   "metadata": {},
   "source": [
    "A more general case of the multinomial logistic regression is **Softmax Regression**. Now we're not going to base our prediction on $0,5$ threshhold, but rather we're going to predict the $PMF$ (**Probability Mass Function**, which desribes distribtuion of probabilities against unique values of descrete variable, which is $X$'s class in our case). Instead of the sigmoid function the key component will now be **Softmax Function**, which is defined by $\\sigma(x)=P(y=j \\mid x)=\\frac{e^{x_j}}{\\sum_{k=1}^K e^{x_k}}$. Softmax can be described as a \"softer\" version of the $max$ function $f(x)=max(0, x)$ that can be easily differentiated and allows \"normalization\" of the data, scaling it down to $[0; 1]$ and making it all add up to $1$. This makes it perfect for multiclass and other problems in ML:"
   ]
  },
  {
   "cell_type": "code",
   "execution_count": 9,
   "metadata": {},
   "outputs": [
    {
     "name": "stdout",
     "output_type": "stream",
     "text": [
      "Sum of all softmax(X) equals to:  1.0\n"
     ]
    },
    {
     "data": {
      "application/vnd.plotly.v1+json": {
       "config": {
        "plotlyServerURL": "https://plot.ly"
       },
       "data": [
        {
         "hovertemplate": "x=%{x}<br>y=%{y}<extra></extra>",
         "legendgroup": "",
         "line": {
          "color": "#636efa",
          "dash": "solid"
         },
         "marker": {
          "symbol": "circle"
         },
         "mode": "lines",
         "name": "",
         "orientation": "v",
         "showlegend": false,
         "type": "scatter",
         "x": [
          -20,
          -19,
          -18,
          -17,
          -16,
          -15,
          -14,
          -13,
          -12,
          -11,
          -10,
          -9,
          -8,
          -7,
          -6,
          -5,
          -4,
          -3,
          -2,
          -1,
          0,
          1,
          2,
          3,
          4,
          5,
          6,
          7,
          8,
          9,
          10,
          11,
          12,
          13,
          14,
          15,
          16,
          17,
          18,
          19
         ],
         "xaxis": "x",
         "y": [
          7.299869917724196e-18,
          1.984310374746451e-17,
          5.3939148336960356e-17,
          1.4662180676691627e-16,
          3.9855939299034196e-16,
          1.0833967555273139e-15,
          2.944977713561384e-15,
          8.005279403990778e-15,
          2.1760605535605586e-14,
          5.915145860370197e-14,
          1.6079033504929054e-13,
          4.37073445956328e-13,
          1.188088805845063e-12,
          3.229560211524241e-12,
          8.778854836900696e-12,
          2.3863401577826953e-11,
          6.486745087422791e-11,
          1.7632801296987355e-10,
          4.793092335042982e-10,
          1.302897579647367e-9,
          3.541642815098709e-9,
          9.62718330717536e-9,
          2.6169397443139036e-8,
          7.113579753140744e-8,
          1.9336714578256663e-7,
          5.25626398601742e-7,
          0.0000014288006878774862,
          0.000003883882946347155,
          0.000010557488436917449,
          0.000028698228972239188,
          0.00007800987432419469,
          0.00021205282381583226,
          0.0005764193376520042,
          0.001566870211111842,
          0.0042591948224191085,
          0.011577691889648712,
          0.03147142947912976,
          0.08554821486874874,
          0.2325441579348296,
          0.6321205588285576
         ],
         "yaxis": "y"
        }
       ],
       "layout": {
        "legend": {
         "tracegroupgap": 0
        },
        "template": {
         "data": {
          "bar": [
           {
            "error_x": {
             "color": "#2a3f5f"
            },
            "error_y": {
             "color": "#2a3f5f"
            },
            "marker": {
             "line": {
              "color": "#E5ECF6",
              "width": 0.5
             },
             "pattern": {
              "fillmode": "overlay",
              "size": 10,
              "solidity": 0.2
             }
            },
            "type": "bar"
           }
          ],
          "barpolar": [
           {
            "marker": {
             "line": {
              "color": "#E5ECF6",
              "width": 0.5
             },
             "pattern": {
              "fillmode": "overlay",
              "size": 10,
              "solidity": 0.2
             }
            },
            "type": "barpolar"
           }
          ],
          "carpet": [
           {
            "aaxis": {
             "endlinecolor": "#2a3f5f",
             "gridcolor": "white",
             "linecolor": "white",
             "minorgridcolor": "white",
             "startlinecolor": "#2a3f5f"
            },
            "baxis": {
             "endlinecolor": "#2a3f5f",
             "gridcolor": "white",
             "linecolor": "white",
             "minorgridcolor": "white",
             "startlinecolor": "#2a3f5f"
            },
            "type": "carpet"
           }
          ],
          "choropleth": [
           {
            "colorbar": {
             "outlinewidth": 0,
             "ticks": ""
            },
            "type": "choropleth"
           }
          ],
          "contour": [
           {
            "colorbar": {
             "outlinewidth": 0,
             "ticks": ""
            },
            "colorscale": [
             [
              0,
              "#0d0887"
             ],
             [
              0.1111111111111111,
              "#46039f"
             ],
             [
              0.2222222222222222,
              "#7201a8"
             ],
             [
              0.3333333333333333,
              "#9c179e"
             ],
             [
              0.4444444444444444,
              "#bd3786"
             ],
             [
              0.5555555555555556,
              "#d8576b"
             ],
             [
              0.6666666666666666,
              "#ed7953"
             ],
             [
              0.7777777777777778,
              "#fb9f3a"
             ],
             [
              0.8888888888888888,
              "#fdca26"
             ],
             [
              1,
              "#f0f921"
             ]
            ],
            "type": "contour"
           }
          ],
          "contourcarpet": [
           {
            "colorbar": {
             "outlinewidth": 0,
             "ticks": ""
            },
            "type": "contourcarpet"
           }
          ],
          "heatmap": [
           {
            "colorbar": {
             "outlinewidth": 0,
             "ticks": ""
            },
            "colorscale": [
             [
              0,
              "#0d0887"
             ],
             [
              0.1111111111111111,
              "#46039f"
             ],
             [
              0.2222222222222222,
              "#7201a8"
             ],
             [
              0.3333333333333333,
              "#9c179e"
             ],
             [
              0.4444444444444444,
              "#bd3786"
             ],
             [
              0.5555555555555556,
              "#d8576b"
             ],
             [
              0.6666666666666666,
              "#ed7953"
             ],
             [
              0.7777777777777778,
              "#fb9f3a"
             ],
             [
              0.8888888888888888,
              "#fdca26"
             ],
             [
              1,
              "#f0f921"
             ]
            ],
            "type": "heatmap"
           }
          ],
          "heatmapgl": [
           {
            "colorbar": {
             "outlinewidth": 0,
             "ticks": ""
            },
            "colorscale": [
             [
              0,
              "#0d0887"
             ],
             [
              0.1111111111111111,
              "#46039f"
             ],
             [
              0.2222222222222222,
              "#7201a8"
             ],
             [
              0.3333333333333333,
              "#9c179e"
             ],
             [
              0.4444444444444444,
              "#bd3786"
             ],
             [
              0.5555555555555556,
              "#d8576b"
             ],
             [
              0.6666666666666666,
              "#ed7953"
             ],
             [
              0.7777777777777778,
              "#fb9f3a"
             ],
             [
              0.8888888888888888,
              "#fdca26"
             ],
             [
              1,
              "#f0f921"
             ]
            ],
            "type": "heatmapgl"
           }
          ],
          "histogram": [
           {
            "marker": {
             "pattern": {
              "fillmode": "overlay",
              "size": 10,
              "solidity": 0.2
             }
            },
            "type": "histogram"
           }
          ],
          "histogram2d": [
           {
            "colorbar": {
             "outlinewidth": 0,
             "ticks": ""
            },
            "colorscale": [
             [
              0,
              "#0d0887"
             ],
             [
              0.1111111111111111,
              "#46039f"
             ],
             [
              0.2222222222222222,
              "#7201a8"
             ],
             [
              0.3333333333333333,
              "#9c179e"
             ],
             [
              0.4444444444444444,
              "#bd3786"
             ],
             [
              0.5555555555555556,
              "#d8576b"
             ],
             [
              0.6666666666666666,
              "#ed7953"
             ],
             [
              0.7777777777777778,
              "#fb9f3a"
             ],
             [
              0.8888888888888888,
              "#fdca26"
             ],
             [
              1,
              "#f0f921"
             ]
            ],
            "type": "histogram2d"
           }
          ],
          "histogram2dcontour": [
           {
            "colorbar": {
             "outlinewidth": 0,
             "ticks": ""
            },
            "colorscale": [
             [
              0,
              "#0d0887"
             ],
             [
              0.1111111111111111,
              "#46039f"
             ],
             [
              0.2222222222222222,
              "#7201a8"
             ],
             [
              0.3333333333333333,
              "#9c179e"
             ],
             [
              0.4444444444444444,
              "#bd3786"
             ],
             [
              0.5555555555555556,
              "#d8576b"
             ],
             [
              0.6666666666666666,
              "#ed7953"
             ],
             [
              0.7777777777777778,
              "#fb9f3a"
             ],
             [
              0.8888888888888888,
              "#fdca26"
             ],
             [
              1,
              "#f0f921"
             ]
            ],
            "type": "histogram2dcontour"
           }
          ],
          "mesh3d": [
           {
            "colorbar": {
             "outlinewidth": 0,
             "ticks": ""
            },
            "type": "mesh3d"
           }
          ],
          "parcoords": [
           {
            "line": {
             "colorbar": {
              "outlinewidth": 0,
              "ticks": ""
             }
            },
            "type": "parcoords"
           }
          ],
          "pie": [
           {
            "automargin": true,
            "type": "pie"
           }
          ],
          "scatter": [
           {
            "fillpattern": {
             "fillmode": "overlay",
             "size": 10,
             "solidity": 0.2
            },
            "type": "scatter"
           }
          ],
          "scatter3d": [
           {
            "line": {
             "colorbar": {
              "outlinewidth": 0,
              "ticks": ""
             }
            },
            "marker": {
             "colorbar": {
              "outlinewidth": 0,
              "ticks": ""
             }
            },
            "type": "scatter3d"
           }
          ],
          "scattercarpet": [
           {
            "marker": {
             "colorbar": {
              "outlinewidth": 0,
              "ticks": ""
             }
            },
            "type": "scattercarpet"
           }
          ],
          "scattergeo": [
           {
            "marker": {
             "colorbar": {
              "outlinewidth": 0,
              "ticks": ""
             }
            },
            "type": "scattergeo"
           }
          ],
          "scattergl": [
           {
            "marker": {
             "colorbar": {
              "outlinewidth": 0,
              "ticks": ""
             }
            },
            "type": "scattergl"
           }
          ],
          "scattermapbox": [
           {
            "marker": {
             "colorbar": {
              "outlinewidth": 0,
              "ticks": ""
             }
            },
            "type": "scattermapbox"
           }
          ],
          "scatterpolar": [
           {
            "marker": {
             "colorbar": {
              "outlinewidth": 0,
              "ticks": ""
             }
            },
            "type": "scatterpolar"
           }
          ],
          "scatterpolargl": [
           {
            "marker": {
             "colorbar": {
              "outlinewidth": 0,
              "ticks": ""
             }
            },
            "type": "scatterpolargl"
           }
          ],
          "scatterternary": [
           {
            "marker": {
             "colorbar": {
              "outlinewidth": 0,
              "ticks": ""
             }
            },
            "type": "scatterternary"
           }
          ],
          "surface": [
           {
            "colorbar": {
             "outlinewidth": 0,
             "ticks": ""
            },
            "colorscale": [
             [
              0,
              "#0d0887"
             ],
             [
              0.1111111111111111,
              "#46039f"
             ],
             [
              0.2222222222222222,
              "#7201a8"
             ],
             [
              0.3333333333333333,
              "#9c179e"
             ],
             [
              0.4444444444444444,
              "#bd3786"
             ],
             [
              0.5555555555555556,
              "#d8576b"
             ],
             [
              0.6666666666666666,
              "#ed7953"
             ],
             [
              0.7777777777777778,
              "#fb9f3a"
             ],
             [
              0.8888888888888888,
              "#fdca26"
             ],
             [
              1,
              "#f0f921"
             ]
            ],
            "type": "surface"
           }
          ],
          "table": [
           {
            "cells": {
             "fill": {
              "color": "#EBF0F8"
             },
             "line": {
              "color": "white"
             }
            },
            "header": {
             "fill": {
              "color": "#C8D4E3"
             },
             "line": {
              "color": "white"
             }
            },
            "type": "table"
           }
          ]
         },
         "layout": {
          "annotationdefaults": {
           "arrowcolor": "#2a3f5f",
           "arrowhead": 0,
           "arrowwidth": 1
          },
          "autotypenumbers": "strict",
          "coloraxis": {
           "colorbar": {
            "outlinewidth": 0,
            "ticks": ""
           }
          },
          "colorscale": {
           "diverging": [
            [
             0,
             "#8e0152"
            ],
            [
             0.1,
             "#c51b7d"
            ],
            [
             0.2,
             "#de77ae"
            ],
            [
             0.3,
             "#f1b6da"
            ],
            [
             0.4,
             "#fde0ef"
            ],
            [
             0.5,
             "#f7f7f7"
            ],
            [
             0.6,
             "#e6f5d0"
            ],
            [
             0.7,
             "#b8e186"
            ],
            [
             0.8,
             "#7fbc41"
            ],
            [
             0.9,
             "#4d9221"
            ],
            [
             1,
             "#276419"
            ]
           ],
           "sequential": [
            [
             0,
             "#0d0887"
            ],
            [
             0.1111111111111111,
             "#46039f"
            ],
            [
             0.2222222222222222,
             "#7201a8"
            ],
            [
             0.3333333333333333,
             "#9c179e"
            ],
            [
             0.4444444444444444,
             "#bd3786"
            ],
            [
             0.5555555555555556,
             "#d8576b"
            ],
            [
             0.6666666666666666,
             "#ed7953"
            ],
            [
             0.7777777777777778,
             "#fb9f3a"
            ],
            [
             0.8888888888888888,
             "#fdca26"
            ],
            [
             1,
             "#f0f921"
            ]
           ],
           "sequentialminus": [
            [
             0,
             "#0d0887"
            ],
            [
             0.1111111111111111,
             "#46039f"
            ],
            [
             0.2222222222222222,
             "#7201a8"
            ],
            [
             0.3333333333333333,
             "#9c179e"
            ],
            [
             0.4444444444444444,
             "#bd3786"
            ],
            [
             0.5555555555555556,
             "#d8576b"
            ],
            [
             0.6666666666666666,
             "#ed7953"
            ],
            [
             0.7777777777777778,
             "#fb9f3a"
            ],
            [
             0.8888888888888888,
             "#fdca26"
            ],
            [
             1,
             "#f0f921"
            ]
           ]
          },
          "colorway": [
           "#636efa",
           "#EF553B",
           "#00cc96",
           "#ab63fa",
           "#FFA15A",
           "#19d3f3",
           "#FF6692",
           "#B6E880",
           "#FF97FF",
           "#FECB52"
          ],
          "font": {
           "color": "#2a3f5f"
          },
          "geo": {
           "bgcolor": "white",
           "lakecolor": "white",
           "landcolor": "#E5ECF6",
           "showlakes": true,
           "showland": true,
           "subunitcolor": "white"
          },
          "hoverlabel": {
           "align": "left"
          },
          "hovermode": "closest",
          "mapbox": {
           "style": "light"
          },
          "paper_bgcolor": "white",
          "plot_bgcolor": "#E5ECF6",
          "polar": {
           "angularaxis": {
            "gridcolor": "white",
            "linecolor": "white",
            "ticks": ""
           },
           "bgcolor": "#E5ECF6",
           "radialaxis": {
            "gridcolor": "white",
            "linecolor": "white",
            "ticks": ""
           }
          },
          "scene": {
           "xaxis": {
            "backgroundcolor": "#E5ECF6",
            "gridcolor": "white",
            "gridwidth": 2,
            "linecolor": "white",
            "showbackground": true,
            "ticks": "",
            "zerolinecolor": "white"
           },
           "yaxis": {
            "backgroundcolor": "#E5ECF6",
            "gridcolor": "white",
            "gridwidth": 2,
            "linecolor": "white",
            "showbackground": true,
            "ticks": "",
            "zerolinecolor": "white"
           },
           "zaxis": {
            "backgroundcolor": "#E5ECF6",
            "gridcolor": "white",
            "gridwidth": 2,
            "linecolor": "white",
            "showbackground": true,
            "ticks": "",
            "zerolinecolor": "white"
           }
          },
          "shapedefaults": {
           "line": {
            "color": "#2a3f5f"
           }
          },
          "ternary": {
           "aaxis": {
            "gridcolor": "white",
            "linecolor": "white",
            "ticks": ""
           },
           "baxis": {
            "gridcolor": "white",
            "linecolor": "white",
            "ticks": ""
           },
           "bgcolor": "#E5ECF6",
           "caxis": {
            "gridcolor": "white",
            "linecolor": "white",
            "ticks": ""
           }
          },
          "title": {
           "x": 0.05
          },
          "xaxis": {
           "automargin": true,
           "gridcolor": "white",
           "linecolor": "white",
           "ticks": "",
           "title": {
            "standoff": 15
           },
           "zerolinecolor": "white",
           "zerolinewidth": 2
          },
          "yaxis": {
           "automargin": true,
           "gridcolor": "white",
           "linecolor": "white",
           "ticks": "",
           "title": {
            "standoff": 15
           },
           "zerolinecolor": "white",
           "zerolinewidth": 2
          }
         }
        },
        "title": {
         "text": "$\\softmax(x)$"
        },
        "xaxis": {
         "anchor": "y",
         "domain": [
          0,
          1
         ],
         "title": {
          "text": "x"
         }
        },
        "yaxis": {
         "anchor": "x",
         "domain": [
          0,
          1
         ],
         "title": {
          "text": "y"
         }
        }
       }
      }
     },
     "metadata": {},
     "output_type": "display_data"
    }
   ],
   "source": [
    "softmax = lambda x: np.exp(x) / np.exp(x).sum()\n",
    "X = np.arange(-20,20)\n",
    "print('Sum of all softmax(X) equals to: ', softmax(X).sum().round(2))\n",
    "px.line(x=X, y=softmax(X), title=r'$\\softmax(x)$')"
   ]
  },
  {
   "cell_type": "markdown",
   "metadata": {},
   "source": [
    "Another key difference between univariate logistic regression and softmax regression is its cost function. For the univariate case it is **binary cross-entropy**. For the softmax regression it is a more generalized **cross-entropy loss**, which is basically a generalized LLF for multiclass problems that we minimize (or maximize if we remove \"$-$\"): $H(y_i, p_i)=-\\sum_{i=1}^C y_i log(p_i)$, where:\n",
    "* we add \"$-$\" to get rid of negative values, since we're dealing with $log(w), w\\in(0, 1)$\n",
    "* $C$ is a number of classes\n",
    "* $y_i$ is a one-hot vector of size $|y_i|=C$, where $1$ is placed on the index of the true class and other values are $0$\n",
    "* $log(p_i)$ is a vector of logits, where $p_i=softmax(x_i)$ instead of $sigmoid(x_i)$ \n",
    "\n",
    "It may be also intuitive to interpret cross-entropy as a quantifier for the difference between two distribtuions. A generated set of examples will clearly show, that the closer we are to true labels, the lower the value of the cross-entropy cost function is:"
   ]
  },
  {
   "cell_type": "code",
   "execution_count": 10,
   "metadata": {},
   "outputs": [
    {
     "data": {
      "text/html": [
       "<div>\n",
       "<style scoped>\n",
       "    .dataframe tbody tr th:only-of-type {\n",
       "        vertical-align: middle;\n",
       "    }\n",
       "\n",
       "    .dataframe tbody tr th {\n",
       "        vertical-align: top;\n",
       "    }\n",
       "\n",
       "    .dataframe thead th {\n",
       "        text-align: right;\n",
       "    }\n",
       "</style>\n",
       "<table border=\"1\" class=\"dataframe\">\n",
       "  <thead>\n",
       "    <tr style=\"text-align: right;\">\n",
       "      <th></th>\n",
       "      <th>y_i</th>\n",
       "      <th>p_i</th>\n",
       "      <th>H(y, p)</th>\n",
       "    </tr>\n",
       "  </thead>\n",
       "  <tbody>\n",
       "    <tr>\n",
       "      <th>0</th>\n",
       "      <td>[0, 0]</td>\n",
       "      <td>[0.35119034051298614, 0.065277592175356]</td>\n",
       "      <td>-0.000000</td>\n",
       "    </tr>\n",
       "    <tr>\n",
       "      <th>1</th>\n",
       "      <td>[0, 0]</td>\n",
       "      <td>[0.14265221361194502, 0.9485255981726293]</td>\n",
       "      <td>-0.000000</td>\n",
       "    </tr>\n",
       "    <tr>\n",
       "      <th>2</th>\n",
       "      <td>[0, 0]</td>\n",
       "      <td>[0.6755824719276081, 0.48499648749328417]</td>\n",
       "      <td>-0.000000</td>\n",
       "    </tr>\n",
       "    <tr>\n",
       "      <th>3</th>\n",
       "      <td>[0, 0]</td>\n",
       "      <td>[0.06941894333452214, 0.4535492425674502]</td>\n",
       "      <td>-0.000000</td>\n",
       "    </tr>\n",
       "    <tr>\n",
       "      <th>4</th>\n",
       "      <td>[0, 1]</td>\n",
       "      <td>[0.022714438186618557, 0.9895650406482609]</td>\n",
       "      <td>0.010490</td>\n",
       "    </tr>\n",
       "    <tr>\n",
       "      <th>5</th>\n",
       "      <td>[0, 1]</td>\n",
       "      <td>[0.08121367096572463, 0.42227674329103226]</td>\n",
       "      <td>0.862094</td>\n",
       "    </tr>\n",
       "    <tr>\n",
       "      <th>6</th>\n",
       "      <td>[0, 0]</td>\n",
       "      <td>[0.4993662320963148, 0.37220680990860155]</td>\n",
       "      <td>-0.000000</td>\n",
       "    </tr>\n",
       "    <tr>\n",
       "      <th>7</th>\n",
       "      <td>[0, 1]</td>\n",
       "      <td>[0.04310605289220737, 0.023039764916781835]</td>\n",
       "      <td>3.770534</td>\n",
       "    </tr>\n",
       "    <tr>\n",
       "      <th>8</th>\n",
       "      <td>[0, 1]</td>\n",
       "      <td>[0.4439396066642701, 0.0054481505255580265]</td>\n",
       "      <td>5.212479</td>\n",
       "    </tr>\n",
       "    <tr>\n",
       "      <th>9</th>\n",
       "      <td>[0, 0]</td>\n",
       "      <td>[0.7981777168868807, 0.7527633852372916]</td>\n",
       "      <td>-0.000000</td>\n",
       "    </tr>\n",
       "  </tbody>\n",
       "</table>\n",
       "</div>"
      ],
      "text/plain": [
       "      y_i                                          p_i   H(y, p)\n",
       "0  [0, 0]     [0.35119034051298614, 0.065277592175356] -0.000000\n",
       "1  [0, 0]    [0.14265221361194502, 0.9485255981726293] -0.000000\n",
       "2  [0, 0]    [0.6755824719276081, 0.48499648749328417] -0.000000\n",
       "3  [0, 0]    [0.06941894333452214, 0.4535492425674502] -0.000000\n",
       "4  [0, 1]   [0.022714438186618557, 0.9895650406482609]  0.010490\n",
       "5  [0, 1]   [0.08121367096572463, 0.42227674329103226]  0.862094\n",
       "6  [0, 0]    [0.4993662320963148, 0.37220680990860155] -0.000000\n",
       "7  [0, 1]  [0.04310605289220737, 0.023039764916781835]  3.770534\n",
       "8  [0, 1]  [0.4439396066642701, 0.0054481505255580265]  5.212479\n",
       "9  [0, 0]     [0.7981777168868807, 0.7527633852372916] -0.000000"
      ]
     },
     "execution_count": 10,
     "metadata": {},
     "output_type": "execute_result"
    }
   ],
   "source": [
    "import pandas as pd\n",
    "\n",
    "h = lambda y, p: -(y*np.log(p)).sum(axis=1)\n",
    "\n",
    "# generate probabilities from uniform distribtuion U([0, 1])\n",
    "predicted_probas = np.random.uniform(size=(10, 2))\n",
    "# generate vectors of true labels from binomial distribution\n",
    "actual_classes = np.random.binomial(1, .2, size=(10, 2))\n",
    "# for each record calculate the value of cross-entropy\n",
    "cross_entropies = h(actual_classes, predicted_probas)\n",
    "pd.DataFrame(\n",
    "    zip(actual_classes, predicted_probas, cross_entropies),\n",
    "    columns=['y_i', 'p_i', 'H(y, p)']\n",
    ")"
   ]
  },
  {
   "cell_type": "markdown",
   "metadata": {},
   "source": [
    "The algorithm behind softmax regression is quite similar to the univariate logistic one:\n",
    "* We calculate logit $F_i=\\beta X$, where $\\beta$ has now size of $N\\times (K+1)$, where $N$ is the number of $Y_i$ and $K+1$ is the number of classes plus prepended intercept \n",
    "* We apply softmax to each class' logit for some $i$ and get a $PMF$\n",
    "* Given the $PMF$ of logits we calculate cross-entropy, take a derivative out of it and correct weights and intercept by the gradient (the derivation of the gradient can be found here: https://jmlb.github.io/ml/2017/12/26/Calculate_Gradient_Softmax/)\n",
    "* Taking $argmax[softmax(F_i)]$ returns the closest predicted class for the $i-\\text{th}$ record"
   ]
  },
  {
   "cell_type": "code",
   "execution_count": 70,
   "metadata": {},
   "outputs": [],
   "source": [
    "class SoftmaxRegression:\n",
    "\n",
    "    def __init__(self):\n",
    "        self.entropies = []\n",
    "        self.accuracies = []\n",
    "        self.W = []\n",
    "\n",
    "    def softmax(self, X):\n",
    "        return np.exp(X) / np.exp(X).sum()\n",
    "\n",
    "    def cross_entropy(self, y, yHat):\n",
    "        \"\"\"\n",
    "            y: np.ndarray\n",
    "                - onehot-encoded array, where 1 is in the spot for\n",
    "                the true label and the rest are zeroes\n",
    "            yHat: np.ndarray\n",
    "                - array of probabilities assigned to each class that\n",
    "                we get from softmax applied to the linear combination of\n",
    "                vectors \\beta and X\n",
    "        \"\"\"\n",
    "        return -(y*np.log(yHat)).sum(axis=1).mean()\n",
    "    \n",
    "    def predict(self, X):\n",
    "        X = np.hstack([np.ones((X.shape[0], 1)), X])\n",
    "        return np.argmax(\n",
    "            self.softmax(X@self.W.T), axis=1\n",
    "        )\n",
    "    \n",
    "    def fit(self, X, y, epochs:int = 1000, lr: float = .001, verbose: int = 100):\n",
    "        \"\"\" \n",
    "            X: np.ndarray\n",
    "                - array of features\n",
    "            y: np.ndarray\n",
    "                - array of true labels\n",
    "        \"\"\"\n",
    "        N = X.shape[0]\n",
    "        C = len(np.unique(y)) # number of classes\n",
    "        X = np.hstack([np.ones((N,1)),X])\n",
    "        D = X.shape[1]\n",
    "        self.W = np.random.randn(C, D)\n",
    "\n",
    "        for epoch in range(epochs+1):\n",
    "            # calculate predicted Y\n",
    "            logits = X@self.W.T\n",
    "            yHat = self.softmax(logits)\n",
    "\n",
    "            # compute and apply gradient for intercept\n",
    "            # self.W[:,0] -= lr * 1/N * (yHat - np.eye(C)[y])\n",
    "\n",
    "            # compute and apply gradients for weights\n",
    "            self.W -= (lr * 1/N * X.T @ (yHat - np.eye(C)[y])).T\n",
    "\n",
    "            # log loss\n",
    "            self.entropies.append(self.cross_entropy(np.eye(C)[y],yHat))\n",
    "            self.accuracies.append(accuracy_score(y,np.argmax(yHat, axis=1)))\n",
    "            if epoch % verbose == 0:\n",
    "                print(f'epoch {epoch} :: Cross-Entropy {self.entropies[-1]} :: Accuracy {self.accuracies[-1]}')"
   ]
  },
  {
   "cell_type": "code",
   "execution_count": 41,
   "metadata": {},
   "outputs": [
    {
     "data": {
      "text/plain": [
       "[(112, 4), (38, 4), (112,), (38,)]"
      ]
     },
     "execution_count": 41,
     "metadata": {},
     "output_type": "execute_result"
    }
   ],
   "source": [
    "from sklearn.datasets import load_iris\n",
    "from sklearn.model_selection import train_test_split\n",
    "from sklearn.preprocessing import StandardScaler\n",
    "\n",
    "iris = load_iris()\n",
    "X = iris.data\n",
    "y = iris.target\n",
    "\n",
    "X_train, X_test, y_train, y_test = train_test_split(X, y, test_size=0.25, random_state=42)\n",
    "\n",
    "scaler = StandardScaler()\n",
    "X_train = scaler.fit_transform(X_train)\n",
    "X_test = scaler.transform(X_test)\n",
    "list(map(lambda x: x.shape, [X_train, X_test, y_train, y_test]))"
   ]
  },
  {
   "cell_type": "code",
   "execution_count": 71,
   "metadata": {},
   "outputs": [
    {
     "name": "stdout",
     "output_type": "stream",
     "text": [
      "epoch 0 :: Cross-Entropy 7.832519575136579 :: Accuracy 0.3392857142857143\n",
      "epoch 1000 :: Cross-Entropy 7.405144525095417 :: Accuracy 0.5803571428571429\n",
      "epoch 2000 :: Cross-Entropy 7.077959994534295 :: Accuracy 0.6785714285714286\n",
      "epoch 3000 :: Cross-Entropy 6.810855397573184 :: Accuracy 0.7232142857142857\n",
      "epoch 4000 :: Cross-Entropy 6.592610495937154 :: Accuracy 0.75\n",
      "epoch 5000 :: Cross-Entropy 6.428235964534882 :: Accuracy 0.8035714285714286\n",
      "epoch 6000 :: Cross-Entropy 6.330036518579804 :: Accuracy 0.8125\n",
      "epoch 7000 :: Cross-Entropy 6.30980807216288 :: Accuracy 0.8214285714285714\n",
      "epoch 8000 :: Cross-Entropy 6.3719399073847125 :: Accuracy 0.8392857142857143\n",
      "epoch 9000 :: Cross-Entropy 6.5106735239710405 :: Accuracy 0.8482142857142857\n",
      "epoch 10000 :: Cross-Entropy 6.712966076715911 :: Accuracy 0.8482142857142857\n"
     ]
    }
   ],
   "source": [
    "softmaxRegr = SoftmaxRegression()\n",
    "softmaxRegr.fit(X_train, y_train, lr=.0005, epochs=10_000, verbose=1000)"
   ]
  },
  {
   "cell_type": "markdown",
   "metadata": {},
   "source": [
    "After training it seems that, despite increased accuracy, the model became a bit biased towards other classes, since the value of the cross-entropy experienced an overall increase:"
   ]
  },
  {
   "cell_type": "code",
   "execution_count": 56,
   "metadata": {},
   "outputs": [
    {
     "name": "stderr",
     "output_type": "stream",
     "text": [
      "/var/folders/5q/_slq00x17mg5rfvkrgd0mvw0pxb6fw/T/ipykernel_2241/1832402779.py:9: UserWarning:\n",
      "\n",
      "FigureCanvasAgg is non-interactive, and thus cannot be shown\n",
      "\n"
     ]
    },
    {
     "data": {
      "image/png": "[encoded data removed]",
      "text/plain": [
       "<Figure size 700x300 with 2 Axes>"
      ]
     },
     "metadata": {},
     "output_type": "display_data"
    }
   ],
   "source": [
    "import matplotlib.pyplot as plt\n",
    "\n",
    "fig, axs = plt.subplots(1,2,figsize=(7,3))\n",
    "axs[0].plot(softmaxRegr.entropies)\n",
    "axs[0].set(title='Value of Cross-Entropy')\n",
    "axs[1].plot(softmaxRegr.accuracies)\n",
    "axs[1].set(title='Accuracy')\n",
    "fig.tight_layout()\n",
    "fig.show()"
   ]
  },
  {
   "cell_type": "markdown",
   "metadata": {},
   "source": [
    "We can compare model's inference on the test sample using `scikit-learn` implementation as well as our custom. We can see, that we are lacking accuracy and there's room for improvement using cross-validation:"
   ]
  },
  {
   "cell_type": "code",
   "execution_count": 73,
   "metadata": {},
   "outputs": [
    {
     "name": "stdout",
     "output_type": "stream",
     "text": [
      "              precision    recall  f1-score   support\n",
      "\n",
      "           0       1.00      1.00      1.00        15\n",
      "           1       0.82      0.82      0.82        11\n",
      "           2       0.83      0.83      0.83        12\n",
      "\n",
      "    accuracy                           0.89        38\n",
      "   macro avg       0.88      0.88      0.88        38\n",
      "weighted avg       0.89      0.89      0.89        38\n",
      "\n"
     ]
    }
   ],
   "source": [
    "from sklearn.metrics import classification_report\n",
    "\n",
    "print(\n",
    "    classification_report(y_test, softmaxRegr.predict(X_test))\n",
    ")"
   ]
  },
  {
   "cell_type": "code",
   "execution_count": 74,
   "metadata": {},
   "outputs": [
    {
     "name": "stdout",
     "output_type": "stream",
     "text": [
      "              precision    recall  f1-score   support\n",
      "\n",
      "           0       1.00      1.00      1.00        15\n",
      "           1       1.00      1.00      1.00        11\n",
      "           2       1.00      1.00      1.00        12\n",
      "\n",
      "    accuracy                           1.00        38\n",
      "   macro avg       1.00      1.00      1.00        38\n",
      "weighted avg       1.00      1.00      1.00        38\n",
      "\n"
     ]
    }
   ],
   "source": [
    "from sklearn.linear_model import LogisticRegression\n",
    "clf = LogisticRegression(random_state=0).fit(X_train, y_train)\n",
    "yPred = clf.predict(X_test)\n",
    "print(\n",
    "    classification_report(y_test, yPred)\n",
    ")"
   ]
  }
 ],
 "metadata": {
  "kernelspec": {
   "display_name": "regular",
   "language": "python",
   "name": "python3"
  },
  "language_info": {
   "codemirror_mode": {
    "name": "ipython",
    "version": 3
   },
   "file_extension": ".py",
   "mimetype": "text/x-python",
   "name": "python",
   "nbconvert_exporter": "python",
   "pygments_lexer": "ipython3",
   "version": "3.12.0"
  }
 },
 "nbformat": 4,
 "nbformat_minor": 2
}
