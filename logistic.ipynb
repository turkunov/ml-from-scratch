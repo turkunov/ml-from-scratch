{
 "cells": [
  {
   "cell_type": "markdown",
   "metadata": {},
   "source": [
    "Logistic regression is a common model for classification problems. It is applicabale to both binary and multiclass classification, however for starters it's necessary to understand the logic behind the use of logistic regression in binary classification problem. \n",
    "<br/><br/>\n",
    "The basis of logistic regression is **sigmoid** function: $\\sigma(x)=\\frac{1}{1+e^{-x}}$ It's highly applicable in classification problemnts, since it is close to either 0 or 1 across most of its domain:"
   ]
  },
  {
   "cell_type": "code",
   "execution_count": 1,
   "metadata": {},
   "outputs": [
    {
     "data": {
      "application/vnd.plotly.v1+json": {
       "config": {
        "plotlyServerURL": "https://plot.ly"
       },
       "data": [
        {
         "hovertemplate": "x=%{x}<br>y=%{y}<extra></extra>",
         "legendgroup": "",
         "line": {
          "color": "#636efa",
          "dash": "solid"
         },
         "marker": {
          "symbol": "circle"
         },
         "mode": "lines",
         "name": "",
         "orientation": "v",
         "showlegend": false,
         "type": "scatter",
         "x": [
          -20,
          -19,
          -18,
          -17,
          -16,
          -15,
          -14,
          -13,
          -12,
          -11,
          -10,
          -9,
          -8,
          -7,
          -6,
          -5,
          -4,
          -3,
          -2,
          -1,
          0,
          1,
          2,
          3,
          4,
          5,
          6,
          7,
          8,
          9,
          10,
          11,
          12,
          13,
          14,
          15,
          16,
          17,
          18,
          19
         ],
         "xaxis": "x",
         "y": [
          2.0611536181902037e-9,
          5.602796406145941e-9,
          1.522997951276035e-8,
          4.1399375473943306e-8,
          1.12535162055095e-7,
          3.059022269256247e-7,
          8.315280276641321e-7,
          0.0000022603242979035746,
          0.000006144174602214718,
          0.00001670142184809518,
          0.000045397868702434395,
          0.00012339457598623172,
          0.0003353501304664781,
          0.0009110511944006454,
          0.0024726231566347743,
          0.0066928509242848554,
          0.01798620996209156,
          0.04742587317756678,
          0.11920292202211755,
          0.2689414213699951,
          0.5,
          0.7310585786300049,
          0.8807970779778823,
          0.9525741268224334,
          0.9820137900379085,
          0.9933071490757153,
          0.9975273768433653,
          0.9990889488055994,
          0.9996646498695336,
          0.9998766054240137,
          0.9999546021312976,
          0.999983298578152,
          0.9999938558253978,
          0.999997739675702,
          0.9999991684719722,
          0.999999694097773,
          0.9999998874648379,
          0.9999999586006244,
          0.9999999847700205,
          0.9999999943972036
         ],
         "yaxis": "y"
        }
       ],
       "layout": {
        "legend": {
         "tracegroupgap": 0
        },
        "template": {
         "data": {
          "bar": [
           {
            "error_x": {
             "color": "#2a3f5f"
            },
            "error_y": {
             "color": "#2a3f5f"
            },
            "marker": {
             "line": {
              "color": "#E5ECF6",
              "width": 0.5
             },
             "pattern": {
              "fillmode": "overlay",
              "size": 10,
              "solidity": 0.2
             }
            },
            "type": "bar"
           }
          ],
          "barpolar": [
           {
            "marker": {
             "line": {
              "color": "#E5ECF6",
              "width": 0.5
             },
             "pattern": {
              "fillmode": "overlay",
              "size": 10,
              "solidity": 0.2
             }
            },
            "type": "barpolar"
           }
          ],
          "carpet": [
           {
            "aaxis": {
             "endlinecolor": "#2a3f5f",
             "gridcolor": "white",
             "linecolor": "white",
             "minorgridcolor": "white",
             "startlinecolor": "#2a3f5f"
            },
            "baxis": {
             "endlinecolor": "#2a3f5f",
             "gridcolor": "white",
             "linecolor": "white",
             "minorgridcolor": "white",
             "startlinecolor": "#2a3f5f"
            },
            "type": "carpet"
           }
          ],
          "choropleth": [
           {
            "colorbar": {
             "outlinewidth": 0,
             "ticks": ""
            },
            "type": "choropleth"
           }
          ],
          "contour": [
           {
            "colorbar": {
             "outlinewidth": 0,
             "ticks": ""
            },
            "colorscale": [
             [
              0,
              "#0d0887"
             ],
             [
              0.1111111111111111,
              "#46039f"
             ],
             [
              0.2222222222222222,
              "#7201a8"
             ],
             [
              0.3333333333333333,
              "#9c179e"
             ],
             [
              0.4444444444444444,
              "#bd3786"
             ],
             [
              0.5555555555555556,
              "#d8576b"
             ],
             [
              0.6666666666666666,
              "#ed7953"
             ],
             [
              0.7777777777777778,
              "#fb9f3a"
             ],
             [
              0.8888888888888888,
              "#fdca26"
             ],
             [
              1,
              "#f0f921"
             ]
            ],
            "type": "contour"
           }
          ],
          "contourcarpet": [
           {
            "colorbar": {
             "outlinewidth": 0,
             "ticks": ""
            },
            "type": "contourcarpet"
           }
          ],
          "heatmap": [
           {
            "colorbar": {
             "outlinewidth": 0,
             "ticks": ""
            },
            "colorscale": [
             [
              0,
              "#0d0887"
             ],
             [
              0.1111111111111111,
              "#46039f"
             ],
             [
              0.2222222222222222,
              "#7201a8"
             ],
             [
              0.3333333333333333,
              "#9c179e"
             ],
             [
              0.4444444444444444,
              "#bd3786"
             ],
             [
              0.5555555555555556,
              "#d8576b"
             ],
             [
              0.6666666666666666,
              "#ed7953"
             ],
             [
              0.7777777777777778,
              "#fb9f3a"
             ],
             [
              0.8888888888888888,
              "#fdca26"
             ],
             [
              1,
              "#f0f921"
             ]
            ],
            "type": "heatmap"
           }
          ],
          "heatmapgl": [
           {
            "colorbar": {
             "outlinewidth": 0,
             "ticks": ""
            },
            "colorscale": [
             [
              0,
              "#0d0887"
             ],
             [
              0.1111111111111111,
              "#46039f"
             ],
             [
              0.2222222222222222,
              "#7201a8"
             ],
             [
              0.3333333333333333,
              "#9c179e"
             ],
             [
              0.4444444444444444,
              "#bd3786"
             ],
             [
              0.5555555555555556,
              "#d8576b"
             ],
             [
              0.6666666666666666,
              "#ed7953"
             ],
             [
              0.7777777777777778,
              "#fb9f3a"
             ],
             [
              0.8888888888888888,
              "#fdca26"
             ],
             [
              1,
              "#f0f921"
             ]
            ],
            "type": "heatmapgl"
           }
          ],
          "histogram": [
           {
            "marker": {
             "pattern": {
              "fillmode": "overlay",
              "size": 10,
              "solidity": 0.2
             }
            },
            "type": "histogram"
           }
          ],
          "histogram2d": [
           {
            "colorbar": {
             "outlinewidth": 0,
             "ticks": ""
            },
            "colorscale": [
             [
              0,
              "#0d0887"
             ],
             [
              0.1111111111111111,
              "#46039f"
             ],
             [
              0.2222222222222222,
              "#7201a8"
             ],
             [
              0.3333333333333333,
              "#9c179e"
             ],
             [
              0.4444444444444444,
              "#bd3786"
             ],
             [
              0.5555555555555556,
              "#d8576b"
             ],
             [
              0.6666666666666666,
              "#ed7953"
             ],
             [
              0.7777777777777778,
              "#fb9f3a"
             ],
             [
              0.8888888888888888,
              "#fdca26"
             ],
             [
              1,
              "#f0f921"
             ]
            ],
            "type": "histogram2d"
           }
          ],
          "histogram2dcontour": [
           {
            "colorbar": {
             "outlinewidth": 0,
             "ticks": ""
            },
            "colorscale": [
             [
              0,
              "#0d0887"
             ],
             [
              0.1111111111111111,
              "#46039f"
             ],
             [
              0.2222222222222222,
              "#7201a8"
             ],
             [
              0.3333333333333333,
              "#9c179e"
             ],
             [
              0.4444444444444444,
              "#bd3786"
             ],
             [
              0.5555555555555556,
              "#d8576b"
             ],
             [
              0.6666666666666666,
              "#ed7953"
             ],
             [
              0.7777777777777778,
              "#fb9f3a"
             ],
             [
              0.8888888888888888,
              "#fdca26"
             ],
             [
              1,
              "#f0f921"
             ]
            ],
            "type": "histogram2dcontour"
           }
          ],
          "mesh3d": [
           {
            "colorbar": {
             "outlinewidth": 0,
             "ticks": ""
            },
            "type": "mesh3d"
           }
          ],
          "parcoords": [
           {
            "line": {
             "colorbar": {
              "outlinewidth": 0,
              "ticks": ""
             }
            },
            "type": "parcoords"
           }
          ],
          "pie": [
           {
            "automargin": true,
            "type": "pie"
           }
          ],
          "scatter": [
           {
            "fillpattern": {
             "fillmode": "overlay",
             "size": 10,
             "solidity": 0.2
            },
            "type": "scatter"
           }
          ],
          "scatter3d": [
           {
            "line": {
             "colorbar": {
              "outlinewidth": 0,
              "ticks": ""
             }
            },
            "marker": {
             "colorbar": {
              "outlinewidth": 0,
              "ticks": ""
             }
            },
            "type": "scatter3d"
           }
          ],
          "scattercarpet": [
           {
            "marker": {
             "colorbar": {
              "outlinewidth": 0,
              "ticks": ""
             }
            },
            "type": "scattercarpet"
           }
          ],
          "scattergeo": [
           {
            "marker": {
             "colorbar": {
              "outlinewidth": 0,
              "ticks": ""
             }
            },
            "type": "scattergeo"
           }
          ],
          "scattergl": [
           {
            "marker": {
             "colorbar": {
              "outlinewidth": 0,
              "ticks": ""
             }
            },
            "type": "scattergl"
           }
          ],
          "scattermapbox": [
           {
            "marker": {
             "colorbar": {
              "outlinewidth": 0,
              "ticks": ""
             }
            },
            "type": "scattermapbox"
           }
          ],
          "scatterpolar": [
           {
            "marker": {
             "colorbar": {
              "outlinewidth": 0,
              "ticks": ""
             }
            },
            "type": "scatterpolar"
           }
          ],
          "scatterpolargl": [
           {
            "marker": {
             "colorbar": {
              "outlinewidth": 0,
              "ticks": ""
             }
            },
            "type": "scatterpolargl"
           }
          ],
          "scatterternary": [
           {
            "marker": {
             "colorbar": {
              "outlinewidth": 0,
              "ticks": ""
             }
            },
            "type": "scatterternary"
           }
          ],
          "surface": [
           {
            "colorbar": {
             "outlinewidth": 0,
             "ticks": ""
            },
            "colorscale": [
             [
              0,
              "#0d0887"
             ],
             [
              0.1111111111111111,
              "#46039f"
             ],
             [
              0.2222222222222222,
              "#7201a8"
             ],
             [
              0.3333333333333333,
              "#9c179e"
             ],
             [
              0.4444444444444444,
              "#bd3786"
             ],
             [
              0.5555555555555556,
              "#d8576b"
             ],
             [
              0.6666666666666666,
              "#ed7953"
             ],
             [
              0.7777777777777778,
              "#fb9f3a"
             ],
             [
              0.8888888888888888,
              "#fdca26"
             ],
             [
              1,
              "#f0f921"
             ]
            ],
            "type": "surface"
           }
          ],
          "table": [
           {
            "cells": {
             "fill": {
              "color": "#EBF0F8"
             },
             "line": {
              "color": "white"
             }
            },
            "header": {
             "fill": {
              "color": "#C8D4E3"
             },
             "line": {
              "color": "white"
             }
            },
            "type": "table"
           }
          ]
         },
         "layout": {
          "annotationdefaults": {
           "arrowcolor": "#2a3f5f",
           "arrowhead": 0,
           "arrowwidth": 1
          },
          "autotypenumbers": "strict",
          "coloraxis": {
           "colorbar": {
            "outlinewidth": 0,
            "ticks": ""
           }
          },
          "colorscale": {
           "diverging": [
            [
             0,
             "#8e0152"
            ],
            [
             0.1,
             "#c51b7d"
            ],
            [
             0.2,
             "#de77ae"
            ],
            [
             0.3,
             "#f1b6da"
            ],
            [
             0.4,
             "#fde0ef"
            ],
            [
             0.5,
             "#f7f7f7"
            ],
            [
             0.6,
             "#e6f5d0"
            ],
            [
             0.7,
             "#b8e186"
            ],
            [
             0.8,
             "#7fbc41"
            ],
            [
             0.9,
             "#4d9221"
            ],
            [
             1,
             "#276419"
            ]
           ],
           "sequential": [
            [
             0,
             "#0d0887"
            ],
            [
             0.1111111111111111,
             "#46039f"
            ],
            [
             0.2222222222222222,
             "#7201a8"
            ],
            [
             0.3333333333333333,
             "#9c179e"
            ],
            [
             0.4444444444444444,
             "#bd3786"
            ],
            [
             0.5555555555555556,
             "#d8576b"
            ],
            [
             0.6666666666666666,
             "#ed7953"
            ],
            [
             0.7777777777777778,
             "#fb9f3a"
            ],
            [
             0.8888888888888888,
             "#fdca26"
            ],
            [
             1,
             "#f0f921"
            ]
           ],
           "sequentialminus": [
            [
             0,
             "#0d0887"
            ],
            [
             0.1111111111111111,
             "#46039f"
            ],
            [
             0.2222222222222222,
             "#7201a8"
            ],
            [
             0.3333333333333333,
             "#9c179e"
            ],
            [
             0.4444444444444444,
             "#bd3786"
            ],
            [
             0.5555555555555556,
             "#d8576b"
            ],
            [
             0.6666666666666666,
             "#ed7953"
            ],
            [
             0.7777777777777778,
             "#fb9f3a"
            ],
            [
             0.8888888888888888,
             "#fdca26"
            ],
            [
             1,
             "#f0f921"
            ]
           ]
          },
          "colorway": [
           "#636efa",
           "#EF553B",
           "#00cc96",
           "#ab63fa",
           "#FFA15A",
           "#19d3f3",
           "#FF6692",
           "#B6E880",
           "#FF97FF",
           "#FECB52"
          ],
          "font": {
           "color": "#2a3f5f"
          },
          "geo": {
           "bgcolor": "white",
           "lakecolor": "white",
           "landcolor": "#E5ECF6",
           "showlakes": true,
           "showland": true,
           "subunitcolor": "white"
          },
          "hoverlabel": {
           "align": "left"
          },
          "hovermode": "closest",
          "mapbox": {
           "style": "light"
          },
          "paper_bgcolor": "white",
          "plot_bgcolor": "#E5ECF6",
          "polar": {
           "angularaxis": {
            "gridcolor": "white",
            "linecolor": "white",
            "ticks": ""
           },
           "bgcolor": "#E5ECF6",
           "radialaxis": {
            "gridcolor": "white",
            "linecolor": "white",
            "ticks": ""
           }
          },
          "scene": {
           "xaxis": {
            "backgroundcolor": "#E5ECF6",
            "gridcolor": "white",
            "gridwidth": 2,
            "linecolor": "white",
            "showbackground": true,
            "ticks": "",
            "zerolinecolor": "white"
           },
           "yaxis": {
            "backgroundcolor": "#E5ECF6",
            "gridcolor": "white",
            "gridwidth": 2,
            "linecolor": "white",
            "showbackground": true,
            "ticks": "",
            "zerolinecolor": "white"
           },
           "zaxis": {
            "backgroundcolor": "#E5ECF6",
            "gridcolor": "white",
            "gridwidth": 2,
            "linecolor": "white",
            "showbackground": true,
            "ticks": "",
            "zerolinecolor": "white"
           }
          },
          "shapedefaults": {
           "line": {
            "color": "#2a3f5f"
           }
          },
          "ternary": {
           "aaxis": {
            "gridcolor": "white",
            "linecolor": "white",
            "ticks": ""
           },
           "baxis": {
            "gridcolor": "white",
            "linecolor": "white",
            "ticks": ""
           },
           "bgcolor": "#E5ECF6",
           "caxis": {
            "gridcolor": "white",
            "linecolor": "white",
            "ticks": ""
           }
          },
          "title": {
           "x": 0.05
          },
          "xaxis": {
           "automargin": true,
           "gridcolor": "white",
           "linecolor": "white",
           "ticks": "",
           "title": {
            "standoff": 15
           },
           "zerolinecolor": "white",
           "zerolinewidth": 2
          },
          "yaxis": {
           "automargin": true,
           "gridcolor": "white",
           "linecolor": "white",
           "ticks": "",
           "title": {
            "standoff": 15
           },
           "zerolinecolor": "white",
           "zerolinewidth": 2
          }
         }
        },
        "title": {
         "text": "$\\sigma(x)$"
        },
        "xaxis": {
         "anchor": "y",
         "domain": [
          0,
          1
         ],
         "title": {
          "text": "x"
         }
        },
        "yaxis": {
         "anchor": "x",
         "domain": [
          0,
          1
         ],
         "title": {
          "text": "y"
         }
        }
       }
      }
     },
     "metadata": {},
     "output_type": "display_data"
    }
   ],
   "source": [
    "import numpy as np\n",
    "import plotly.express as px\n",
    "\n",
    "sigmoid = lambda x: 1 / (1+np.exp(-x))\n",
    "X = np.arange(-20,20)\n",
    "px.line(x=X, y=sigmoid(X), title=r'$\\sigma(x)$')"
   ]
  },
  {
   "cell_type": "markdown",
   "metadata": {},
   "source": [
    "Another important term is **logit**, which is a logarithm of odds. **Odds** is a ratio between probabilities $\\frac{p}{1-p}$. Since both odds and logits are monotonically increasing functions, we can apply log-transformation to odds.\n",
    "<br/><br/>\n",
    "It is important to explain the intuition behind odds. **Odds** is a quantitive measure of a success. Suppose $p=0,8$ and $q=1-p=0,2$. Therefore the odds of a success will be $\\frac{0,8}{0,2}=4$. This can be best interpreted as \"we encounter an unfavorable outcome once in every 4+1 events\". Therefore, the higher is the $p$, the higher are the odds.\n",
    "<br/><br/>\n",
    "As to **logits**, the function approaches $-\\infty$ for the lowest odds and approaches $+\\infty$ for the highest odds. Logits, that are based on odds, allow us to shift from restricted domain of $[0, 1]$ set by probabilities distribution to unrestricted domain $[-\\infty; +\\infty]$"
   ]
  },
  {
   "cell_type": "code",
   "execution_count": 29,
   "metadata": {},
   "outputs": [
    {
     "data": {
      "application/vnd.plotly.v1+json": {
       "config": {
        "plotlyServerURL": "https://plot.ly"
       },
       "data": [
        {
         "mode": "lines",
         "type": "scatter",
         "x": [
          0,
          0.02040816326530612,
          0.04081632653061224,
          0.061224489795918366,
          0.08163265306122448,
          0.1020408163265306,
          0.12244897959183673,
          0.14285714285714285,
          0.16326530612244897,
          0.18367346938775508,
          0.2040816326530612,
          0.22448979591836732,
          0.24489795918367346,
          0.26530612244897955,
          0.2857142857142857,
          0.3061224489795918,
          0.32653061224489793,
          0.3469387755102041,
          0.36734693877551017,
          0.3877551020408163,
          0.4081632653061224,
          0.42857142857142855,
          0.44897959183673464,
          0.4693877551020408,
          0.4897959183673469,
          0.5102040816326531,
          0.5306122448979591,
          0.5510204081632653,
          0.5714285714285714,
          0.5918367346938775,
          0.6122448979591836,
          0.6326530612244897,
          0.6530612244897959,
          0.673469387755102,
          0.6938775510204082,
          0.7142857142857142,
          0.7346938775510203,
          0.7551020408163265,
          0.7755102040816326,
          0.7959183673469387,
          0.8163265306122448,
          0.836734693877551,
          0.8571428571428571,
          0.8775510204081632,
          0.8979591836734693,
          0.9183673469387754,
          0.9387755102040816,
          0.9591836734693877,
          0.9795918367346939,
          1
         ],
         "xaxis": "x",
         "y": [
          0,
          0.020833333333333332,
          0.0425531914893617,
          0.06521739130434782,
          0.08888888888888888,
          0.11363636363636362,
          0.13953488372093023,
          0.16666666666666666,
          0.19512195121951217,
          0.22499999999999998,
          0.2564102564102564,
          0.28947368421052627,
          0.32432432432432434,
          0.36111111111111105,
          0.39999999999999997,
          0.44117647058823517,
          0.48484848484848475,
          0.53125,
          0.5806451612903225,
          0.6333333333333333,
          0.689655172413793,
          0.75,
          0.8148148148148147,
          0.8846153846153845,
          0.96,
          1.0416666666666667,
          1.1304347826086953,
          1.227272727272727,
          1.3333333333333333,
          1.45,
          1.578947368421052,
          1.7222222222222217,
          1.8823529411764701,
          2.0624999999999996,
          2.2666666666666666,
          2.4999999999999987,
          2.7692307692307683,
          3.0833333333333326,
          3.454545454545454,
          3.8999999999999972,
          4.444444444444442,
          5.124999999999997,
          5.999999999999997,
          7.166666666666665,
          8.799999999999988,
          11.249999999999986,
          15.333333333333314,
          23.49999999999997,
          47.99999999999994,
          null
         ],
         "yaxis": "y"
        },
        {
         "mode": "lines",
         "type": "scatter",
         "x": [
          0,
          0.020833333333333332,
          0.0425531914893617,
          0.06521739130434782,
          0.08888888888888888,
          0.11363636363636362,
          0.13953488372093023,
          0.16666666666666666,
          0.19512195121951217,
          0.22499999999999998,
          0.2564102564102564,
          0.28947368421052627,
          0.32432432432432434,
          0.36111111111111105,
          0.39999999999999997,
          0.44117647058823517,
          0.48484848484848475,
          0.53125,
          0.5806451612903225,
          0.6333333333333333,
          0.689655172413793,
          0.75,
          0.8148148148148147,
          0.8846153846153845,
          0.96,
          1.0416666666666667,
          1.1304347826086953,
          1.227272727272727,
          1.3333333333333333,
          1.45,
          1.578947368421052,
          1.7222222222222217,
          1.8823529411764701,
          2.0624999999999996,
          2.2666666666666666,
          2.4999999999999987,
          2.7692307692307683,
          3.0833333333333326,
          3.454545454545454,
          3.8999999999999972,
          4.444444444444442,
          5.124999999999997,
          5.999999999999997,
          7.166666666666665,
          8.799999999999988,
          11.249999999999986,
          15.333333333333314,
          23.49999999999997,
          47.99999999999994,
          null
         ],
         "xaxis": "x2",
         "y": [
          null,
          -3.871201010907891,
          -3.1570004211501135,
          -2.7300291078209855,
          -2.4203681286504293,
          -2.174751721484161,
          -1.9694406464655074,
          -1.791759469228055,
          -1.634130525024472,
          -1.491654876777717,
          -1.3609765531356008,
          -1.2396908869280154,
          -1.126011262856224,
          -1.0185695809945734,
          -0.9162907318741551,
          -0.8183103235139516,
          -0.7239188392266992,
          -0.6325225587435105,
          -0.5436154465889816,
          -0.456758402495715,
          -0.3715635564324831,
          -0.2876820724517809,
          -0.20479441264601342,
          -0.12260232209233252,
          -0.040821994520255166,
          0.0408219945202552,
          0.12260232209233209,
          0.20479441264601306,
          0.28768207245178085,
          0.371563556432483,
          0.45675840249571453,
          0.5436154465889812,
          0.6325225587435103,
          0.7239188392266988,
          0.8183103235139513,
          0.9162907318741546,
          1.018569580994573,
          1.126011262856224,
          1.2396908869280152,
          1.3609765531356,
          1.4916548767777165,
          1.6341305250244713,
          1.7917594692280545,
          1.9694406464655072,
          2.1747517214841596,
          2.420368128650428,
          2.730029107820984,
          3.157000421150112,
          3.87120101090789,
          null
         ],
         "yaxis": "y2"
        }
       ],
       "layout": {
        "annotations": [
         {
          "font": {
           "size": 16
          },
          "showarrow": false,
          "text": "Odds(p)",
          "x": 0.225,
          "xanchor": "center",
          "xref": "paper",
          "y": 1,
          "yanchor": "bottom",
          "yref": "paper"
         },
         {
          "font": {
           "size": 16
          },
          "showarrow": false,
          "text": "Log[Odds(p)]",
          "x": 0.775,
          "xanchor": "center",
          "xref": "paper",
          "y": 1,
          "yanchor": "bottom",
          "yref": "paper"
         }
        ],
        "height": 500,
        "template": {
         "data": {
          "bar": [
           {
            "error_x": {
             "color": "#2a3f5f"
            },
            "error_y": {
             "color": "#2a3f5f"
            },
            "marker": {
             "line": {
              "color": "#E5ECF6",
              "width": 0.5
             },
             "pattern": {
              "fillmode": "overlay",
              "size": 10,
              "solidity": 0.2
             }
            },
            "type": "bar"
           }
          ],
          "barpolar": [
           {
            "marker": {
             "line": {
              "color": "#E5ECF6",
              "width": 0.5
             },
             "pattern": {
              "fillmode": "overlay",
              "size": 10,
              "solidity": 0.2
             }
            },
            "type": "barpolar"
           }
          ],
          "carpet": [
           {
            "aaxis": {
             "endlinecolor": "#2a3f5f",
             "gridcolor": "white",
             "linecolor": "white",
             "minorgridcolor": "white",
             "startlinecolor": "#2a3f5f"
            },
            "baxis": {
             "endlinecolor": "#2a3f5f",
             "gridcolor": "white",
             "linecolor": "white",
             "minorgridcolor": "white",
             "startlinecolor": "#2a3f5f"
            },
            "type": "carpet"
           }
          ],
          "choropleth": [
           {
            "colorbar": {
             "outlinewidth": 0,
             "ticks": ""
            },
            "type": "choropleth"
           }
          ],
          "contour": [
           {
            "colorbar": {
             "outlinewidth": 0,
             "ticks": ""
            },
            "colorscale": [
             [
              0,
              "#0d0887"
             ],
             [
              0.1111111111111111,
              "#46039f"
             ],
             [
              0.2222222222222222,
              "#7201a8"
             ],
             [
              0.3333333333333333,
              "#9c179e"
             ],
             [
              0.4444444444444444,
              "#bd3786"
             ],
             [
              0.5555555555555556,
              "#d8576b"
             ],
             [
              0.6666666666666666,
              "#ed7953"
             ],
             [
              0.7777777777777778,
              "#fb9f3a"
             ],
             [
              0.8888888888888888,
              "#fdca26"
             ],
             [
              1,
              "#f0f921"
             ]
            ],
            "type": "contour"
           }
          ],
          "contourcarpet": [
           {
            "colorbar": {
             "outlinewidth": 0,
             "ticks": ""
            },
            "type": "contourcarpet"
           }
          ],
          "heatmap": [
           {
            "colorbar": {
             "outlinewidth": 0,
             "ticks": ""
            },
            "colorscale": [
             [
              0,
              "#0d0887"
             ],
             [
              0.1111111111111111,
              "#46039f"
             ],
             [
              0.2222222222222222,
              "#7201a8"
             ],
             [
              0.3333333333333333,
              "#9c179e"
             ],
             [
              0.4444444444444444,
              "#bd3786"
             ],
             [
              0.5555555555555556,
              "#d8576b"
             ],
             [
              0.6666666666666666,
              "#ed7953"
             ],
             [
              0.7777777777777778,
              "#fb9f3a"
             ],
             [
              0.8888888888888888,
              "#fdca26"
             ],
             [
              1,
              "#f0f921"
             ]
            ],
            "type": "heatmap"
           }
          ],
          "heatmapgl": [
           {
            "colorbar": {
             "outlinewidth": 0,
             "ticks": ""
            },
            "colorscale": [
             [
              0,
              "#0d0887"
             ],
             [
              0.1111111111111111,
              "#46039f"
             ],
             [
              0.2222222222222222,
              "#7201a8"
             ],
             [
              0.3333333333333333,
              "#9c179e"
             ],
             [
              0.4444444444444444,
              "#bd3786"
             ],
             [
              0.5555555555555556,
              "#d8576b"
             ],
             [
              0.6666666666666666,
              "#ed7953"
             ],
             [
              0.7777777777777778,
              "#fb9f3a"
             ],
             [
              0.8888888888888888,
              "#fdca26"
             ],
             [
              1,
              "#f0f921"
             ]
            ],
            "type": "heatmapgl"
           }
          ],
          "histogram": [
           {
            "marker": {
             "pattern": {
              "fillmode": "overlay",
              "size": 10,
              "solidity": 0.2
             }
            },
            "type": "histogram"
           }
          ],
          "histogram2d": [
           {
            "colorbar": {
             "outlinewidth": 0,
             "ticks": ""
            },
            "colorscale": [
             [
              0,
              "#0d0887"
             ],
             [
              0.1111111111111111,
              "#46039f"
             ],
             [
              0.2222222222222222,
              "#7201a8"
             ],
             [
              0.3333333333333333,
              "#9c179e"
             ],
             [
              0.4444444444444444,
              "#bd3786"
             ],
             [
              0.5555555555555556,
              "#d8576b"
             ],
             [
              0.6666666666666666,
              "#ed7953"
             ],
             [
              0.7777777777777778,
              "#fb9f3a"
             ],
             [
              0.8888888888888888,
              "#fdca26"
             ],
             [
              1,
              "#f0f921"
             ]
            ],
            "type": "histogram2d"
           }
          ],
          "histogram2dcontour": [
           {
            "colorbar": {
             "outlinewidth": 0,
             "ticks": ""
            },
            "colorscale": [
             [
              0,
              "#0d0887"
             ],
             [
              0.1111111111111111,
              "#46039f"
             ],
             [
              0.2222222222222222,
              "#7201a8"
             ],
             [
              0.3333333333333333,
              "#9c179e"
             ],
             [
              0.4444444444444444,
              "#bd3786"
             ],
             [
              0.5555555555555556,
              "#d8576b"
             ],
             [
              0.6666666666666666,
              "#ed7953"
             ],
             [
              0.7777777777777778,
              "#fb9f3a"
             ],
             [
              0.8888888888888888,
              "#fdca26"
             ],
             [
              1,
              "#f0f921"
             ]
            ],
            "type": "histogram2dcontour"
           }
          ],
          "mesh3d": [
           {
            "colorbar": {
             "outlinewidth": 0,
             "ticks": ""
            },
            "type": "mesh3d"
           }
          ],
          "parcoords": [
           {
            "line": {
             "colorbar": {
              "outlinewidth": 0,
              "ticks": ""
             }
            },
            "type": "parcoords"
           }
          ],
          "pie": [
           {
            "automargin": true,
            "type": "pie"
           }
          ],
          "scatter": [
           {
            "fillpattern": {
             "fillmode": "overlay",
             "size": 10,
             "solidity": 0.2
            },
            "type": "scatter"
           }
          ],
          "scatter3d": [
           {
            "line": {
             "colorbar": {
              "outlinewidth": 0,
              "ticks": ""
             }
            },
            "marker": {
             "colorbar": {
              "outlinewidth": 0,
              "ticks": ""
             }
            },
            "type": "scatter3d"
           }
          ],
          "scattercarpet": [
           {
            "marker": {
             "colorbar": {
              "outlinewidth": 0,
              "ticks": ""
             }
            },
            "type": "scattercarpet"
           }
          ],
          "scattergeo": [
           {
            "marker": {
             "colorbar": {
              "outlinewidth": 0,
              "ticks": ""
             }
            },
            "type": "scattergeo"
           }
          ],
          "scattergl": [
           {
            "marker": {
             "colorbar": {
              "outlinewidth": 0,
              "ticks": ""
             }
            },
            "type": "scattergl"
           }
          ],
          "scattermapbox": [
           {
            "marker": {
             "colorbar": {
              "outlinewidth": 0,
              "ticks": ""
             }
            },
            "type": "scattermapbox"
           }
          ],
          "scatterpolar": [
           {
            "marker": {
             "colorbar": {
              "outlinewidth": 0,
              "ticks": ""
             }
            },
            "type": "scatterpolar"
           }
          ],
          "scatterpolargl": [
           {
            "marker": {
             "colorbar": {
              "outlinewidth": 0,
              "ticks": ""
             }
            },
            "type": "scatterpolargl"
           }
          ],
          "scatterternary": [
           {
            "marker": {
             "colorbar": {
              "outlinewidth": 0,
              "ticks": ""
             }
            },
            "type": "scatterternary"
           }
          ],
          "surface": [
           {
            "colorbar": {
             "outlinewidth": 0,
             "ticks": ""
            },
            "colorscale": [
             [
              0,
              "#0d0887"
             ],
             [
              0.1111111111111111,
              "#46039f"
             ],
             [
              0.2222222222222222,
              "#7201a8"
             ],
             [
              0.3333333333333333,
              "#9c179e"
             ],
             [
              0.4444444444444444,
              "#bd3786"
             ],
             [
              0.5555555555555556,
              "#d8576b"
             ],
             [
              0.6666666666666666,
              "#ed7953"
             ],
             [
              0.7777777777777778,
              "#fb9f3a"
             ],
             [
              0.8888888888888888,
              "#fdca26"
             ],
             [
              1,
              "#f0f921"
             ]
            ],
            "type": "surface"
           }
          ],
          "table": [
           {
            "cells": {
             "fill": {
              "color": "#EBF0F8"
             },
             "line": {
              "color": "white"
             }
            },
            "header": {
             "fill": {
              "color": "#C8D4E3"
             },
             "line": {
              "color": "white"
             }
            },
            "type": "table"
           }
          ]
         },
         "layout": {
          "annotationdefaults": {
           "arrowcolor": "#2a3f5f",
           "arrowhead": 0,
           "arrowwidth": 1
          },
          "autotypenumbers": "strict",
          "coloraxis": {
           "colorbar": {
            "outlinewidth": 0,
            "ticks": ""
           }
          },
          "colorscale": {
           "diverging": [
            [
             0,
             "#8e0152"
            ],
            [
             0.1,
             "#c51b7d"
            ],
            [
             0.2,
             "#de77ae"
            ],
            [
             0.3,
             "#f1b6da"
            ],
            [
             0.4,
             "#fde0ef"
            ],
            [
             0.5,
             "#f7f7f7"
            ],
            [
             0.6,
             "#e6f5d0"
            ],
            [
             0.7,
             "#b8e186"
            ],
            [
             0.8,
             "#7fbc41"
            ],
            [
             0.9,
             "#4d9221"
            ],
            [
             1,
             "#276419"
            ]
           ],
           "sequential": [
            [
             0,
             "#0d0887"
            ],
            [
             0.1111111111111111,
             "#46039f"
            ],
            [
             0.2222222222222222,
             "#7201a8"
            ],
            [
             0.3333333333333333,
             "#9c179e"
            ],
            [
             0.4444444444444444,
             "#bd3786"
            ],
            [
             0.5555555555555556,
             "#d8576b"
            ],
            [
             0.6666666666666666,
             "#ed7953"
            ],
            [
             0.7777777777777778,
             "#fb9f3a"
            ],
            [
             0.8888888888888888,
             "#fdca26"
            ],
            [
             1,
             "#f0f921"
            ]
           ],
           "sequentialminus": [
            [
             0,
             "#0d0887"
            ],
            [
             0.1111111111111111,
             "#46039f"
            ],
            [
             0.2222222222222222,
             "#7201a8"
            ],
            [
             0.3333333333333333,
             "#9c179e"
            ],
            [
             0.4444444444444444,
             "#bd3786"
            ],
            [
             0.5555555555555556,
             "#d8576b"
            ],
            [
             0.6666666666666666,
             "#ed7953"
            ],
            [
             0.7777777777777778,
             "#fb9f3a"
            ],
            [
             0.8888888888888888,
             "#fdca26"
            ],
            [
             1,
             "#f0f921"
            ]
           ]
          },
          "colorway": [
           "#636efa",
           "#EF553B",
           "#00cc96",
           "#ab63fa",
           "#FFA15A",
           "#19d3f3",
           "#FF6692",
           "#B6E880",
           "#FF97FF",
           "#FECB52"
          ],
          "font": {
           "color": "#2a3f5f"
          },
          "geo": {
           "bgcolor": "white",
           "lakecolor": "white",
           "landcolor": "#E5ECF6",
           "showlakes": true,
           "showland": true,
           "subunitcolor": "white"
          },
          "hoverlabel": {
           "align": "left"
          },
          "hovermode": "closest",
          "mapbox": {
           "style": "light"
          },
          "paper_bgcolor": "white",
          "plot_bgcolor": "#E5ECF6",
          "polar": {
           "angularaxis": {
            "gridcolor": "white",
            "linecolor": "white",
            "ticks": ""
           },
           "bgcolor": "#E5ECF6",
           "radialaxis": {
            "gridcolor": "white",
            "linecolor": "white",
            "ticks": ""
           }
          },
          "scene": {
           "xaxis": {
            "backgroundcolor": "#E5ECF6",
            "gridcolor": "white",
            "gridwidth": 2,
            "linecolor": "white",
            "showbackground": true,
            "ticks": "",
            "zerolinecolor": "white"
           },
           "yaxis": {
            "backgroundcolor": "#E5ECF6",
            "gridcolor": "white",
            "gridwidth": 2,
            "linecolor": "white",
            "showbackground": true,
            "ticks": "",
            "zerolinecolor": "white"
           },
           "zaxis": {
            "backgroundcolor": "#E5ECF6",
            "gridcolor": "white",
            "gridwidth": 2,
            "linecolor": "white",
            "showbackground": true,
            "ticks": "",
            "zerolinecolor": "white"
           }
          },
          "shapedefaults": {
           "line": {
            "color": "#2a3f5f"
           }
          },
          "ternary": {
           "aaxis": {
            "gridcolor": "white",
            "linecolor": "white",
            "ticks": ""
           },
           "baxis": {
            "gridcolor": "white",
            "linecolor": "white",
            "ticks": ""
           },
           "bgcolor": "#E5ECF6",
           "caxis": {
            "gridcolor": "white",
            "linecolor": "white",
            "ticks": ""
           }
          },
          "title": {
           "x": 0.05
          },
          "xaxis": {
           "automargin": true,
           "gridcolor": "white",
           "linecolor": "white",
           "ticks": "",
           "title": {
            "standoff": 15
           },
           "zerolinecolor": "white",
           "zerolinewidth": 2
          },
          "yaxis": {
           "automargin": true,
           "gridcolor": "white",
           "linecolor": "white",
           "ticks": "",
           "title": {
            "standoff": 15
           },
           "zerolinecolor": "white",
           "zerolinewidth": 2
          }
         }
        },
        "width": 800,
        "xaxis": {
         "anchor": "y",
         "domain": [
          0,
          0.45
         ]
        },
        "xaxis2": {
         "anchor": "y2",
         "domain": [
          0.55,
          1
         ]
        },
        "yaxis": {
         "anchor": "x",
         "domain": [
          0,
          1
         ]
        },
        "yaxis2": {
         "anchor": "x2",
         "domain": [
          0,
          1
         ]
        }
       }
      }
     },
     "metadata": {},
     "output_type": "display_data"
    }
   ],
   "source": [
    "from plotly.subplots import make_subplots\n",
    "import plotly.graph_objects as go\n",
    "\n",
    "with np.errstate(divide='ignore'): # locally ignore zero-division warnings\n",
    "    odds = lambda p: p / (1-p)\n",
    "    P = np.linspace(0,1,50)\n",
    "\n",
    "    fig = make_subplots(rows=1, cols=2, subplot_titles=[\"Odds(p)\",'Log[Odds(p)]'])\n",
    "    fig.add_trace(\n",
    "        go.Scatter(x=P, y=odds(P), mode=\"lines\"),\n",
    "        row=1, col=1\n",
    "    )\n",
    "    fig.add_trace(\n",
    "        go.Scatter(x=odds(P), y=np.log(odds(P)), mode=\"lines\"),\n",
    "        row=1, col=2, \n",
    "    )\n",
    "    fig.update_layout(height=500, width=800)\n",
    "    fig.show()"
   ]
  },
  {
   "cell_type": "markdown",
   "metadata": {},
   "source": [
    "Having explained logits, the problem of logistic regression is centered around finding $\\beta$ that best decribe $log[odds(p)]=\\beta\\times X$. Now, to simplify it even further, we can reduce the optimization problem to solving for $p$ (which is also $P(Y=1)$ since we are looking at the binary classification) instead of logit:\n",
    "$$\n",
    "\\begin{align*}\n",
    "    \\beta X = log(\\frac{p}{1-p}) \\\\\n",
    "    e^{-\\beta X} = \\frac{1-p}{p} \\\\\n",
    "    e^{-\\beta X} = \\frac{1}{p} - 1 \\\\\n",
    "    e^{-\\beta X} + 1 = \\frac{1}{p} \\\\\n",
    "    p = \\frac{1}{e^{-\\beta X} + 1}\n",
    "\\end{align*}\n",
    "$$\n",
    "From this derivation we can clearly see the **relation** between **logit function** and **sigmoid**. It's also important to note that logit function, being able to monotonically map $[0, 1]$ onto $(-\\infty, +\\infty)$, is actually doing an inverse operation of sigmoid, which, on the contrary, maps $(-\\infty, +\\infty)$ onto $[0, 1]$."
   ]
  },
  {
   "cell_type": "markdown",
   "metadata": {},
   "source": [
    "Estimation of the best $\\hat{\\beta}$ is done via Maximum Likelihood Estimation (**MLE**). The logic behind MLE is as follows:\n",
    "* We take samples labeled as 1 and 0 respectively; \n",
    "* For samples with label \"1\" we estimate such $\\hat{\\beta}$ that the entropy amongst samples is the lowest ($P(Y=1)\\rightarrow 1$): $\\prod_{\\{y_i=1\\}}p(x_i)\\rightarrow max$. We do a product because we presume that $x_i$ are independent variables;\n",
    "* Same is done for samples with label \"0\": $\\prod_{\\{y_i=0\\}}[1-p(x_i)]\\rightarrow max$;\n",
    "* Combining two problems into one we get a definition of $\\text{Likelihood}(\\beta)=\\prod_{\\{y_i=1\\}}p(x_i)\\times \\prod_{\\{y_i=0\\}}[1-p(x_i)]\\rightarrow max$"
   ]
  },
  {
   "cell_type": "markdown",
   "metadata": {},
   "source": [
    "To get rid of the product we then further simplify the formula:\n",
    "$$\n",
    "\\begin{aligned}\n",
    "    L(\\beta) = \\prod_{\\{y_i=1\\}}p(x_i)\\times \\prod_{\\{y_i=0\\}}[1-p(x_i)]= \\\\\n",
    "    =\\prod_{X}p(x_i)^y_i\\times[1-p(x_i)]^(1-y_i)= \\\\\n",
    "    = \\{\\text{we proceed to take ln of both parts of the equation for the Likelihood}\\} = \\\\\n",
    "    = \\sum_X y_ilog[p(x_i)]+(1-y_i)log[1-p(x_i)] = \\\\\n",
    "    = \\{\\text{we then replace p with previously derived sigmoid}\\}= \\\\\n",
    "    = \\sum_X y_ilog(\\frac{1}{1+e^{-\\beta X}}) + (1-y_i)[log(\\frac{e^{-\\beta X}}{1+e^{-\\beta X}})]= \\\\\n",
    "    = \\sum_X y_i[log(\\frac{1}{1+e^{-\\beta X}})-log(\\frac{e^{-\\beta X}}{1+e^{-\\beta X}})] + log(\\frac{e^{-\\beta X}}{1+e^{-\\beta X}})= \\\\\n",
    "    = \\sum_X y_i[log(\\frac{1}{e^{-\\beta X}})] + log(\\frac{e^{-\\beta X}}{1+e^{-\\beta X}}\\times\\frac{e^{\\beta X}}{e^{\\beta X}})= \\\\\n",
    "    = \\sum_X y_i[log(\\frac{1}{e^{-\\beta X}})] + log(\\frac{1}{1+e^{\\beta X}})= \\\\\n",
    "    = \\sum_X y_i\\times\\beta X - log(1+e^{\\beta X})\n",
    "\\end{aligned}\n",
    "$$\n",
    "The last formula is called Log-likelihood Function (**LLF**). We can reduce the problem to maximizing LLF instead of original $\\text{Likelihood}(\\beta)$, since it is yet again a monotonic transformation. In the end, the optimization problem can be formulated as follows: $\\hat{\\beta}=argmax_\\beta[Log(L(\\beta))]=argmax_\\beta[\\sum_X y_i\\times\\beta X - log(1+e^{\\beta X})]$."
   ]
  },
  {
   "cell_type": "markdown",
   "metadata": {},
   "source": [
    "This concludes the prerequisite math behind the logistic regression for **binary classification**. Now we need to set up a training loop in order to calculate best $\\beta$ by adjusting them by the gradient on every $t-\\text{ith}$ epoch: $\\beta_{t+1}=\\beta_t-\\eta \\nabla L(f(x; \\beta), y)$. \n",
    "<br/><br/>\n",
    "Now we need to calculate gradients with respect to $\\beta_i (i\\in N)$ and intercept $\\beta_0$ (where $y$ is a real probability and $\\hat{y}$ is a sigmoid (predicted) probability):\n",
    "$$\n",
    "\\begin{aligned}\n",
    "& \\frac{\\partial L_{\\mathrm{CE}}(\\hat{y}, y)}{\\partial \\mathbf{\\beta}}=\\frac{1}{m}(\\hat{\\mathbf{y}}-\\mathbf{y}) \\mathbf{x}_i^T \\\\\n",
    "& \\frac{\\partial L_{\\mathrm{CE}}(\\hat{y}, y)}{\\partial \\beta_0}=\\frac{1}{m}(\\hat{\\mathbf{y}}-\\mathbf{y})\n",
    "\\end{aligned}\n",
    "$$"
   ]
  },
  {
   "cell_type": "code",
   "execution_count": 52,
   "metadata": {},
   "outputs": [],
   "source": [
    "from sklearn.metrics import accuracy_score\n",
    "\n",
    "class LogisticRegression:\n",
    "\n",
    "    def __init__(self):\n",
    "        self.losses = []\n",
    "        self.accuracies = []\n",
    "        self.Beta = []\n",
    "        self.llfs = []\n",
    "        self.intercept = []\n",
    "        self.m = 0\n",
    "\n",
    "    def sigmoid(self, yHat):\n",
    "        # find probability based by passing\n",
    "        # logit into a sigmoid function\n",
    "        return 1 / (1 + np.exp(-yHat))\n",
    "    \n",
    "    def llf(self, y, yHat, logHat):\n",
    "        # log likelihood function\n",
    "        return (y*logHat-np.log(1+yHat)).mean()\n",
    "\n",
    "    def bce(self, y, yHat):\n",
    "        # binary cross entropy\n",
    "        # special case of log likelihood where we\n",
    "        # have a bernoulli distribution of only 2\n",
    "        # unique labels\n",
    "        return (-y * np.log(yHat) - (1-y) * np.log(1-yHat)).mean()\n",
    "\n",
    "    def predict(self, X, predict_new=False):\n",
    "        if predict_new:\n",
    "            newIntercept = np.ones((X.shape[0],1))\n",
    "            X = np.concatenate((newIntercept,X),axis=1)\n",
    "        p = self.sigmoid(np.dot(X,self.Beta))\n",
    "        logit = np.log(p / (1-p))\n",
    "        return p, logit\n",
    "    \n",
    "    def fit(self, X, y, epochs=1000, lr=.001, verbose_level=50) -> None:\n",
    "        \"\"\"\n",
    "            X: np.ndarray\n",
    "                - feature matrix\n",
    "            y: np.ndarray\n",
    "                - target labels\n",
    "            epochs: int\n",
    "                - N of training epochs\n",
    "            lr: float\n",
    "                - learning rate\n",
    "            verbose_level: int\n",
    "                - output loss and accuracy every verbose_level\n",
    "        \"\"\"\n",
    "        self.intercept = np.ones((X.shape[0], 1)) \n",
    "        X = np.concatenate((self.intercept, X), axis=1)\n",
    "        self.m = X.shape[0]\n",
    "        self.Beta = np.zeros(X.shape[1]).reshape(-1,1)\n",
    "\n",
    "        for epoch in range(epochs+1):\n",
    "            yHat, logitHat = self.predict(X)\n",
    "\n",
    "            # gradient with respect to Beta\n",
    "            self.Beta -= lr * 1/self.m * np.dot(X.T, (yHat - y))\n",
    "\n",
    "            # gradient with respect to intercept\n",
    "            self.intercept -= lr * 1/self.m * (yHat - y)\n",
    "\n",
    "            self.llfs.append(self.llf(y, yHat, logitHat))\n",
    "            self.losses.append(self.bce(y, yHat))\n",
    "\n",
    "            self.accuracies.append(accuracy_score(y,yHat.round()))\n",
    "            if epoch % verbose_level == 0:\n",
    "                print(f'LLF {self.llfs[-1]} :: BCE {self.losses[-1]} :: Accuracy {self.accuracies[-1]}')"
   ]
  },
  {
   "cell_type": "markdown",
   "metadata": {},
   "source": [
    "Next step is training logistic regression on some binary classification problem. For the sake of demonstration, $75\\%$ sample of the popular \"breast cancer\" dataset has been chosen. "
   ]
  },
  {
   "cell_type": "code",
   "execution_count": 29,
   "metadata": {},
   "outputs": [],
   "source": [
    "from sklearn import datasets\n",
    "bc = datasets.load_breast_cancer()"
   ]
  },
  {
   "cell_type": "code",
   "execution_count": 30,
   "metadata": {},
   "outputs": [
    {
     "data": {
      "text/plain": [
       "((426, 30), (143, 30), (426, 1), (143, 1))"
      ]
     },
     "execution_count": 30,
     "metadata": {},
     "output_type": "execute_result"
    }
   ],
   "source": [
    "from sklearn.model_selection import train_test_split\n",
    "\n",
    "X, y = bc.data, bc.target\n",
    "\n",
    "X_train, X_test, y_train, y_test = train_test_split(X, y, test_size=.25, random_state=42)\n",
    "y_train = y_train.reshape(-1, 1)\n",
    "y_test = y_test.reshape(-1, 1)\n",
    "X_train.shape, X_test.shape, y_train.shape, y_test.shape"
   ]
  },
  {
   "cell_type": "code",
   "execution_count": 69,
   "metadata": {},
   "outputs": [
    {
     "name": "stdout",
     "output_type": "stream",
     "text": [
      "LLF -0.40546510810816455 :: BCE 0.6931471805599453 :: Accuracy 0.37089201877934275\n",
      "LLF nan :: BCE nan :: Accuracy 0.37089201877934275\n",
      "LLF nan :: BCE nan :: Accuracy 0.7347417840375586\n",
      "LLF nan :: BCE nan :: Accuracy 0.8333333333333334\n",
      "LLF nan :: BCE nan :: Accuracy 0.8169014084507042\n",
      "LLF nan :: BCE nan :: Accuracy 0.8802816901408451\n",
      "LLF nan :: BCE nan :: Accuracy 0.8708920187793427\n",
      "LLF nan :: BCE nan :: Accuracy 0.4413145539906103\n",
      "LLF nan :: BCE nan :: Accuracy 0.8802816901408451\n",
      "LLF nan :: BCE nan :: Accuracy 0.8896713615023474\n",
      "LLF nan :: BCE nan :: Accuracy 0.8896713615023474\n"
     ]
    }
   ],
   "source": [
    "logReg = LogisticRegression()\n",
    "with np.errstate(divide='ignore', over='ignore', invalid='ignore'):\n",
    "    logReg.fit(X_train,y_train,lr=.001,verbose_level=100)"
   ]
  },
  {
   "cell_type": "markdown",
   "metadata": {},
   "source": [
    "Now we apply previously trained logistic regression model on test sample that is $25\\%$ of the dataset"
   ]
  },
  {
   "cell_type": "code",
   "execution_count": 67,
   "metadata": {},
   "outputs": [
    {
     "name": "stdout",
     "output_type": "stream",
     "text": [
      "              precision    recall  f1-score   support\n",
      "\n",
      "           0       0.93      0.93      0.93        54\n",
      "           1       0.96      0.96      0.96        89\n",
      "\n",
      "    accuracy                           0.94       143\n",
      "   macro avg       0.94      0.94      0.94       143\n",
      "weighted avg       0.94      0.94      0.94       143\n",
      "\n"
     ]
    }
   ],
   "source": [
    "from sklearn.metrics import classification_report\n",
    "\n",
    "with np.errstate(divide='ignore',over='ignore'):\n",
    "    p, logits = logReg.predict(X_test, predict_new=True)\n",
    "print(\n",
    "    classification_report(y_test.reshape(-1,1), p.round().reshape(-1,1))\n",
    ")"
   ]
  },
  {
   "cell_type": "markdown",
   "metadata": {},
   "source": [
    "We can now compare metrics from our model to scikit-learn implementation. As we can see current implementation has pretty close to `scikit-learn`'s model."
   ]
  },
  {
   "cell_type": "code",
   "execution_count": 70,
   "metadata": {},
   "outputs": [
    {
     "name": "stdout",
     "output_type": "stream",
     "text": [
      "              precision    recall  f1-score   support\n",
      "\n",
      "           0       0.96      0.94      0.95        54\n",
      "           1       0.97      0.98      0.97        89\n",
      "\n",
      "    accuracy                           0.97       143\n",
      "   macro avg       0.96      0.96      0.96       143\n",
      "weighted avg       0.97      0.97      0.96       143\n",
      "\n"
     ]
    },
    {
     "name": "stderr",
     "output_type": "stream",
     "text": [
      "/Library/Frameworks/Python.framework/Versions/3.12/lib/python3.12/site-packages/sklearn/utils/validation.py:1183: DataConversionWarning:\n",
      "\n",
      "A column-vector y was passed when a 1d array was expected. Please change the shape of y to (n_samples, ), for example using ravel().\n",
      "\n",
      "/Library/Frameworks/Python.framework/Versions/3.12/lib/python3.12/site-packages/sklearn/linear_model/_logistic.py:460: ConvergenceWarning:\n",
      "\n",
      "lbfgs failed to converge (status=1):\n",
      "STOP: TOTAL NO. of ITERATIONS REACHED LIMIT.\n",
      "\n",
      "Increase the number of iterations (max_iter) or scale the data as shown in:\n",
      "    https://scikit-learn.org/stable/modules/preprocessing.html\n",
      "Please also refer to the documentation for alternative solver options:\n",
      "    https://scikit-learn.org/stable/modules/linear_model.html#logistic-regression\n",
      "\n"
     ]
    }
   ],
   "source": [
    "from sklearn.linear_model import LogisticRegression\n",
    "clf = LogisticRegression(random_state=0).fit(X_train, y_train)\n",
    "yPred = clf.predict(X_test)\n",
    "print(\n",
    "    classification_report(y_test.reshape(-1,1), yPred.reshape(-1,1))\n",
    ")"
   ]
  }
 ],
 "metadata": {
  "kernelspec": {
   "display_name": "regular",
   "language": "python",
   "name": "python3"
  },
  "language_info": {
   "codemirror_mode": {
    "name": "ipython",
    "version": 3
   },
   "file_extension": ".py",
   "mimetype": "text/x-python",
   "name": "python",
   "nbconvert_exporter": "python",
   "pygments_lexer": "ipython3",
   "version": "3.12.0"
  }
 },
 "nbformat": 4,
 "nbformat_minor": 2
}
