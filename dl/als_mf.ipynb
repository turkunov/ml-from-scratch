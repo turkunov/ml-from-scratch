{
 "cells": [
  {
   "cell_type": "markdown",
   "metadata": {},
   "source": [
    "This notebooks is dedicated to the implementation of the most frequently used models in RecSys: **Matrix Factorization** using **Alternate Least Squares** optimization method.\n",
    "\n",
    "\n",
    "#### Why use MF in recommendations?\n",
    "Recommendations are very wide-spread in retail, where usually the number of products surpasses the number of users by a very big margin. That means that item-user matrix is highly sparse and, due to that matter, very inefficient for storing information about previous user purchases. Besides, it is really hard to compare vectors of high sparsity and, therefore, it is also very hard to make recommendations based on KNN.\n",
    "\n",
    "#### What is the optimization problem in MF?\n",
    "In MF we optimize the following function: $L=SSE/MSE/RMSE(R,U^TI)+\\lambda_U ||U||_2+\\lambda_I ||I||_2$, where $R$ is an initial user-item matrix, $U$ - user approximation matrix of some arbitrary dimension $k$, $I$ - item matrix of the same dimension $k$, $\\lambda_{U/I}$ - importances of regularization terms, $||U/I||_2$ - L2 norms for matrices we're approximating.\n",
    "\n",
    "#### What is ALS?\n",
    "Alternate Least Squares is a method, which follows the following algorithm:\n",
    "* We start by differentiating with respect to $U$: $\\frac{dL}{dx_u}$ and solve $U$ and get new $U'$ while treating $I$ as constant, preliminary initializing matrices $U$ and $I$ with random values;\n",
    "* Then differentiate with respect to $I$ and get a newly optimized $I'$ while treating $U'$ as constant;\n",
    "* Repeat until convergence\n",
    "\n",
    "#### Why ALS instead of SGD?\n",
    "ALS tends to be more accurate in approximating sparse matrices (which is most of the time in MF for RecSys), but for **non-sparse MF** case SGD is indeed able to optimize the function better (https://cs229.stanford.edu/proj2014/Christopher%20Aberger,%20Recommender.pdf). The same reference paper also provides information on the weighted ALS algorithm, which could also be given a shot, however it uses more memory than ALS.\n",
    "\n",
    "#### Building a simple Explicit MF framework\n"
   ]
  },
  {
   "cell_type": "code",
   "execution_count": 1,
   "metadata": {},
   "outputs": [],
   "source": [
    "import torch\n",
    "from torch import nn\n",
    "\n",
    "class ExplicitMF(nn.Module):\n",
    "\n",
    "    def __init__(self, n, m, k, lambdaU, lambdaI, *args, **kwargs) -> None:\n",
    "        \"\"\"\n",
    "        Explicit Matrix Factorization model. The name \"explicit\"\n",
    "        entails that we are finding definite representations of matrices\n",
    "        of items and users within R^k space. Implicit algorithms\n",
    "        entail assumptions.\n",
    "\n",
    "        - n: int\n",
    "            - Number of users\n",
    "        - m: int\n",
    "            - Number of items\n",
    "        - k: int\n",
    "            - Number of latent factors\n",
    "        - lambdaU: float\n",
    "            - Regularization term for the U matrix\n",
    "        - lambdaI: float\n",
    "            - Regulariztion term for the I matrix\n",
    "        \"\"\"\n",
    "        super().__init__(*args, **kwargs)\n",
    "        self.U = nn.Embedding(n, k)\n",
    "        self.I = nn.Embedding(m, k)\n",
    "        \n",
    "        self.U_bias = nn.Embedding(n, 1)\n",
    "        self.I_bias = nn.Embedding(m, 1)\n",
    "        self.lu = lambdaU\n",
    "        self.li = lambdaI\n",
    "\n",
    "    def forward(self, uIndices, iIndices):\n",
    "        \"\"\"\n",
    "        In the forward method we expect a batch of indices from\n",
    "        the original R matrix. We're return BMM on these indices\n",
    "        \"\"\"\n",
    "\n",
    "        return torch.einsum('ij,jk -> ik', self.U(uIndices), \n",
    "                            self.I(iIndices).permute(1,0)) + \\\n",
    "                            self.U_bias(uIndices) + self.I_bias(iIndices) + \\\n",
    "                            self.lu * self.U(uIndices).norm(dim=1, p=2) + \\\n",
    "                            self.li * self.I(iIndices).norm(dim=1, p=2)"
   ]
  },
  {
   "cell_type": "markdown",
   "metadata": {},
   "source": [
    "#### Crunching some data\n",
    "For the sake of simplicity we're going to use a classic Movielens dataset available on http://files.grouplens.org/datasets/movielens/ml-100k.zip . Datasets like IMDB ratings available on Kaggle have millions of rows, hence they take a toll on the limited recourses I'm in possession of."
   ]
  },
  {
   "cell_type": "code",
   "execution_count": 2,
   "metadata": {},
   "outputs": [
    {
     "data": {
      "text/plain": [
       "(shape: (1, 4)\n",
       " ┌─────────┬─────────┬────────┬───────────┐\n",
       " │ user_id ┆ item_id ┆ rating ┆ timestamp │\n",
       " │ ---     ┆ ---     ┆ ---    ┆ ---       │\n",
       " │ i64     ┆ i64     ┆ i64    ┆ i64       │\n",
       " ╞═════════╪═════════╪════════╪═══════════╡\n",
       " │ 196     ┆ 242     ┆ 3      ┆ 881250949 │\n",
       " └─────────┴─────────┴────────┴───────────┘,\n",
       " (100000, 4))"
      ]
     },
     "execution_count": 2,
     "metadata": {},
     "output_type": "execute_result"
    }
   ],
   "source": [
    "import polars as pl\n",
    "\n",
    "ds_path = './data/recsys/movielens/u.data'\n",
    "names = ['user_id', 'item_id', 'rating', 'timestamp']\n",
    "df = pl.read_csv(ds_path, separator='\\t', has_header=False, new_columns=names)\n",
    "df.head(1), df.shape"
   ]
  },
  {
   "cell_type": "markdown",
   "metadata": {},
   "source": [
    "Mapping out each user and item with their correponding index in the $R$ matrix. This way we can later fill out the $R$ matrix with rating values."
   ]
  },
  {
   "cell_type": "code",
   "execution_count": 3,
   "metadata": {},
   "outputs": [
    {
     "data": {
      "text/plain": [
       "([(242, 0), (302, 1), (377, 2)], [(196, 0), (186, 1), (22, 2)])"
      ]
     },
     "execution_count": 3,
     "metadata": {},
     "output_type": "execute_result"
    }
   ],
   "source": [
    "# creating a dict with keys corresponding\n",
    "# to movie/user ids and values corresponding to\n",
    "# the their index in the R matrix\n",
    "\n",
    "def build_hashmap(df_, col):\n",
    "    return {id_[0]: index for index, id_ in enumerate(\n",
    "        df_.select(col).unique(maintain_order=True).select(col).iter_rows())}\n",
    "\n",
    "mov2idx = build_hashmap(df, 'item_id')\n",
    "usr2idx = build_hashmap(df, 'user_id')\n",
    "list(mov2idx.items())[:3], list(usr2idx.items())[:3] "
   ]
  },
  {
   "cell_type": "code",
   "execution_count": 4,
   "metadata": {},
   "outputs": [
    {
     "data": {
      "text/html": [
       "<div><style>\n",
       ".dataframe > thead > tr,\n",
       ".dataframe > tbody > tr {\n",
       "  text-align: right;\n",
       "  white-space: pre-wrap;\n",
       "}\n",
       "</style>\n",
       "<small>shape: (2, 6)</small><table border=\"1\" class=\"dataframe\"><thead><tr><th>user_id</th><th>item_id</th><th>rating</th><th>timestamp</th><th>mov2idx</th><th>usr2idx</th></tr><tr><td>i64</td><td>i64</td><td>i64</td><td>i64</td><td>i64</td><td>i64</td></tr></thead><tbody><tr><td>527</td><td>655</td><td>3</td><td>879456464</td><td>431</td><td>528</td></tr><tr><td>95</td><td>294</td><td>2</td><td>884266083</td><td>95</td><td>24</td></tr></tbody></table></div>"
      ],
      "text/plain": [
       "shape: (2, 6)\n",
       "┌─────────┬─────────┬────────┬───────────┬─────────┬─────────┐\n",
       "│ user_id ┆ item_id ┆ rating ┆ timestamp ┆ mov2idx ┆ usr2idx │\n",
       "│ ---     ┆ ---     ┆ ---    ┆ ---       ┆ ---     ┆ ---     │\n",
       "│ i64     ┆ i64     ┆ i64    ┆ i64       ┆ i64     ┆ i64     │\n",
       "╞═════════╪═════════╪════════╪═══════════╪═════════╪═════════╡\n",
       "│ 527     ┆ 655     ┆ 3      ┆ 879456464 ┆ 431     ┆ 528     │\n",
       "│ 95      ┆ 294     ┆ 2      ┆ 884266083 ┆ 95      ┆ 24      │\n",
       "└─────────┴─────────┴────────┴───────────┴─────────┴─────────┘"
      ]
     },
     "execution_count": 4,
     "metadata": {},
     "output_type": "execute_result"
    }
   ],
   "source": [
    "# mapping out movies and users by their corresponding\n",
    "# indices in the R matrix\n",
    "\n",
    "df = df.with_columns(\n",
    "    mov2idx=pl.col(\"item_id\").replace(mov2idx, default=None),\n",
    "    usr2idx=pl.col('user_id').replace(usr2idx, default=None)\n",
    ")\n",
    "df.sample(2)"
   ]
  },
  {
   "cell_type": "markdown",
   "metadata": {},
   "source": [
    "Unifying `mov2idx` and `usr2idx` under a single torch.Dataset"
   ]
  },
  {
   "cell_type": "code",
   "execution_count": 5,
   "metadata": {},
   "outputs": [],
   "source": [
    "from torch.utils import data\n",
    "\n",
    "class UI_ds(data.Dataset):\n",
    "\n",
    "    def __init__(self, Uindices, Iindices) -> None:\n",
    "        super().__init__()\n",
    "        self.U = Uindices\n",
    "        self.I = Iindices \n",
    "\n",
    "    def __len__(self):\n",
    "        return len(self.U)\n",
    "    \n",
    "    def __getitem__(self, idx):\n",
    "        return (\n",
    "            self.U[idx],\n",
    "            self.I[idx]\n",
    "        )"
   ]
  },
  {
   "cell_type": "code",
   "execution_count": 6,
   "metadata": {},
   "outputs": [
    {
     "data": {
      "text/plain": [
       "([0, 1], [0, 1])"
      ]
     },
     "execution_count": 6,
     "metadata": {},
     "output_type": "execute_result"
    }
   ],
   "source": [
    "ds = UI_ds(df.get_column('usr2idx').to_list(), \n",
    "           df.get_column('mov2idx').to_list())\n",
    "ds[:2]"
   ]
  },
  {
   "cell_type": "markdown",
   "metadata": {},
   "source": [
    "Creating and filling up a sparse $R$ matrix"
   ]
  },
  {
   "cell_type": "code",
   "execution_count": 27,
   "metadata": {},
   "outputs": [
    {
     "data": {
      "text/plain": [
       "(tensor([[3., 0., 0.,  ..., 0., 0., 0.],\n",
       "         [0., 3., 0.,  ..., 0., 0., 0.],\n",
       "         [0., 0., 1.,  ..., 0., 0., 0.],\n",
       "         ...,\n",
       "         [0., 0., 0.,  ..., 0., 0., 0.],\n",
       "         [0., 4., 0.,  ..., 0., 0., 0.],\n",
       "         [0., 0., 0.,  ..., 0., 0., 0.]]),\n",
       " '% of sparsity: 0.9369533061981201')"
      ]
     },
     "execution_count": 27,
     "metadata": {},
     "output_type": "execute_result"
    }
   ],
   "source": [
    "n, m = df.select('usr2idx').max().item()+1,\\\n",
    "    df.select('mov2idx').max().item()+1\n",
    "R = torch.zeros((n, m))\n",
    "\n",
    "for pairIndex, rating in enumerate(df.get_column('rating').to_list()):\n",
    "    Ui, Ii = ds[pairIndex][0], ds[pairIndex][1]\n",
    "    R[Ui, Ii] = rating \n",
    "R, f'% of sparsity: {(R.type(torch.int64) == 0).sum() / (R.shape[0]*R.shape[1])}'"
   ]
  },
  {
   "cell_type": "markdown",
   "metadata": {},
   "source": [
    "Introducing batching with torch.DataLoader's"
   ]
  },
  {
   "cell_type": "code",
   "execution_count": 8,
   "metadata": {},
   "outputs": [
    {
     "data": {
      "text/plain": [
       "3125"
      ]
     },
     "execution_count": 8,
     "metadata": {},
     "output_type": "execute_result"
    }
   ],
   "source": [
    "train_dl = data.DataLoader(ds,batch_size=32,shuffle=True)\n",
    "len(train_dl)"
   ]
  },
  {
   "cell_type": "markdown",
   "metadata": {},
   "source": [
    "#### Setting up training\n",
    "Initializing ExplicitMF model, custom RMSE loss instead of regular MSE/SSE and Adam optimizer (since experimentally SGD proved worse results)"
   ]
  },
  {
   "cell_type": "code",
   "execution_count": 22,
   "metadata": {},
   "outputs": [
    {
     "data": {
      "text/plain": [
       "ExplicitMF(\n",
       "  (U): Embedding(943, 16)\n",
       "  (I): Embedding(1682, 16)\n",
       "  (U_bias): Embedding(943, 1)\n",
       "  (I_bias): Embedding(1682, 1)\n",
       ")"
      ]
     },
     "execution_count": 22,
     "metadata": {},
     "output_type": "execute_result"
    }
   ],
   "source": [
    "device = 'cuda' if torch.cuda.is_available() else 'cpu'\n",
    "model = ExplicitMF(n=n,m=m,k=16,\n",
    "                   lambdaU=0,\n",
    "                   lambdaI=0).to(device)\n",
    "model"
   ]
  },
  {
   "cell_type": "code",
   "execution_count": 23,
   "metadata": {},
   "outputs": [],
   "source": [
    "# custom RMSE loss \n",
    "\n",
    "class RMSELoss(nn.Module):\n",
    "    def __init__(self, eps=1e-6, *args, **kwargs) -> None:\n",
    "        super().__init__(*args, **kwargs)\n",
    "        self.mse = nn.MSELoss()\n",
    "        self.eps = eps\n",
    "\n",
    "    def forward(self, yHat, y):\n",
    "        return torch.sqrt(self.mse(yHat,y)+self.eps)"
   ]
  },
  {
   "cell_type": "code",
   "execution_count": 24,
   "metadata": {},
   "outputs": [],
   "source": [
    "trainParams = {\n",
    "    'lr': .001,\n",
    "    'max_epochs': 10,\n",
    "    'sgdMomentum': .005,\n",
    "    'verbose': 1\n",
    "}\n",
    "\n",
    "criterion = RMSELoss().to(device)\n",
    "optim = torch.optim.Adam(model.parameters(), lr=trainParams['lr'])"
   ]
  },
  {
   "cell_type": "markdown",
   "metadata": {},
   "source": [
    "#### Running training with ALS (first) and without it (second)"
   ]
  },
  {
   "cell_type": "code",
   "execution_count": 25,
   "metadata": {},
   "outputs": [
    {
     "name": "stderr",
     "output_type": "stream",
     "text": [
      "100%|██████████| 3125/3125 [00:15<00:00, 205.89it/s]\n"
     ]
    },
    {
     "name": "stdout",
     "output_type": "stream",
     "text": [
      "Epoch 1 :: av. RMSE: 3.216707728061676 :: R^2: -2.29369226888908\n"
     ]
    },
    {
     "name": "stderr",
     "output_type": "stream",
     "text": [
      "100%|██████████| 3125/3125 [00:14<00:00, 220.40it/s]\n"
     ]
    },
    {
     "name": "stdout",
     "output_type": "stream",
     "text": [
      "Epoch 2 :: av. RMSE: 1.8322175698280334 :: R^2: -0.023717218230657665\n"
     ]
    },
    {
     "name": "stderr",
     "output_type": "stream",
     "text": [
      "100%|██████████| 3125/3125 [00:14<00:00, 218.65it/s]\n"
     ]
    },
    {
     "name": "stdout",
     "output_type": "stream",
     "text": [
      "Epoch 3 :: av. RMSE: 1.4992986035537719 :: R^2: 0.3204968714620276\n"
     ]
    },
    {
     "name": "stderr",
     "output_type": "stream",
     "text": [
      "100%|██████████| 3125/3125 [00:15<00:00, 203.91it/s]\n"
     ]
    },
    {
     "name": "stdout",
     "output_type": "stream",
     "text": [
      "Epoch 4 :: av. RMSE: 1.378296848373413 :: R^2: 0.4257019239793146\n"
     ]
    },
    {
     "name": "stderr",
     "output_type": "stream",
     "text": [
      "100%|██████████| 3125/3125 [00:16<00:00, 188.34it/s]\n"
     ]
    },
    {
     "name": "stdout",
     "output_type": "stream",
     "text": [
      "Epoch 5 :: av. RMSE: 1.3180868272209167 :: R^2: 0.4747628006347146\n"
     ]
    },
    {
     "name": "stderr",
     "output_type": "stream",
     "text": [
      "100%|██████████| 3125/3125 [00:16<00:00, 186.65it/s]\n"
     ]
    },
    {
     "name": "stdout",
     "output_type": "stream",
     "text": [
      "Epoch 6 :: av. RMSE: 1.2899841757583619 :: R^2: 0.4974100925590826\n"
     ]
    },
    {
     "name": "stderr",
     "output_type": "stream",
     "text": [
      "100%|██████████| 3125/3125 [00:16<00:00, 189.30it/s]\n"
     ]
    },
    {
     "name": "stdout",
     "output_type": "stream",
     "text": [
      "Epoch 7 :: av. RMSE: 1.2729399657249452 :: R^2: 0.5106855429499835\n"
     ]
    },
    {
     "name": "stderr",
     "output_type": "stream",
     "text": [
      "100%|██████████| 3125/3125 [00:17<00:00, 183.77it/s]\n"
     ]
    },
    {
     "name": "stdout",
     "output_type": "stream",
     "text": [
      "Epoch 8 :: av. RMSE: 1.2595061617851258 :: R^2: 0.5206408329066652\n"
     ]
    },
    {
     "name": "stderr",
     "output_type": "stream",
     "text": [
      "100%|██████████| 3125/3125 [00:16<00:00, 187.40it/s]\n"
     ]
    },
    {
     "name": "stdout",
     "output_type": "stream",
     "text": [
      "Epoch 9 :: av. RMSE: 1.251296572227478 :: R^2: 0.5271481006306975\n"
     ]
    },
    {
     "name": "stderr",
     "output_type": "stream",
     "text": [
      "100%|██████████| 3125/3125 [00:16<00:00, 186.40it/s]"
     ]
    },
    {
     "name": "stdout",
     "output_type": "stream",
     "text": [
      "Epoch 10 :: av. RMSE: 1.2430461672592164 :: R^2: 0.5328938446412106\n"
     ]
    },
    {
     "name": "stderr",
     "output_type": "stream",
     "text": [
      "\n"
     ]
    }
   ],
   "source": [
    "from tqdm import tqdm\n",
    "from sklearn.metrics import r2_score\n",
    "import numpy as np\n",
    "\n",
    "r2Scores = []\n",
    "avRMSE = []\n",
    "\n",
    "for epoch in range(trainParams['max_epochs']):\n",
    "    RMSElosses = []\n",
    "    predicted = []\n",
    "    RCopy = []\n",
    "\n",
    "    for (userIndices, itemIndices) in tqdm(train_dl):\n",
    "        \n",
    "        userIndices, itemIndices = torch.Tensor(userIndices).to(device).flatten(), \\\n",
    "            torch.Tensor(itemIndices).to(device).flatten()\n",
    "        R_cur = R.to(device)[userIndices, :][:, itemIndices]\n",
    "\n",
    "        # ALS optimization\n",
    "        # dL/dU\n",
    "        optim.zero_grad()\n",
    "        model.U.requires_grad_(True) # enable U matrix\n",
    "        yPred = model(userIndices, itemIndices)\n",
    "        model.I.requires_grad_(False) # set I matrix to const\n",
    "        loss = criterion(yPred,R_cur.to(device))\n",
    "        RMSElosses.append(loss.item())\n",
    "        loss.backward()\n",
    "        optim.step()\n",
    "\n",
    "        # dL/dI\n",
    "        model.I.requires_grad_(True) # enable I matrix\n",
    "        yPred = model(userIndices, itemIndices)\n",
    "        model.U.requires_grad_(False) # set U matrix to const\n",
    "        loss = criterion(yPred,R_cur.to(device))\n",
    "        RMSElosses.append(loss.item())\n",
    "        loss.backward()\n",
    "        optim.step()\n",
    "        \n",
    "        predicted.append(yPred.cpu().detach().numpy())\n",
    "        RCopy.append(R_cur.cpu().detach().numpy())\n",
    "\n",
    "    avRMSE.append(np.array(RMSElosses).mean())\n",
    "    r2Scores.append(r2_score(np.vstack(RCopy),np.vstack(predicted)))\n",
    "    \n",
    "    if epoch % trainParams['verbose'] == 0:\n",
    "        print(f'Epoch {epoch+1} :: av. RMSE:',avRMSE[-1],':: R^2:',r2Scores[-1]) \n",
    "\n",
    "del RCopy\n",
    "del predicted\n",
    "del RMSElosses"
   ]
  },
  {
   "cell_type": "markdown",
   "metadata": {},
   "source": [
    "Learning curve with ALS:"
   ]
  },
  {
   "cell_type": "code",
   "execution_count": 26,
   "metadata": {},
   "outputs": [
    {
     "data": {
      "image/png": "[encoded data removed]",
      "text/plain": [
       "<Figure size 700x300 with 2 Axes>"
      ]
     },
     "metadata": {},
     "output_type": "display_data"
    }
   ],
   "source": [
    "import matplotlib.pyplot as plt\n",
    "\n",
    "fig, axs = plt.subplots(1,2,figsize=(7,3))\n",
    "axs[0].plot(list(range(1,11)),avRMSE,label='av. RMSE')\n",
    "axs[1].plot(list(range(1,11)),r2Scores,c='red')\n",
    "axs[0].set(\n",
    "    xlabel='Epoch',\n",
    "    title='av. RMSE')\n",
    "axs[1].set(\n",
    "    xlabel='Epoch',\n",
    "    title='R^2',)\n",
    "fig.tight_layout()"
   ]
  },
  {
   "cell_type": "code",
   "execution_count": 148,
   "metadata": {},
   "outputs": [
    {
     "name": "stderr",
     "output_type": "stream",
     "text": [
      "100%|██████████| 3125/3125 [00:06<00:00, 462.78it/s]\n"
     ]
    },
    {
     "name": "stdout",
     "output_type": "stream",
     "text": [
      "Epoch 1 :: av. RMSE: 3.628088639831543 :: R^2: -3.0817349718521427\n"
     ]
    },
    {
     "name": "stderr",
     "output_type": "stream",
     "text": [
      "100%|██████████| 3125/3125 [00:06<00:00, 499.02it/s]\n"
     ]
    },
    {
     "name": "stdout",
     "output_type": "stream",
     "text": [
      "Epoch 2 :: av. RMSE: 2.3091108922576904 :: R^2: -0.6297204370791647\n"
     ]
    },
    {
     "name": "stderr",
     "output_type": "stream",
     "text": [
      "100%|██████████| 3125/3125 [00:06<00:00, 493.63it/s]\n"
     ]
    },
    {
     "name": "stdout",
     "output_type": "stream",
     "text": [
      "Epoch 3 :: av. RMSE: 1.753626803741455 :: R^2: 0.06821553758265844\n"
     ]
    },
    {
     "name": "stderr",
     "output_type": "stream",
     "text": [
      "100%|██████████| 3125/3125 [00:06<00:00, 494.73it/s]\n"
     ]
    },
    {
     "name": "stdout",
     "output_type": "stream",
     "text": [
      "Epoch 4 :: av. RMSE: 1.5313699913406371 :: R^2: 0.2902840312745272\n"
     ]
    },
    {
     "name": "stderr",
     "output_type": "stream",
     "text": [
      "100%|██████████| 3125/3125 [00:06<00:00, 509.01it/s]\n"
     ]
    },
    {
     "name": "stdout",
     "output_type": "stream",
     "text": [
      "Epoch 5 :: av. RMSE: 1.4093138665008544 :: R^2: 0.39922415727073823\n"
     ]
    },
    {
     "name": "stderr",
     "output_type": "stream",
     "text": [
      "100%|██████████| 3125/3125 [00:06<00:00, 497.15it/s]\n"
     ]
    },
    {
     "name": "stdout",
     "output_type": "stream",
     "text": [
      "Epoch 6 :: av. RMSE: 1.3416297828674317 :: R^2: 0.4557987565586378\n"
     ]
    },
    {
     "name": "stderr",
     "output_type": "stream",
     "text": [
      "100%|██████████| 3125/3125 [00:06<00:00, 498.65it/s]\n"
     ]
    },
    {
     "name": "stdout",
     "output_type": "stream",
     "text": [
      "Epoch 7 :: av. RMSE: 1.3020609611511231 :: R^2: 0.4873108353102088\n"
     ]
    },
    {
     "name": "stderr",
     "output_type": "stream",
     "text": [
      "100%|██████████| 3125/3125 [00:06<00:00, 505.02it/s]\n"
     ]
    },
    {
     "name": "stdout",
     "output_type": "stream",
     "text": [
      "Epoch 8 :: av. RMSE: 1.274590757484436 :: R^2: 0.5083352146908868\n"
     ]
    },
    {
     "name": "stderr",
     "output_type": "stream",
     "text": [
      "100%|██████████| 3125/3125 [00:06<00:00, 493.45it/s]\n"
     ]
    },
    {
     "name": "stdout",
     "output_type": "stream",
     "text": [
      "Epoch 9 :: av. RMSE: 1.2552505477523803 :: R^2: 0.523581549234004\n"
     ]
    },
    {
     "name": "stderr",
     "output_type": "stream",
     "text": [
      "100%|██████████| 3125/3125 [00:06<00:00, 497.24it/s]\n"
     ]
    },
    {
     "name": "stdout",
     "output_type": "stream",
     "text": [
      "Epoch 10 :: av. RMSE: 1.2409143450737 :: R^2: 0.5337493381264595\n"
     ]
    }
   ],
   "source": [
    "from tqdm import tqdm\n",
    "from sklearn.metrics import r2_score\n",
    "import numpy as np\n",
    "\n",
    "r2Scores = []\n",
    "avRMSE = []\n",
    "\n",
    "for epoch in range(trainParams['max_epochs']):\n",
    "    RMSElosses = []\n",
    "    predicted = []\n",
    "    RCopy = []\n",
    "    for (userIndices, itemIndices) in tqdm(train_dl):\n",
    "        optim.zero_grad()\n",
    "        userIndices, itemIndices = torch.Tensor(userIndices).to(device).flatten(), \\\n",
    "            torch.Tensor(itemIndices).to(device).flatten()\n",
    "        R_cur = R[userIndices, :][:, itemIndices]\n",
    "        yPred = model(userIndices, itemIndices)\n",
    "\n",
    "        # logging predicted and true values for R^2 calculation\n",
    "        predicted.append(yPred.cpu().detach().numpy())\n",
    "        RCopy.append(R_cur.cpu().detach().numpy())\n",
    "\n",
    "        loss = criterion(yPred,R_cur.to(device))\n",
    "        RMSElosses.append(loss.item())\n",
    "        loss.backward()\n",
    "        optim.step()\n",
    "\n",
    "    avRMSE.append(np.array(RMSElosses).mean())\n",
    "    r2Scores.append(r2_score(np.vstack(RCopy),np.vstack(predicted)))\n",
    "    \n",
    "    if epoch % trainParams['verbose'] == 0:\n",
    "        print(f'Epoch {epoch+1} :: av. RMSE:',avRMSE[-1],':: R^2:',r2Scores[-1]) \n",
    "\n",
    "del RCopy\n",
    "del predicted\n",
    "del RMSElosses"
   ]
  },
  {
   "cell_type": "markdown",
   "metadata": {},
   "source": [
    "Full gradient Adam without ALS:"
   ]
  },
  {
   "cell_type": "code",
   "execution_count": 159,
   "metadata": {},
   "outputs": [
    {
     "data": {
      "image/png": "[encoded data removed]",
      "text/plain": [
       "<Figure size 700x300 with 2 Axes>"
      ]
     },
     "metadata": {},
     "output_type": "display_data"
    }
   ],
   "source": [
    "import matplotlib.pyplot as plt\n",
    "\n",
    "fig, axs = plt.subplots(1,2,figsize=(7,3))\n",
    "axs[0].plot(list(range(1,11)),avRMSE,label='av. RMSE')\n",
    "axs[1].plot(list(range(1,11)),r2Scores,c='red')\n",
    "axs[0].set(\n",
    "    xlabel='Epoch',\n",
    "    title='av. RMSE')\n",
    "axs[1].set(\n",
    "    xlabel='Epoch',\n",
    "    title='R^2',)\n",
    "fig.tight_layout()"
   ]
  },
  {
   "cell_type": "markdown",
   "metadata": {},
   "source": [
    "Results look quite promising and we can ideed see that the learning curve using ALS is a bit steeper in comparison to the case without ALS, which proves that ALS optimization might be more applicable to matrices of sparsity of $\\geq 93\\%$ (the percentage is calculated in the cell with building the $R$ matrix)"
   ]
  },
  {
   "cell_type": "markdown",
   "metadata": {},
   "source": [
    "#### Testing trained explicit MF on some data\n",
    "First we pull the data on ids of movies and their correponding titles"
   ]
  },
  {
   "cell_type": "code",
   "execution_count": 28,
   "metadata": {},
   "outputs": [
    {
     "data": {
      "text/html": [
       "<div><style>\n",
       ".dataframe > thead > tr,\n",
       ".dataframe > tbody > tr {\n",
       "  text-align: right;\n",
       "  white-space: pre-wrap;\n",
       "}\n",
       "</style>\n",
       "<small>shape: (2, 2)</small><table border=\"1\" class=\"dataframe\"><thead><tr><th>id</th><th>title</th></tr><tr><td>i64</td><td>str</td></tr></thead><tbody><tr><td>1</td><td>&quot;Toy Story (1995)&quot;</td></tr><tr><td>2</td><td>&quot;GoldenEye (1995)&quot;</td></tr></tbody></table></div>"
      ],
      "text/plain": [
       "shape: (2, 2)\n",
       "┌─────┬──────────────────┐\n",
       "│ id  ┆ title            │\n",
       "│ --- ┆ ---              │\n",
       "│ i64 ┆ str              │\n",
       "╞═════╪══════════════════╡\n",
       "│ 1   ┆ Toy Story (1995) │\n",
       "│ 2   ┆ GoldenEye (1995) │\n",
       "└─────┴──────────────────┘"
      ]
     },
     "execution_count": 28,
     "metadata": {},
     "output_type": "execute_result"
    }
   ],
   "source": [
    "ds_path = './data/recsys/movielens/u.item'\n",
    "mov_df = pl.read_csv(ds_path, separator='|', \n",
    "                 has_header=False, encoding='Windows-1251')\n",
    "mov_df = mov_df.rename({'column_1': 'id', 'column_2': 'title'})\n",
    "mov_df = mov_df.select(['id','title'])\n",
    "mov_df.head(2)"
   ]
  },
  {
   "cell_type": "markdown",
   "metadata": {},
   "source": [
    "Using approximated $U$ and $I$ matrices we can now do things like recommending movies to a particular user (ranking them based on assumed rating he might give them):"
   ]
  },
  {
   "cell_type": "code",
   "execution_count": 38,
   "metadata": {},
   "outputs": [],
   "source": [
    "def createUsrEmbed(userId):\n",
    "    \"\"\" \n",
    "    Provide an embedding for a given user upon all\n",
    "    other movies\n",
    "    \"\"\"\n",
    "\n",
    "    model.eval()\n",
    "    userIndex, itemsIndices = torch.Tensor([usr2idx[userId]]).type(torch.int64).to(device), \\\n",
    "        torch.arange(0,len(mov2idx)).to(device)\n",
    "    with torch.no_grad():\n",
    "        embedding = model.U(userIndex) @ model.I(itemsIndices).permute(1,0)\n",
    "    model.train()\n",
    "    return embedding.cpu().detach()"
   ]
  },
  {
   "cell_type": "code",
   "execution_count": 53,
   "metadata": {},
   "outputs": [
    {
     "data": {
      "text/html": [
       "<div><style>\n",
       ".dataframe > thead > tr,\n",
       ".dataframe > tbody > tr {\n",
       "  text-align: right;\n",
       "  white-space: pre-wrap;\n",
       "}\n",
       "</style>\n",
       "<small>shape: (5, 2)</small><table border=\"1\" class=\"dataframe\"><thead><tr><th>id</th><th>title</th></tr><tr><td>i64</td><td>str</td></tr></thead><tbody><tr><td>52</td><td>&quot;Madness of King George, The (1…</td></tr><tr><td>96</td><td>&quot;Terminator 2: Judgment Day (19…</td></tr><tr><td>182</td><td>&quot;GoodFellas (1990)&quot;</td></tr><tr><td>217</td><td>&quot;Bram Stoker&#x27;s Dracula (1992)&quot;</td></tr><tr><td>357</td><td>&quot;One Flew Over the Cuckoo&#x27;s Nes…</td></tr></tbody></table></div>"
      ],
      "text/plain": [
       "shape: (5, 2)\n",
       "┌─────┬─────────────────────────────────┐\n",
       "│ id  ┆ title                           │\n",
       "│ --- ┆ ---                             │\n",
       "│ i64 ┆ str                             │\n",
       "╞═════╪═════════════════════════════════╡\n",
       "│ 52  ┆ Madness of King George, The (1… │\n",
       "│ 96  ┆ Terminator 2: Judgment Day (19… │\n",
       "│ 182 ┆ GoodFellas (1990)               │\n",
       "│ 217 ┆ Bram Stoker's Dracula (1992)    │\n",
       "│ 357 ┆ One Flew Over the Cuckoo's Nes… │\n",
       "└─────┴─────────────────────────────────┘"
      ]
     },
     "execution_count": 53,
     "metadata": {},
     "output_type": "execute_result"
    }
   ],
   "source": [
    "# using a user embedding we can rank movies based on predicted\n",
    "# ratings a user might give it\n",
    "\n",
    "embeddings = createUsrEmbed(df.get_column('user_id').sample(1).item()).squeeze(0)\n",
    "mov_df.filter(pl.col('id').is_in(\n",
    "    embeddings.argsort(descending=True)[:5].tolist()\n",
    "))"
   ]
  },
  {
   "cell_type": "markdown",
   "metadata": {},
   "source": [
    "Or find closest neighbours based on cosine similarity between embeddings in $I$ and allow finding search-based recommendations: "
   ]
  },
  {
   "cell_type": "code",
   "execution_count": 62,
   "metadata": {},
   "outputs": [],
   "source": [
    "from torch.nn.functional import cosine_similarity as cossim\n",
    "\n",
    "idx2mov = {v: k for k, v in mov2idx.items()}\n",
    "\n",
    "def getTopK(k: int, movId: int):\n",
    "    \"\"\"\n",
    "    Get top k movies for particular movie with id=movId\n",
    "    \"\"\"\n",
    "\n",
    "    movIndex, movIndices = torch.Tensor([mov2idx[movId]]).type(torch.int64).to(device), \\\n",
    "        torch.arange(0,len(mov2idx)).to(device)\n",
    "\n",
    "    model.eval()\n",
    "    with torch.no_grad():\n",
    "        topKIndices = cossim(model.I(movIndex), \n",
    "                             model.I(movIndices))\\\n",
    "                                .argsort(descending=True)[:k]\n",
    "    model.train()\n",
    "\n",
    "    return [idx2mov[idx.item()] for idx in topKIndices]"
   ]
  },
  {
   "cell_type": "markdown",
   "metadata": {},
   "source": [
    "We can then try getting top 10 movies for the \"Terminator 2\". As we can see in just $16$ latent factors we've managed to capture a pretty good amount of information, as all of recommendations match the movie's genre with some even casting Schwarzenegger as well:"
   ]
  },
  {
   "cell_type": "code",
   "execution_count": 65,
   "metadata": {},
   "outputs": [
    {
     "data": {
      "text/html": [
       "<div><style>\n",
       ".dataframe > thead > tr,\n",
       ".dataframe > tbody > tr {\n",
       "  text-align: right;\n",
       "  white-space: pre-wrap;\n",
       "}\n",
       "</style>\n",
       "<small>shape: (10, 2)</small><table border=\"1\" class=\"dataframe\"><thead><tr><th>id</th><th>title</th></tr><tr><td>i64</td><td>str</td></tr></thead><tbody><tr><td>2</td><td>&quot;GoldenEye (1995)&quot;</td></tr><tr><td>82</td><td>&quot;Jurassic Park (1993)&quot;</td></tr><tr><td>96</td><td>&quot;Terminator 2: Judgment Day (19…</td></tr><tr><td>144</td><td>&quot;Die Hard (1988)&quot;</td></tr><tr><td>176</td><td>&quot;Aliens (1986)&quot;</td></tr><tr><td>195</td><td>&quot;Terminator, The (1984)&quot;</td></tr><tr><td>233</td><td>&quot;Under Siege (1992)&quot;</td></tr><tr><td>385</td><td>&quot;True Lies (1994)&quot;</td></tr><tr><td>568</td><td>&quot;Speed (1994)&quot;</td></tr><tr><td>578</td><td>&quot;Demolition Man (1993)&quot;</td></tr></tbody></table></div>"
      ],
      "text/plain": [
       "shape: (10, 2)\n",
       "┌─────┬─────────────────────────────────┐\n",
       "│ id  ┆ title                           │\n",
       "│ --- ┆ ---                             │\n",
       "│ i64 ┆ str                             │\n",
       "╞═════╪═════════════════════════════════╡\n",
       "│ 2   ┆ GoldenEye (1995)                │\n",
       "│ 82  ┆ Jurassic Park (1993)            │\n",
       "│ 96  ┆ Terminator 2: Judgment Day (19… │\n",
       "│ 144 ┆ Die Hard (1988)                 │\n",
       "│ 176 ┆ Aliens (1986)                   │\n",
       "│ 195 ┆ Terminator, The (1984)          │\n",
       "│ 233 ┆ Under Siege (1992)              │\n",
       "│ 385 ┆ True Lies (1994)                │\n",
       "│ 568 ┆ Speed (1994)                    │\n",
       "│ 578 ┆ Demolition Man (1993)           │\n",
       "└─────┴─────────────────────────────────┘"
      ]
     },
     "execution_count": 65,
     "metadata": {},
     "output_type": "execute_result"
    }
   ],
   "source": [
    "terminatorID = 96\n",
    "mov_df.filter(pl.col('id').is_in(\n",
    "    getTopK(10,terminatorID)\n",
    "))"
   ]
  }
 ],
 "metadata": {
  "kernelspec": {
   "display_name": "intensive",
   "language": "python",
   "name": "python3"
  },
  "language_info": {
   "codemirror_mode": {
    "name": "ipython",
    "version": 3
   },
   "file_extension": ".py",
   "mimetype": "text/x-python",
   "name": "python",
   "nbconvert_exporter": "python",
   "pygments_lexer": "ipython3",
   "version": "3.11.5"
  }
 },
 "nbformat": 4,
 "nbformat_minor": 2
}
